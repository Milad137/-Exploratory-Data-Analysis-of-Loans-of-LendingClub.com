{
 "cells": [
  {
   "cell_type": "code",
   "execution_count": 1,
   "metadata": {},
   "outputs": [
    {
     "data": {
      "text/html": [
       "<script>requirejs.config({paths: { 'plotly': ['https://cdn.plot.ly/plotly-latest.min']},});if(!window.Plotly) {{require(['plotly'],function(plotly) {window.Plotly=plotly;});}}</script>"
      ],
      "text/vnd.plotly.v1+html": [
       "<script>requirejs.config({paths: { 'plotly': ['https://cdn.plot.ly/plotly-latest.min']},});if(!window.Plotly) {{require(['plotly'],function(plotly) {window.Plotly=plotly;});}}</script>"
      ]
     },
     "metadata": {},
     "output_type": "display_data"
    }
   ],
   "source": [
    "import plotly.graph_objs as go\n",
    "# import plotly.plotly as py\n",
    "import plotly.offline as py\n",
    "py.init_notebook_mode(connected=True)\n",
    "import pandas as pd"
   ]
  },
  {
   "cell_type": "code",
   "execution_count": 2,
   "metadata": {},
   "outputs": [],
   "source": [
    "# Read data and create Year column based on Issue Date\n",
    "df=pd.read_excel('Dash Data.xlsx')\n",
    "df['Issue Date']=pd.to_datetime(df['Issue Date'])\n",
    "df['Year']=df['Issue Date'].apply(lambda x: x.year)\n",
    "df['Purpose']=df['Purpose'].str.replace(\"_\",\" \").str.title()"
   ]
  },
  {
   "cell_type": "code",
   "execution_count": 3,
   "metadata": {},
   "outputs": [
    {
     "data": {
      "text/html": [
       "<div>\n",
       "<style scoped>\n",
       "    .dataframe tbody tr th:only-of-type {\n",
       "        vertical-align: middle;\n",
       "    }\n",
       "\n",
       "    .dataframe tbody tr th {\n",
       "        vertical-align: top;\n",
       "    }\n",
       "\n",
       "    .dataframe thead th {\n",
       "        text-align: right;\n",
       "    }\n",
       "</style>\n",
       "<table border=\"1\" class=\"dataframe\">\n",
       "  <thead>\n",
       "    <tr style=\"text-align: right;\">\n",
       "      <th></th>\n",
       "      <th>Funded Amount</th>\n",
       "      <th>Interest Rate</th>\n",
       "      <th>Home Ownership</th>\n",
       "      <th>Income</th>\n",
       "      <th>Purpose</th>\n",
       "      <th>Repayment</th>\n",
       "      <th>Loan</th>\n",
       "      <th>Us State</th>\n",
       "      <th>State</th>\n",
       "      <th>Issue Date</th>\n",
       "      <th>Year</th>\n",
       "    </tr>\n",
       "  </thead>\n",
       "  <tbody>\n",
       "    <tr>\n",
       "      <th>0</th>\n",
       "      <td>12000.00</td>\n",
       "      <td>0.0790</td>\n",
       "      <td>RENT</td>\n",
       "      <td>62300.0</td>\n",
       "      <td>Debt Consolidation</td>\n",
       "      <td>13517.36</td>\n",
       "      <td>Fully Paid</td>\n",
       "      <td>NJ</td>\n",
       "      <td>New Jersey</td>\n",
       "      <td>2011-12-01</td>\n",
       "      <td>2011</td>\n",
       "    </tr>\n",
       "    <tr>\n",
       "      <th>1</th>\n",
       "      <td>30000.00</td>\n",
       "      <td>0.1242</td>\n",
       "      <td>RENT</td>\n",
       "      <td>80000.0</td>\n",
       "      <td>Debt Consolidation</td>\n",
       "      <td>36088.48</td>\n",
       "      <td>Fully Paid</td>\n",
       "      <td>WI</td>\n",
       "      <td>Wisconsin</td>\n",
       "      <td>2011-12-01</td>\n",
       "      <td>2011</td>\n",
       "    </tr>\n",
       "    <tr>\n",
       "      <th>2</th>\n",
       "      <td>15943.14</td>\n",
       "      <td>0.0991</td>\n",
       "      <td>RENT</td>\n",
       "      <td>65000.0</td>\n",
       "      <td>Debt Consolidation</td>\n",
       "      <td>17995.82</td>\n",
       "      <td>Fully Paid</td>\n",
       "      <td>CA</td>\n",
       "      <td>California</td>\n",
       "      <td>2011-12-01</td>\n",
       "      <td>2011</td>\n",
       "    </tr>\n",
       "    <tr>\n",
       "      <th>3</th>\n",
       "      <td>20975.00</td>\n",
       "      <td>0.1991</td>\n",
       "      <td>RENT</td>\n",
       "      <td>94500.0</td>\n",
       "      <td>Debt Consolidation</td>\n",
       "      <td>33334.08</td>\n",
       "      <td>Fully Paid</td>\n",
       "      <td>MA</td>\n",
       "      <td>Massachusetts</td>\n",
       "      <td>2011-12-01</td>\n",
       "      <td>2011</td>\n",
       "    </tr>\n",
       "    <tr>\n",
       "      <th>4</th>\n",
       "      <td>2500.00</td>\n",
       "      <td>0.1269</td>\n",
       "      <td>RENT</td>\n",
       "      <td>45000.0</td>\n",
       "      <td>Debt Consolidation</td>\n",
       "      <td>2794.67</td>\n",
       "      <td>Fully Paid</td>\n",
       "      <td>MN</td>\n",
       "      <td>Minnesota</td>\n",
       "      <td>2011-12-01</td>\n",
       "      <td>2011</td>\n",
       "    </tr>\n",
       "  </tbody>\n",
       "</table>\n",
       "</div>"
      ],
      "text/plain": [
       "   Funded Amount  Interest Rate Home Ownership   Income             Purpose  \\\n",
       "0       12000.00         0.0790           RENT  62300.0  Debt Consolidation   \n",
       "1       30000.00         0.1242           RENT  80000.0  Debt Consolidation   \n",
       "2       15943.14         0.0991           RENT  65000.0  Debt Consolidation   \n",
       "3       20975.00         0.1991           RENT  94500.0  Debt Consolidation   \n",
       "4        2500.00         0.1269           RENT  45000.0  Debt Consolidation   \n",
       "\n",
       "   Repayment        Loan Us State          State Issue Date  Year  \n",
       "0   13517.36  Fully Paid       NJ     New Jersey 2011-12-01  2011  \n",
       "1   36088.48  Fully Paid       WI      Wisconsin 2011-12-01  2011  \n",
       "2   17995.82  Fully Paid       CA     California 2011-12-01  2011  \n",
       "3   33334.08  Fully Paid       MA  Massachusetts 2011-12-01  2011  \n",
       "4    2794.67  Fully Paid       MN      Minnesota 2011-12-01  2011  "
      ]
     },
     "execution_count": 3,
     "metadata": {},
     "output_type": "execute_result"
    }
   ],
   "source": [
    "df.head()"
   ]
  },
  {
   "cell_type": "code",
   "execution_count": 4,
   "metadata": {},
   "outputs": [],
   "source": [
    "#  Group by year for bar chart data\n",
    "Plot1=df.groupby('Year').sum()[['Funded Amount', 'Repayment']]"
   ]
  },
  {
   "cell_type": "code",
   "execution_count": 5,
   "metadata": {},
   "outputs": [
    {
     "data": {
      "application/vnd.plotly.v1+json": {
       "data": [
        {
         "name": "Total Funded Amound",
         "type": "bar",
         "uid": "e29099f4-d502-11e8-96b7-b16ad29151c9",
         "x": [
          2007,
          2008,
          2009,
          2010,
          2011
         ],
         "y": [
          628334.7399999999,
          7587750.5599999875,
          45518504.12000005,
          122776776.84999979,
          253726698.09999996
         ]
        },
        {
         "name": "Total Repayment",
         "type": "bar",
         "uid": "e29099f5-d502-11e8-a5a6-b16ad29151c9",
         "x": [
          2007,
          2008,
          2009,
          2010,
          2011
         ],
         "y": [
          3873483.630000002,
          20296056.340000015,
          55811507.7800001,
          140663134.63000077,
          289333550.9599985
         ]
        }
       ],
       "layout": {
        "barmode": "group",
        "title": "Total Funded Amount & Repayment of Loans, 2007-2011"
       }
      },
      "text/html": [
       "<div id=\"1d41b0f9-9f4d-419f-91d8-befd7e9f2945\" style=\"height: 525px; width: 100%;\" class=\"plotly-graph-div\"></div><script type=\"text/javascript\">require([\"plotly\"], function(Plotly) { window.PLOTLYENV=window.PLOTLYENV || {};window.PLOTLYENV.BASE_URL=\"https://plot.ly\";Plotly.newPlot(\"1d41b0f9-9f4d-419f-91d8-befd7e9f2945\", [{\"name\": \"Total Funded Amound\", \"x\": [2007.0, 2008.0, 2009.0, 2010.0, 2011.0], \"y\": [628334.7399999999, 7587750.5599999875, 45518504.12000005, 122776776.84999979, 253726698.09999996], \"type\": \"bar\", \"uid\": \"e293a3d4-d502-11e8-a2a5-b16ad29151c9\"}, {\"name\": \"Total Repayment\", \"x\": [2007.0, 2008.0, 2009.0, 2010.0, 2011.0], \"y\": [3873483.630000002, 20296056.340000015, 55811507.7800001, 140663134.63000077, 289333550.9599985], \"type\": \"bar\", \"uid\": \"e293a3d5-d502-11e8-bd92-b16ad29151c9\"}], {\"barmode\": \"group\", \"title\": \"Total Funded Amount & Repayment of Loans, 2007-2011\"}, {\"showLink\": true, \"linkText\": \"Export to plot.ly\"})});</script>"
      ],
      "text/vnd.plotly.v1+html": [
       "<div id=\"1d41b0f9-9f4d-419f-91d8-befd7e9f2945\" style=\"height: 525px; width: 100%;\" class=\"plotly-graph-div\"></div><script type=\"text/javascript\">require([\"plotly\"], function(Plotly) { window.PLOTLYENV=window.PLOTLYENV || {};window.PLOTLYENV.BASE_URL=\"https://plot.ly\";Plotly.newPlot(\"1d41b0f9-9f4d-419f-91d8-befd7e9f2945\", [{\"name\": \"Total Funded Amound\", \"x\": [2007.0, 2008.0, 2009.0, 2010.0, 2011.0], \"y\": [628334.7399999999, 7587750.5599999875, 45518504.12000005, 122776776.84999979, 253726698.09999996], \"type\": \"bar\", \"uid\": \"e293a3d4-d502-11e8-a2a5-b16ad29151c9\"}, {\"name\": \"Total Repayment\", \"x\": [2007.0, 2008.0, 2009.0, 2010.0, 2011.0], \"y\": [3873483.630000002, 20296056.340000015, 55811507.7800001, 140663134.63000077, 289333550.9599985], \"type\": \"bar\", \"uid\": \"e293a3d5-d502-11e8-bd92-b16ad29151c9\"}], {\"barmode\": \"group\", \"title\": \"Total Funded Amount & Repayment of Loans, 2007-2011\"}, {\"showLink\": true, \"linkText\": \"Export to plot.ly\"})});</script>"
      ]
     },
     "metadata": {},
     "output_type": "display_data"
    }
   ],
   "source": [
    "# Bar Chart - Funded Amount and Repayment by Year\n",
    "trace1 = go.Bar(\n",
    "    x=Plot1.index,\n",
    "    y=Plot1['Funded Amount'],\n",
    "    name='Total Funded Amound'\n",
    ")\n",
    "trace2 = go.Bar(\n",
    "    x=Plot1.index,\n",
    "    y=Plot1['Repayment'],\n",
    "    name='Total Repayment'\n",
    ")\n",
    "\n",
    "data = [trace1, trace2]\n",
    "layout = go.Layout(\n",
    "    barmode='group',\n",
    "    title=\"Total Funded Amount & Repayment of Loans, 2007-2011\"\n",
    ")\n",
    "\n",
    "fig=dict(data=data,layout=layout)\n",
    "# url_1 = py.plot(fig, filename='Funded Amount and Repayment by Year', auto_open=False)\n",
    "py.iplot(fig, filename='Plot1')"
   ]
  },
  {
   "cell_type": "code",
   "execution_count": 6,
   "metadata": {},
   "outputs": [],
   "source": [
    "Plot2=df.groupby(['Purpose','Loan']).sum()[['Funded Amount']].unstack()"
   ]
  },
  {
   "cell_type": "code",
   "execution_count": 17,
   "metadata": {},
   "outputs": [
    {
     "data": {
      "application/vnd.plotly.v1+json": {
       "data": [
        {
         "domain": {
          "x": [
           0,
           0.48
          ],
          "y": [
           0,
           1
          ]
         },
         "hole": 0.4,
         "hoverinfo": "label+value",
         "labels": [
          "Car",
          "Credit Card",
          "Debt Consolidation",
          "Educational",
          "Home Improvement",
          "House",
          "Major Purchase",
          "Medical",
          "Moving",
          "Other",
          "Renewable Energy",
          "Small Business",
          "Vacation",
          "Wedding"
         ],
         "name": "Fully Paid",
         "type": "pie",
         "uid": "f76b3364-d503-11e8-8355-b16ad29151c9",
         "values": [
          9.2,
          51.2,
          192.7,
          1.7,
          29.1,
          4.1,
          15.5,
          4.7,
          3.2,
          26.3,
          0.7,
          16.5,
          1.7,
          8
         ]
        },
        {
         "domain": {
          "x": [
           0.52,
           1
          ],
          "y": [
           0,
           1
          ]
         },
         "hole": 0.4,
         "hoverinfo": "label+value",
         "labels": [
          "Car",
          "Credit Card",
          "Debt Consolidation",
          "Educational",
          "Home Improvement",
          "House",
          "Major Purchase",
          "Medical",
          "Moving",
          "Other",
          "Renewable Energy",
          "Small Business",
          "Vacation",
          "Wedding"
         ],
         "name": "Charged Off",
         "type": "pie",
         "uid": "f76b3365-d503-11e8-a8db-b16ad29151c9",
         "values": [
          1.2,
          6.8,
          36.1,
          0.5,
          4.1,
          0.7,
          1.8,
          1,
          0.6,
          5.1,
          0.1,
          6.4,
          0.3,
          1
         ]
        }
       ],
       "layout": {
        "annotations": [
         {
          "font": {
           "size": 18
          },
          "showarrow": false,
          "text": "Fully Paid",
          "x": 0.194,
          "y": 0.5
         },
         {
          "font": {
           "size": 18
          },
          "showarrow": false,
          "text": "Charged Off",
          "x": 0.817,
          "y": 0.5
         }
        ]
       }
      },
      "text/html": [
       "<div id=\"23227ba5-f511-4276-b0d4-22bd5606c57f\" style=\"height: 525px; width: 100%;\" class=\"plotly-graph-div\"></div><script type=\"text/javascript\">require([\"plotly\"], function(Plotly) { window.PLOTLYENV=window.PLOTLYENV || {};window.PLOTLYENV.BASE_URL=\"https://plot.ly\";Plotly.newPlot(\"23227ba5-f511-4276-b0d4-22bd5606c57f\", [{\"domain\": {\"x\": [0, 0.48], \"y\": [0, 1]}, \"hole\": 0.4, \"hoverinfo\": \"label+value\", \"labels\": [\"Car\", \"Credit Card\", \"Debt Consolidation\", \"Educational\", \"Home Improvement\", \"House\", \"Major Purchase\", \"Medical\", \"Moving\", \"Other\", \"Renewable Energy\", \"Small Business\", \"Vacation\", \"Wedding\"], \"name\": \"Fully Paid\", \"values\": [9.2, 51.2, 192.7, 1.7, 29.1, 4.1, 15.5, 4.7, 3.2, 26.3, 0.7, 16.5, 1.7, 8.0], \"type\": \"pie\", \"uid\": \"f76f763e-d503-11e8-81e9-b16ad29151c9\"}, {\"domain\": {\"x\": [0.52, 1], \"y\": [0, 1]}, \"hole\": 0.4, \"hoverinfo\": \"label+value\", \"labels\": [\"Car\", \"Credit Card\", \"Debt Consolidation\", \"Educational\", \"Home Improvement\", \"House\", \"Major Purchase\", \"Medical\", \"Moving\", \"Other\", \"Renewable Energy\", \"Small Business\", \"Vacation\", \"Wedding\"], \"name\": \"Charged Off\", \"values\": [1.2, 6.8, 36.1, 0.5, 4.1, 0.7, 1.8, 1.0, 0.6, 5.1, 0.1, 6.4, 0.3, 1.0], \"type\": \"pie\", \"uid\": \"f76f763f-d503-11e8-ba16-b16ad29151c9\"}], {\"annotations\": [{\"font\": {\"size\": 18}, \"showarrow\": false, \"text\": \"Fully Paid\", \"x\": 0.194, \"y\": 0.5}, {\"font\": {\"size\": 18}, \"showarrow\": false, \"text\": \"Charged Off\", \"x\": 0.817, \"y\": 0.5}]}, {\"showLink\": true, \"linkText\": \"Export to plot.ly\"})});</script>"
      ],
      "text/vnd.plotly.v1+html": [
       "<div id=\"23227ba5-f511-4276-b0d4-22bd5606c57f\" style=\"height: 525px; width: 100%;\" class=\"plotly-graph-div\"></div><script type=\"text/javascript\">require([\"plotly\"], function(Plotly) { window.PLOTLYENV=window.PLOTLYENV || {};window.PLOTLYENV.BASE_URL=\"https://plot.ly\";Plotly.newPlot(\"23227ba5-f511-4276-b0d4-22bd5606c57f\", [{\"domain\": {\"x\": [0, 0.48], \"y\": [0, 1]}, \"hole\": 0.4, \"hoverinfo\": \"label+value\", \"labels\": [\"Car\", \"Credit Card\", \"Debt Consolidation\", \"Educational\", \"Home Improvement\", \"House\", \"Major Purchase\", \"Medical\", \"Moving\", \"Other\", \"Renewable Energy\", \"Small Business\", \"Vacation\", \"Wedding\"], \"name\": \"Fully Paid\", \"values\": [9.2, 51.2, 192.7, 1.7, 29.1, 4.1, 15.5, 4.7, 3.2, 26.3, 0.7, 16.5, 1.7, 8.0], \"type\": \"pie\", \"uid\": \"f76f763e-d503-11e8-81e9-b16ad29151c9\"}, {\"domain\": {\"x\": [0.52, 1], \"y\": [0, 1]}, \"hole\": 0.4, \"hoverinfo\": \"label+value\", \"labels\": [\"Car\", \"Credit Card\", \"Debt Consolidation\", \"Educational\", \"Home Improvement\", \"House\", \"Major Purchase\", \"Medical\", \"Moving\", \"Other\", \"Renewable Energy\", \"Small Business\", \"Vacation\", \"Wedding\"], \"name\": \"Charged Off\", \"values\": [1.2, 6.8, 36.1, 0.5, 4.1, 0.7, 1.8, 1.0, 0.6, 5.1, 0.1, 6.4, 0.3, 1.0], \"type\": \"pie\", \"uid\": \"f76f763f-d503-11e8-ba16-b16ad29151c9\"}], {\"annotations\": [{\"font\": {\"size\": 18}, \"showarrow\": false, \"text\": \"Fully Paid\", \"x\": 0.194, \"y\": 0.5}, {\"font\": {\"size\": 18}, \"showarrow\": false, \"text\": \"Charged Off\", \"x\": 0.817, \"y\": 0.5}]}, {\"showLink\": true, \"linkText\": \"Export to plot.ly\"})});</script>"
      ]
     },
     "metadata": {},
     "output_type": "display_data"
    }
   ],
   "source": [
    "# Donut Chart - Funded Amount by purpose and loan\n",
    "\n",
    "fig = {\n",
    "  \"data\": [\n",
    "    {\n",
    "      \"values\": (Plot2[\"Funded Amount\"][\"Fully Paid\"]/1000000).round(1),\n",
    "      \"labels\": Plot2.index.str.replace(\"_\",\" \").str.title(),\n",
    "      \"domain\": {\"x\": [0, .48],\"y\": [0, 1]},\n",
    "      \"name\": \"Fully Paid\",\n",
    "      \"hoverinfo\":\"label+value\",\n",
    "      \"hole\": .4,\n",
    "      \"type\": \"pie\"\n",
    "    },\n",
    "    {\n",
    "      \"values\": (Plot2[\"Funded Amount\"][\"Charged Off\"]/1000000).round(1),\n",
    "      \"labels\": Plot2.index,\n",
    "      \"domain\": {\"x\": [.52, 1],\"y\": [0, 1]},\n",
    "      \"name\": \"Charged Off\",\n",
    "      \"hoverinfo\":\"label+value\",\n",
    "      \"hole\": .4,\n",
    "      \"type\": \"pie\"\n",
    "    }],\n",
    "  \"layout\": {\n",
    "#         \"title\":\"Funded Amount($1M) by Purpose and Loan Status, 2007-2011\",\n",
    "        \"annotations\": [\n",
    "            {\n",
    "                \n",
    "                \"font\": {\n",
    "                    \"size\": 18\n",
    "                },\n",
    "                \"showarrow\": False,\n",
    "                \"text\": \"Fully Paid\",\n",
    "                \"x\": 0.194,\n",
    "                \"y\": 0.5\n",
    "            },\n",
    "            {\n",
    "                \"font\": {\n",
    "                    \"size\": 18\n",
    "                },\n",
    "                \"showarrow\": False,\n",
    "                \"text\": \"Charged Off\",\n",
    "                \"x\": 0.817,\n",
    "                \"y\": 0.5\n",
    "            }\n",
    "        ]\n",
    "    }\n",
    "}\n",
    "py.iplot(fig, filename='Plot2')"
   ]
  },
  {
   "cell_type": "code",
   "execution_count": 8,
   "metadata": {},
   "outputs": [
    {
     "data": {
      "text/html": [
       "<div>\n",
       "<style scoped>\n",
       "    .dataframe tbody tr th:only-of-type {\n",
       "        vertical-align: middle;\n",
       "    }\n",
       "\n",
       "    .dataframe tbody tr th {\n",
       "        vertical-align: top;\n",
       "    }\n",
       "\n",
       "    .dataframe thead tr th {\n",
       "        text-align: left;\n",
       "    }\n",
       "\n",
       "    .dataframe thead tr:last-of-type th {\n",
       "        text-align: right;\n",
       "    }\n",
       "</style>\n",
       "<table border=\"1\" class=\"dataframe\">\n",
       "  <thead>\n",
       "    <tr>\n",
       "      <th></th>\n",
       "      <th>Funded Amount</th>\n",
       "      <th>Income</th>\n",
       "      <th>Interest Rate</th>\n",
       "      <th>State</th>\n",
       "    </tr>\n",
       "    <tr>\n",
       "      <th></th>\n",
       "      <th>sum</th>\n",
       "      <th>mean</th>\n",
       "      <th>mean</th>\n",
       "      <th>max</th>\n",
       "    </tr>\n",
       "    <tr>\n",
       "      <th>Us State</th>\n",
       "      <th></th>\n",
       "      <th></th>\n",
       "      <th></th>\n",
       "      <th></th>\n",
       "    </tr>\n",
       "  </thead>\n",
       "  <tbody>\n",
       "    <tr>\n",
       "      <th>AK</th>\n",
       "      <td>997062.18</td>\n",
       "      <td>78902.430698</td>\n",
       "      <td>0.128609</td>\n",
       "      <td>Alaska</td>\n",
       "    </tr>\n",
       "    <tr>\n",
       "      <th>AL</th>\n",
       "      <td>4972965.76</td>\n",
       "      <td>63319.303859</td>\n",
       "      <td>0.119506</td>\n",
       "      <td>Alabama</td>\n",
       "    </tr>\n",
       "    <tr>\n",
       "      <th>AR</th>\n",
       "      <td>2513922.84</td>\n",
       "      <td>59996.183154</td>\n",
       "      <td>0.117417</td>\n",
       "      <td>Arkansas</td>\n",
       "    </tr>\n",
       "    <tr>\n",
       "      <th>AZ</th>\n",
       "      <td>9158636.29</td>\n",
       "      <td>67920.804212</td>\n",
       "      <td>0.123248</td>\n",
       "      <td>Arizona</td>\n",
       "    </tr>\n",
       "    <tr>\n",
       "      <th>CA</th>\n",
       "      <td>76838224.24</td>\n",
       "      <td>72258.747861</td>\n",
       "      <td>0.122144</td>\n",
       "      <td>California</td>\n",
       "    </tr>\n",
       "  </tbody>\n",
       "</table>\n",
       "</div>"
      ],
      "text/plain": [
       "         Funded Amount        Income Interest Rate       State\n",
       "                   sum          mean          mean         max\n",
       "Us State                                                      \n",
       "AK           997062.18  78902.430698      0.128609      Alaska\n",
       "AL          4972965.76  63319.303859      0.119506     Alabama\n",
       "AR          2513922.84  59996.183154      0.117417    Arkansas\n",
       "AZ          9158636.29  67920.804212      0.123248     Arizona\n",
       "CA         76838224.24  72258.747861      0.122144  California"
      ]
     },
     "execution_count": 8,
     "metadata": {},
     "output_type": "execute_result"
    }
   ],
   "source": [
    "f = {'Funded Amount':['sum'], 'Income':['mean'],'Interest Rate':['mean'],'State':['max']}\n",
    "Plot3=df.groupby('Us State').agg(f)\n",
    "Plot3.head()"
   ]
  },
  {
   "cell_type": "code",
   "execution_count": 9,
   "metadata": {},
   "outputs": [],
   "source": [
    "TFA='Total Funded Amount $'+(Plot3['Funded Amount']['sum']/1000000).round(3).astype('str')+'MM'+'<br>'\n",
    "ANI='Average Annual Income $'+(Plot3['Income']['mean']/1000).round(0).astype('str')+'K'+'<br>'\n",
    "AIR='Average Interest Rate '+(Plot3['Interest Rate']['mean']*100).round(0).astype('str')+'%'\n",
    "Text =Plot3['State']['max'] + '<br>'+TFA+ANI+AIR"
   ]
  },
  {
   "cell_type": "code",
   "execution_count": 10,
   "metadata": {},
   "outputs": [
    {
     "data": {
      "application/vnd.plotly.v1+json": {
       "data": [
        {
         "autocolorscale": false,
         "colorbar": {
          "title": "Millions USD"
         },
         "colorscale": [
          [
           0,
           "rgb(242,240,247)"
          ],
          [
           0.2,
           "rgb(218,218,235)"
          ],
          [
           0.4,
           "rgb(188,189,220)"
          ],
          [
           0.6,
           "rgb(158,154,200)"
          ],
          [
           0.8,
           "rgb(117,107,177)"
          ],
          [
           1,
           "rgb(84,39,143)"
          ]
         ],
         "hoverinfo": "text",
         "locationmode": "USA-states",
         "locations": [
          "AK",
          "AL",
          "AR",
          "AZ",
          "CA",
          "CO",
          "CT",
          "DC",
          "DE",
          "FL",
          "GA",
          "HI",
          "IA",
          "ID",
          "IL",
          "IN",
          "KS",
          "KY",
          "LA",
          "MA",
          "MD",
          "ME",
          "MI",
          "MN",
          "MO",
          "MS",
          "MT",
          "NC",
          "NE",
          "NH",
          "NJ",
          "NM",
          "NV",
          "NY",
          "OH",
          "OK",
          "OR",
          "PA",
          "RI",
          "SC",
          "SD",
          "TN",
          "TX",
          "UT",
          "VA",
          "VT",
          "WA",
          "WI",
          "WV",
          "WY"
         ],
         "marker": {
          "line": {
           "color": "rgb(255,255,255)",
           "width": 2
          }
         },
         "text": [
          "Alaska<br>Total Funded Amount $0.997MM<br>Average Annual Income $79.0K<br>Average Interest Rate 13.0%",
          "Alabama<br>Total Funded Amount $4.973MM<br>Average Annual Income $63.0K<br>Average Interest Rate 12.0%",
          "Arkansas<br>Total Funded Amount $2.514MM<br>Average Annual Income $60.0K<br>Average Interest Rate 12.0%",
          "Arizona<br>Total Funded Amount $9.159MM<br>Average Annual Income $68.0K<br>Average Interest Rate 12.0%",
          "California<br>Total Funded Amount $76.838MM<br>Average Annual Income $72.0K<br>Average Interest Rate 12.0%",
          "Colorado<br>Total Funded Amount $8.712MM<br>Average Annual Income $67.0K<br>Average Interest Rate 12.0%",
          "Connecticut<br>Total Funded Amount $8.512MM<br>Average Annual Income $76.0K<br>Average Interest Rate 12.0%",
          "District of Columbia<br>Total Funded Amount $2.468MM<br>Average Annual Income $78.0K<br>Average Interest Rate 12.0%",
          "Delaware<br>Total Funded Amount $1.248MM<br>Average Annual Income $70.0K<br>Average Interest Rate 12.0%",
          "Florida<br>Total Funded Amount $29.512MM<br>Average Annual Income $65.0K<br>Average Interest Rate 12.0%",
          "Georgia<br>Total Funded Amount $15.115MM<br>Average Annual Income $69.0K<br>Average Interest Rate 12.0%",
          "Hawaii<br>Total Funded Amount $1.868MM<br>Average Annual Income $65.0K<br>Average Interest Rate 13.0%",
          "Iowa<br>Total Funded Amount $0.035MM<br>Average Annual Income $46.0K<br>Average Interest Rate 12.0%",
          "Idaho<br>Total Funded Amount $0.06MM<br>Average Annual Income $48.0K<br>Average Interest Rate 12.0%",
          "Illinois<br>Total Funded Amount $17.576MM<br>Average Annual Income $70.0K<br>Average Interest Rate 12.0%",
          "Indiana<br>Total Funded Amount $0.014MM<br>Average Annual Income $29.0K<br>Average Interest Rate 12.0%",
          "Kansas<br>Total Funded Amount $2.889MM<br>Average Annual Income $62.0K<br>Average Interest Rate 12.0%",
          "Kentucky<br>Total Funded Amount $3.677MM<br>Average Annual Income $61.0K<br>Average Interest Rate 12.0%",
          "Louisiana<br>Total Funded Amount $4.453MM<br>Average Annual Income $73.0K<br>Average Interest Rate 12.0%",
          "Massachusetts<br>Total Funded Amount $14.759MM<br>Average Annual Income $73.0K<br>Average Interest Rate 12.0%",
          "Maryland<br>Total Funded Amount $11.707MM<br>Average Annual Income $78.0K<br>Average Interest Rate 13.0%",
          "Maine<br>Total Funded Amount $0.003MM<br>Average Annual Income $26.0K<br>Average Interest Rate 10.0%",
          "Michigan<br>Total Funded Amount $7.947MM<br>Average Annual Income $66.0K<br>Average Interest Rate 12.0%",
          "Minnesota<br>Total Funded Amount $6.17MM<br>Average Annual Income $60.0K<br>Average Interest Rate 12.0%",
          "Missouri<br>Total Funded Amount $7.325MM<br>Average Annual Income $61.0K<br>Average Interest Rate 12.0%",
          "Mississippi<br>Total Funded Amount $0.118MM<br>Average Annual Income $56.0K<br>Average Interest Rate 12.0%",
          "Montana<br>Total Funded Amount $0.891MM<br>Average Annual Income $62.0K<br>Average Interest Rate 12.0%",
          "North Carolina<br>Total Funded Amount $8.488MM<br>Average Annual Income $65.0K<br>Average Interest Rate 12.0%",
          "Nebraska<br>Total Funded Amount $0.022MM<br>Average Annual Income $46.0K<br>Average Interest Rate 13.0%",
          "New Hampshire<br>Total Funded Amount $1.98MM<br>Average Annual Income $69.0K<br>Average Interest Rate 12.0%",
          "New Jersey<br>Total Funded Amount $20.955MM<br>Average Annual Income $75.0K<br>Average Interest Rate 12.0%",
          "New Mexico<br>Total Funded Amount $1.854MM<br>Average Annual Income $82.0K<br>Average Interest Rate 12.0%",
          "Nevada<br>Total Funded Amount $5.199MM<br>Average Annual Income $69.0K<br>Average Interest Rate 13.0%",
          "New York<br>Total Funded Amount $41.236MM<br>Average Annual Income $72.0K<br>Average Interest Rate 12.0%",
          "Ohio<br>Total Funded Amount $13.121MM<br>Average Annual Income $60.0K<br>Average Interest Rate 12.0%",
          "Oklahoma<br>Total Funded Amount $3.332MM<br>Average Annual Income $62.0K<br>Average Interest Rate 12.0%",
          "Oregon<br>Total Funded Amount $4.603MM<br>Average Annual Income $58.0K<br>Average Interest Rate 12.0%",
          "Pennsylvania<br>Total Funded Amount $16.149MM<br>Average Annual Income $62.0K<br>Average Interest Rate 12.0%",
          "Rhode Island<br>Total Funded Amount $1.801MM<br>Average Annual Income $68.0K<br>Average Interest Rate 12.0%",
          "South Carolina<br>Total Funded Amount $4.866MM<br>Average Annual Income $64.0K<br>Average Interest Rate 12.0%",
          "South Dakota<br>Total Funded Amount $0.61MM<br>Average Annual Income $50.0K<br>Average Interest Rate 12.0%",
          "Tennessee<br>Total Funded Amount $0.088MM<br>Average Annual Income $58.0K<br>Average Interest Rate 12.0%",
          "Texas<br>Total Funded Amount $30.631MM<br>Average Annual Income $74.0K<br>Average Interest Rate 12.0%",
          "Utah<br>Total Funded Amount $2.781MM<br>Average Annual Income $66.0K<br>Average Interest Rate 12.0%",
          "Virginia<br>Total Funded Amount $15.624MM<br>Average Annual Income $74.0K<br>Average Interest Rate 12.0%",
          "Vermont<br>Total Funded Amount $0.462MM<br>Average Annual Income $54.0K<br>Average Interest Rate 11.0%",
          "Washington<br>Total Funded Amount $8.857MM<br>Average Annual Income $67.0K<br>Average Interest Rate 12.0%",
          "Wisconsin<br>Total Funded Amount $5.185MM<br>Average Annual Income $63.0K<br>Average Interest Rate 12.0%",
          "West Virginia<br>Total Funded Amount $1.944MM<br>Average Annual Income $54.0K<br>Average Interest Rate 12.0%",
          "Wyoming<br>Total Funded Amount $0.91MM<br>Average Annual Income $60.0K<br>Average Interest Rate 13.0%"
         ],
         "type": "choropleth",
         "uid": "e2e162dc-d502-11e8-b823-b16ad29151c9",
         "z": [
          0.997,
          4.973,
          2.514,
          9.159,
          76.838,
          8.712,
          8.512,
          2.468,
          1.248,
          29.512,
          15.115,
          1.868,
          0.035,
          0.06,
          17.576,
          0.014,
          2.889,
          3.677,
          4.453,
          14.759,
          11.707,
          0.003,
          7.947,
          6.17,
          7.325,
          0.118,
          0.891,
          8.488,
          0.022,
          1.98,
          20.955,
          1.854,
          5.199,
          41.236,
          13.121,
          3.332,
          4.603,
          16.149,
          1.801,
          4.866,
          0.61,
          0.088,
          30.631,
          2.781,
          15.624,
          0.462,
          8.857,
          5.185,
          1.944,
          0.91
         ]
        }
       ],
       "layout": {
        "geo": {
         "lakecolor": "rgb(255, 255, 255)",
         "projection": {
          "type": "albers usa"
         },
         "scope": "usa",
         "showlakes": true
        },
        "title": "Total Funded Amount($1M) by State, 2007-2011<br>Hover for Average Annual Income and Interest Rate Detail"
       }
      },
      "text/html": [
       "<div id=\"8c87f33b-3be1-43c3-aebc-176edd019e0c\" style=\"height: 525px; width: 100%;\" class=\"plotly-graph-div\"></div><script type=\"text/javascript\">require([\"plotly\"], function(Plotly) { window.PLOTLYENV=window.PLOTLYENV || {};window.PLOTLYENV.BASE_URL=\"https://plot.ly\";Plotly.newPlot(\"8c87f33b-3be1-43c3-aebc-176edd019e0c\", [{\"autocolorscale\": false, \"colorbar\": {\"title\": \"Millions USD\"}, \"colorscale\": [[0.0, \"rgb(242,240,247)\"], [0.2, \"rgb(218,218,235)\"], [0.4, \"rgb(188,189,220)\"], [0.6, \"rgb(158,154,200)\"], [0.8, \"rgb(117,107,177)\"], [1.0, \"rgb(84,39,143)\"]], \"hoverinfo\": \"text\", \"locationmode\": \"USA-states\", \"locations\": [\"AK\", \"AL\", \"AR\", \"AZ\", \"CA\", \"CO\", \"CT\", \"DC\", \"DE\", \"FL\", \"GA\", \"HI\", \"IA\", \"ID\", \"IL\", \"IN\", \"KS\", \"KY\", \"LA\", \"MA\", \"MD\", \"ME\", \"MI\", \"MN\", \"MO\", \"MS\", \"MT\", \"NC\", \"NE\", \"NH\", \"NJ\", \"NM\", \"NV\", \"NY\", \"OH\", \"OK\", \"OR\", \"PA\", \"RI\", \"SC\", \"SD\", \"TN\", \"TX\", \"UT\", \"VA\", \"VT\", \"WA\", \"WI\", \"WV\", \"WY\"], \"marker\": {\"line\": {\"color\": \"rgb(255,255,255)\", \"width\": 2}}, \"text\": [\"Alaska<br>Total Funded Amount $0.997MM<br>Average Annual Income $79.0K<br>Average Interest Rate 13.0%\", \"Alabama<br>Total Funded Amount $4.973MM<br>Average Annual Income $63.0K<br>Average Interest Rate 12.0%\", \"Arkansas<br>Total Funded Amount $2.514MM<br>Average Annual Income $60.0K<br>Average Interest Rate 12.0%\", \"Arizona<br>Total Funded Amount $9.159MM<br>Average Annual Income $68.0K<br>Average Interest Rate 12.0%\", \"California<br>Total Funded Amount $76.838MM<br>Average Annual Income $72.0K<br>Average Interest Rate 12.0%\", \"Colorado<br>Total Funded Amount $8.712MM<br>Average Annual Income $67.0K<br>Average Interest Rate 12.0%\", \"Connecticut<br>Total Funded Amount $8.512MM<br>Average Annual Income $76.0K<br>Average Interest Rate 12.0%\", \"District of Columbia<br>Total Funded Amount $2.468MM<br>Average Annual Income $78.0K<br>Average Interest Rate 12.0%\", \"Delaware<br>Total Funded Amount $1.248MM<br>Average Annual Income $70.0K<br>Average Interest Rate 12.0%\", \"Florida<br>Total Funded Amount $29.512MM<br>Average Annual Income $65.0K<br>Average Interest Rate 12.0%\", \"Georgia<br>Total Funded Amount $15.115MM<br>Average Annual Income $69.0K<br>Average Interest Rate 12.0%\", \"Hawaii<br>Total Funded Amount $1.868MM<br>Average Annual Income $65.0K<br>Average Interest Rate 13.0%\", \"Iowa<br>Total Funded Amount $0.035MM<br>Average Annual Income $46.0K<br>Average Interest Rate 12.0%\", \"Idaho<br>Total Funded Amount $0.06MM<br>Average Annual Income $48.0K<br>Average Interest Rate 12.0%\", \"Illinois<br>Total Funded Amount $17.576MM<br>Average Annual Income $70.0K<br>Average Interest Rate 12.0%\", \"Indiana<br>Total Funded Amount $0.014MM<br>Average Annual Income $29.0K<br>Average Interest Rate 12.0%\", \"Kansas<br>Total Funded Amount $2.889MM<br>Average Annual Income $62.0K<br>Average Interest Rate 12.0%\", \"Kentucky<br>Total Funded Amount $3.677MM<br>Average Annual Income $61.0K<br>Average Interest Rate 12.0%\", \"Louisiana<br>Total Funded Amount $4.453MM<br>Average Annual Income $73.0K<br>Average Interest Rate 12.0%\", \"Massachusetts<br>Total Funded Amount $14.759MM<br>Average Annual Income $73.0K<br>Average Interest Rate 12.0%\", \"Maryland<br>Total Funded Amount $11.707MM<br>Average Annual Income $78.0K<br>Average Interest Rate 13.0%\", \"Maine<br>Total Funded Amount $0.003MM<br>Average Annual Income $26.0K<br>Average Interest Rate 10.0%\", \"Michigan<br>Total Funded Amount $7.947MM<br>Average Annual Income $66.0K<br>Average Interest Rate 12.0%\", \"Minnesota<br>Total Funded Amount $6.17MM<br>Average Annual Income $60.0K<br>Average Interest Rate 12.0%\", \"Missouri<br>Total Funded Amount $7.325MM<br>Average Annual Income $61.0K<br>Average Interest Rate 12.0%\", \"Mississippi<br>Total Funded Amount $0.118MM<br>Average Annual Income $56.0K<br>Average Interest Rate 12.0%\", \"Montana<br>Total Funded Amount $0.891MM<br>Average Annual Income $62.0K<br>Average Interest Rate 12.0%\", \"North Carolina<br>Total Funded Amount $8.488MM<br>Average Annual Income $65.0K<br>Average Interest Rate 12.0%\", \"Nebraska<br>Total Funded Amount $0.022MM<br>Average Annual Income $46.0K<br>Average Interest Rate 13.0%\", \"New Hampshire<br>Total Funded Amount $1.98MM<br>Average Annual Income $69.0K<br>Average Interest Rate 12.0%\", \"New Jersey<br>Total Funded Amount $20.955MM<br>Average Annual Income $75.0K<br>Average Interest Rate 12.0%\", \"New Mexico<br>Total Funded Amount $1.854MM<br>Average Annual Income $82.0K<br>Average Interest Rate 12.0%\", \"Nevada<br>Total Funded Amount $5.199MM<br>Average Annual Income $69.0K<br>Average Interest Rate 13.0%\", \"New York<br>Total Funded Amount $41.236MM<br>Average Annual Income $72.0K<br>Average Interest Rate 12.0%\", \"Ohio<br>Total Funded Amount $13.121MM<br>Average Annual Income $60.0K<br>Average Interest Rate 12.0%\", \"Oklahoma<br>Total Funded Amount $3.332MM<br>Average Annual Income $62.0K<br>Average Interest Rate 12.0%\", \"Oregon<br>Total Funded Amount $4.603MM<br>Average Annual Income $58.0K<br>Average Interest Rate 12.0%\", \"Pennsylvania<br>Total Funded Amount $16.149MM<br>Average Annual Income $62.0K<br>Average Interest Rate 12.0%\", \"Rhode Island<br>Total Funded Amount $1.801MM<br>Average Annual Income $68.0K<br>Average Interest Rate 12.0%\", \"South Carolina<br>Total Funded Amount $4.866MM<br>Average Annual Income $64.0K<br>Average Interest Rate 12.0%\", \"South Dakota<br>Total Funded Amount $0.61MM<br>Average Annual Income $50.0K<br>Average Interest Rate 12.0%\", \"Tennessee<br>Total Funded Amount $0.088MM<br>Average Annual Income $58.0K<br>Average Interest Rate 12.0%\", \"Texas<br>Total Funded Amount $30.631MM<br>Average Annual Income $74.0K<br>Average Interest Rate 12.0%\", \"Utah<br>Total Funded Amount $2.781MM<br>Average Annual Income $66.0K<br>Average Interest Rate 12.0%\", \"Virginia<br>Total Funded Amount $15.624MM<br>Average Annual Income $74.0K<br>Average Interest Rate 12.0%\", \"Vermont<br>Total Funded Amount $0.462MM<br>Average Annual Income $54.0K<br>Average Interest Rate 11.0%\", \"Washington<br>Total Funded Amount $8.857MM<br>Average Annual Income $67.0K<br>Average Interest Rate 12.0%\", \"Wisconsin<br>Total Funded Amount $5.185MM<br>Average Annual Income $63.0K<br>Average Interest Rate 12.0%\", \"West Virginia<br>Total Funded Amount $1.944MM<br>Average Annual Income $54.0K<br>Average Interest Rate 12.0%\", \"Wyoming<br>Total Funded Amount $0.91MM<br>Average Annual Income $60.0K<br>Average Interest Rate 13.0%\"], \"z\": [0.997, 4.973, 2.514, 9.159, 76.838, 8.712, 8.512, 2.468, 1.248, 29.512, 15.115, 1.868, 0.035, 0.06, 17.576, 0.014, 2.889, 3.677, 4.453, 14.759, 11.707, 0.003, 7.947, 6.17, 7.325, 0.118, 0.891, 8.488, 0.022, 1.98, 20.955, 1.854, 5.199, 41.236, 13.121, 3.332, 4.603, 16.149, 1.801, 4.866, 0.61, 0.088, 30.631, 2.781, 15.624, 0.462, 8.857, 5.185, 1.944, 0.91], \"type\": \"choropleth\", \"uid\": \"e2e40cec-d502-11e8-b113-b16ad29151c9\"}], {\"geo\": {\"lakecolor\": \"rgb(255, 255, 255)\", \"projection\": {\"type\": \"albers usa\"}, \"scope\": \"usa\", \"showlakes\": true}, \"title\": \"Total Funded Amount($1M) by State, 2007-2011<br>Hover for Average Annual Income and Interest Rate Detail\"}, {\"showLink\": true, \"linkText\": \"Export to plot.ly\"})});</script>"
      ],
      "text/vnd.plotly.v1+html": [
       "<div id=\"8c87f33b-3be1-43c3-aebc-176edd019e0c\" style=\"height: 525px; width: 100%;\" class=\"plotly-graph-div\"></div><script type=\"text/javascript\">require([\"plotly\"], function(Plotly) { window.PLOTLYENV=window.PLOTLYENV || {};window.PLOTLYENV.BASE_URL=\"https://plot.ly\";Plotly.newPlot(\"8c87f33b-3be1-43c3-aebc-176edd019e0c\", [{\"autocolorscale\": false, \"colorbar\": {\"title\": \"Millions USD\"}, \"colorscale\": [[0.0, \"rgb(242,240,247)\"], [0.2, \"rgb(218,218,235)\"], [0.4, \"rgb(188,189,220)\"], [0.6, \"rgb(158,154,200)\"], [0.8, \"rgb(117,107,177)\"], [1.0, \"rgb(84,39,143)\"]], \"hoverinfo\": \"text\", \"locationmode\": \"USA-states\", \"locations\": [\"AK\", \"AL\", \"AR\", \"AZ\", \"CA\", \"CO\", \"CT\", \"DC\", \"DE\", \"FL\", \"GA\", \"HI\", \"IA\", \"ID\", \"IL\", \"IN\", \"KS\", \"KY\", \"LA\", \"MA\", \"MD\", \"ME\", \"MI\", \"MN\", \"MO\", \"MS\", \"MT\", \"NC\", \"NE\", \"NH\", \"NJ\", \"NM\", \"NV\", \"NY\", \"OH\", \"OK\", \"OR\", \"PA\", \"RI\", \"SC\", \"SD\", \"TN\", \"TX\", \"UT\", \"VA\", \"VT\", \"WA\", \"WI\", \"WV\", \"WY\"], \"marker\": {\"line\": {\"color\": \"rgb(255,255,255)\", \"width\": 2}}, \"text\": [\"Alaska<br>Total Funded Amount $0.997MM<br>Average Annual Income $79.0K<br>Average Interest Rate 13.0%\", \"Alabama<br>Total Funded Amount $4.973MM<br>Average Annual Income $63.0K<br>Average Interest Rate 12.0%\", \"Arkansas<br>Total Funded Amount $2.514MM<br>Average Annual Income $60.0K<br>Average Interest Rate 12.0%\", \"Arizona<br>Total Funded Amount $9.159MM<br>Average Annual Income $68.0K<br>Average Interest Rate 12.0%\", \"California<br>Total Funded Amount $76.838MM<br>Average Annual Income $72.0K<br>Average Interest Rate 12.0%\", \"Colorado<br>Total Funded Amount $8.712MM<br>Average Annual Income $67.0K<br>Average Interest Rate 12.0%\", \"Connecticut<br>Total Funded Amount $8.512MM<br>Average Annual Income $76.0K<br>Average Interest Rate 12.0%\", \"District of Columbia<br>Total Funded Amount $2.468MM<br>Average Annual Income $78.0K<br>Average Interest Rate 12.0%\", \"Delaware<br>Total Funded Amount $1.248MM<br>Average Annual Income $70.0K<br>Average Interest Rate 12.0%\", \"Florida<br>Total Funded Amount $29.512MM<br>Average Annual Income $65.0K<br>Average Interest Rate 12.0%\", \"Georgia<br>Total Funded Amount $15.115MM<br>Average Annual Income $69.0K<br>Average Interest Rate 12.0%\", \"Hawaii<br>Total Funded Amount $1.868MM<br>Average Annual Income $65.0K<br>Average Interest Rate 13.0%\", \"Iowa<br>Total Funded Amount $0.035MM<br>Average Annual Income $46.0K<br>Average Interest Rate 12.0%\", \"Idaho<br>Total Funded Amount $0.06MM<br>Average Annual Income $48.0K<br>Average Interest Rate 12.0%\", \"Illinois<br>Total Funded Amount $17.576MM<br>Average Annual Income $70.0K<br>Average Interest Rate 12.0%\", \"Indiana<br>Total Funded Amount $0.014MM<br>Average Annual Income $29.0K<br>Average Interest Rate 12.0%\", \"Kansas<br>Total Funded Amount $2.889MM<br>Average Annual Income $62.0K<br>Average Interest Rate 12.0%\", \"Kentucky<br>Total Funded Amount $3.677MM<br>Average Annual Income $61.0K<br>Average Interest Rate 12.0%\", \"Louisiana<br>Total Funded Amount $4.453MM<br>Average Annual Income $73.0K<br>Average Interest Rate 12.0%\", \"Massachusetts<br>Total Funded Amount $14.759MM<br>Average Annual Income $73.0K<br>Average Interest Rate 12.0%\", \"Maryland<br>Total Funded Amount $11.707MM<br>Average Annual Income $78.0K<br>Average Interest Rate 13.0%\", \"Maine<br>Total Funded Amount $0.003MM<br>Average Annual Income $26.0K<br>Average Interest Rate 10.0%\", \"Michigan<br>Total Funded Amount $7.947MM<br>Average Annual Income $66.0K<br>Average Interest Rate 12.0%\", \"Minnesota<br>Total Funded Amount $6.17MM<br>Average Annual Income $60.0K<br>Average Interest Rate 12.0%\", \"Missouri<br>Total Funded Amount $7.325MM<br>Average Annual Income $61.0K<br>Average Interest Rate 12.0%\", \"Mississippi<br>Total Funded Amount $0.118MM<br>Average Annual Income $56.0K<br>Average Interest Rate 12.0%\", \"Montana<br>Total Funded Amount $0.891MM<br>Average Annual Income $62.0K<br>Average Interest Rate 12.0%\", \"North Carolina<br>Total Funded Amount $8.488MM<br>Average Annual Income $65.0K<br>Average Interest Rate 12.0%\", \"Nebraska<br>Total Funded Amount $0.022MM<br>Average Annual Income $46.0K<br>Average Interest Rate 13.0%\", \"New Hampshire<br>Total Funded Amount $1.98MM<br>Average Annual Income $69.0K<br>Average Interest Rate 12.0%\", \"New Jersey<br>Total Funded Amount $20.955MM<br>Average Annual Income $75.0K<br>Average Interest Rate 12.0%\", \"New Mexico<br>Total Funded Amount $1.854MM<br>Average Annual Income $82.0K<br>Average Interest Rate 12.0%\", \"Nevada<br>Total Funded Amount $5.199MM<br>Average Annual Income $69.0K<br>Average Interest Rate 13.0%\", \"New York<br>Total Funded Amount $41.236MM<br>Average Annual Income $72.0K<br>Average Interest Rate 12.0%\", \"Ohio<br>Total Funded Amount $13.121MM<br>Average Annual Income $60.0K<br>Average Interest Rate 12.0%\", \"Oklahoma<br>Total Funded Amount $3.332MM<br>Average Annual Income $62.0K<br>Average Interest Rate 12.0%\", \"Oregon<br>Total Funded Amount $4.603MM<br>Average Annual Income $58.0K<br>Average Interest Rate 12.0%\", \"Pennsylvania<br>Total Funded Amount $16.149MM<br>Average Annual Income $62.0K<br>Average Interest Rate 12.0%\", \"Rhode Island<br>Total Funded Amount $1.801MM<br>Average Annual Income $68.0K<br>Average Interest Rate 12.0%\", \"South Carolina<br>Total Funded Amount $4.866MM<br>Average Annual Income $64.0K<br>Average Interest Rate 12.0%\", \"South Dakota<br>Total Funded Amount $0.61MM<br>Average Annual Income $50.0K<br>Average Interest Rate 12.0%\", \"Tennessee<br>Total Funded Amount $0.088MM<br>Average Annual Income $58.0K<br>Average Interest Rate 12.0%\", \"Texas<br>Total Funded Amount $30.631MM<br>Average Annual Income $74.0K<br>Average Interest Rate 12.0%\", \"Utah<br>Total Funded Amount $2.781MM<br>Average Annual Income $66.0K<br>Average Interest Rate 12.0%\", \"Virginia<br>Total Funded Amount $15.624MM<br>Average Annual Income $74.0K<br>Average Interest Rate 12.0%\", \"Vermont<br>Total Funded Amount $0.462MM<br>Average Annual Income $54.0K<br>Average Interest Rate 11.0%\", \"Washington<br>Total Funded Amount $8.857MM<br>Average Annual Income $67.0K<br>Average Interest Rate 12.0%\", \"Wisconsin<br>Total Funded Amount $5.185MM<br>Average Annual Income $63.0K<br>Average Interest Rate 12.0%\", \"West Virginia<br>Total Funded Amount $1.944MM<br>Average Annual Income $54.0K<br>Average Interest Rate 12.0%\", \"Wyoming<br>Total Funded Amount $0.91MM<br>Average Annual Income $60.0K<br>Average Interest Rate 13.0%\"], \"z\": [0.997, 4.973, 2.514, 9.159, 76.838, 8.712, 8.512, 2.468, 1.248, 29.512, 15.115, 1.868, 0.035, 0.06, 17.576, 0.014, 2.889, 3.677, 4.453, 14.759, 11.707, 0.003, 7.947, 6.17, 7.325, 0.118, 0.891, 8.488, 0.022, 1.98, 20.955, 1.854, 5.199, 41.236, 13.121, 3.332, 4.603, 16.149, 1.801, 4.866, 0.61, 0.088, 30.631, 2.781, 15.624, 0.462, 8.857, 5.185, 1.944, 0.91], \"type\": \"choropleth\", \"uid\": \"e2e40cec-d502-11e8-b113-b16ad29151c9\"}], {\"geo\": {\"lakecolor\": \"rgb(255, 255, 255)\", \"projection\": {\"type\": \"albers usa\"}, \"scope\": \"usa\", \"showlakes\": true}, \"title\": \"Total Funded Amount($1M) by State, 2007-2011<br>Hover for Average Annual Income and Interest Rate Detail\"}, {\"showLink\": true, \"linkText\": \"Export to plot.ly\"})});</script>"
      ]
     },
     "metadata": {},
     "output_type": "display_data"
    }
   ],
   "source": [
    "scl = [[0.0, 'rgb(242,240,247)'],[0.2, 'rgb(218,218,235)'],[0.4, 'rgb(188,189,220)'],\\\n",
    "            [0.6, 'rgb(158,154,200)'],[0.8, 'rgb(117,107,177)'],[1.0, 'rgb(84,39,143)']]\n",
    "data = [ dict(\n",
    "        type='choropleth',\n",
    "        colorscale = scl,\n",
    "        autocolorscale = False,\n",
    "        locations = Plot3.index,\n",
    "        z = (Plot3['Funded Amount']['sum']/1000000).round(3),\n",
    "        hoverinfo=\"text\",\n",
    "        locationmode = 'USA-states',\n",
    "        text = Text ,\n",
    "        marker = dict(\n",
    "            line = dict (\n",
    "                color = 'rgb(255,255,255)',\n",
    "                width = 2\n",
    "            ) ),\n",
    "        colorbar = dict(\n",
    "            title = \"Millions USD\")\n",
    "        ) ]\n",
    "\n",
    "layout = dict(\n",
    "        title = 'Total Funded Amount($1M) by State, 2007-2011' + '<br>' + 'Hover for Average Annual Income and Interest Rate Detail',\n",
    "        geo = dict(\n",
    "            scope='usa',\n",
    "            projection=dict( type='albers usa' ),\n",
    "            showlakes = True,\n",
    "            lakecolor = 'rgb(255, 255, 255)'),\n",
    "             )\n",
    "    \n",
    "fig = dict( data=data, layout=layout )\n",
    "py.iplot( fig, filename='Plot3' )"
   ]
  },
  {
   "cell_type": "code",
   "execution_count": 11,
   "metadata": {},
   "outputs": [],
   "source": [
    "Plot4=df.groupby(['Purpose','Home Ownership']).count()[['Loan']].unstack()\n",
    "Plot4_Funded=(df.groupby(['Purpose']).sum()['Funded Amount'].to_frame()/1000).round(0).astype(\"int\")\n",
    "Plot4.columns=Plot4.columns.droplevel()\n",
    "Plot4.drop(columns=['NONE'],inplace=True)\n",
    "Plot4_Counts=Plot4.sum(axis=1).astype(\"int\").to_frame()\n",
    "Plot4=(Plot4.apply(lambda x: x / x.sum(),axis=1)*100).round(1)\n",
    "Plot4['OTHER']=100-Plot4.drop(columns=['OTHER']).sum(axis=1)\n",
    "Plot4=(Plot4*10).astype('int32')/10\n",
    "Plot4=Plot4[['RENT', 'MORTGAGE','OWN','OTHER']]\n",
    "Plot4.drop(columns=['OTHER'],inplace=True)\n",
    "Plot4=Plot4.join(Plot4_Counts).rename(columns={0:'Counts'})\n",
    "Plot4=Plot4.join(Plot4_Funded).rename(columns={0:'Funed Amount'})\n",
    "Plot4=Plot4.sort_values(by='Counts',ascending=True)\n",
    "Count_Coeff=30/Plot4['Counts'].max()\n",
    "Funded_Coeff=30/Plot4['Funded Amount'].max()\n",
    "Plot4[\"dummy\"]=0\n",
    "Plot4=Plot4[['dummy','RENT','MORTGAGE','OWN','Counts','Funded Amount']]"
   ]
  },
  {
   "cell_type": "code",
   "execution_count": 12,
   "metadata": {},
   "outputs": [
    {
     "data": {
      "application/vnd.plotly.v1+json": {
       "data": [
        {
         "hoverinfo": "text",
         "hoverlabel": {
          "bgcolor": "rgb(248, 248, 249)"
         },
         "marker": {
          "color": "#00A0DC",
          "line": {
           "color": "rgb(248, 248, 249)",
           "width": 1
          }
         },
         "orientation": "h",
         "text": "Total Funded Amount: $810k",
         "type": "bar",
         "uid": "e338e1c6-d502-11e8-a2b8-b16ad29151c9",
         "x": [
          0
         ],
         "y": [
          "Renewable Energy"
         ]
        },
        {
         "hoverinfo": "text",
         "hoverlabel": {
          "bgcolor": "rgb(248, 248, 249)"
         },
         "marker": {
          "color": "#00A0DC",
          "line": {
           "color": "rgb(248, 248, 249)",
           "width": 1
          }
         },
         "orientation": "h",
         "text": "Total Funded Amount: $2,036k",
         "type": "bar",
         "uid": "e338e1c7-d502-11e8-86f1-b16ad29151c9",
         "x": [
          0
         ],
         "y": [
          "Vacation"
         ]
        },
        {
         "hoverinfo": "text",
         "hoverlabel": {
          "bgcolor": "rgb(248, 248, 249)"
         },
         "marker": {
          "color": "#00A0DC",
          "line": {
           "color": "rgb(248, 248, 249)",
           "width": 1
          }
         },
         "orientation": "h",
         "text": "Total Funded Amount: $2,110k",
         "type": "bar",
         "uid": "e338e1c8-d502-11e8-a86c-b16ad29151c9",
         "x": [
          0
         ],
         "y": [
          "Educational"
         ]
        },
        {
         "hoverinfo": "text",
         "hoverlabel": {
          "bgcolor": "rgb(248, 248, 249)"
         },
         "marker": {
          "color": "#00A0DC",
          "line": {
           "color": "rgb(248, 248, 249)",
           "width": 1
          }
         },
         "orientation": "h",
         "text": "Total Funded Amount: $4,854k",
         "type": "bar",
         "uid": "e338e1c9-d502-11e8-9cd0-b16ad29151c9",
         "x": [
          0
         ],
         "y": [
          "House"
         ]
        },
        {
         "hoverinfo": "text",
         "hoverlabel": {
          "bgcolor": "rgb(248, 248, 249)"
         },
         "marker": {
          "color": "#00A0DC",
          "line": {
           "color": "rgb(248, 248, 249)",
           "width": 1
          }
         },
         "orientation": "h",
         "text": "Total Funded Amount: $3,814k",
         "type": "bar",
         "uid": "e338e1ca-d502-11e8-8ae6-b16ad29151c9",
         "x": [
          0
         ],
         "y": [
          "Moving"
         ]
        },
        {
         "hoverinfo": "text",
         "hoverlabel": {
          "bgcolor": "rgb(248, 248, 249)"
         },
         "marker": {
          "color": "#00A0DC",
          "line": {
           "color": "rgb(248, 248, 249)",
           "width": 1
          }
         },
         "orientation": "h",
         "text": "Total Funded Amount: $5,650k",
         "type": "bar",
         "uid": "e338e1cb-d502-11e8-aa5f-b16ad29151c9",
         "x": [
          0
         ],
         "y": [
          "Medical"
         ]
        },
        {
         "hoverinfo": "text",
         "hoverlabel": {
          "bgcolor": "rgb(248, 248, 249)"
         },
         "marker": {
          "color": "#00A0DC",
          "line": {
           "color": "rgb(248, 248, 249)",
           "width": 1
          }
         },
         "orientation": "h",
         "text": "Total Funded Amount: $9,003k",
         "type": "bar",
         "uid": "e338e1cc-d502-11e8-a82e-b16ad29151c9",
         "x": [
          0
         ],
         "y": [
          "Wedding"
         ]
        },
        {
         "hoverinfo": "text",
         "hoverlabel": {
          "bgcolor": "rgb(248, 248, 249)"
         },
         "marker": {
          "color": "#00A0DC",
          "line": {
           "color": "rgb(248, 248, 249)",
           "width": 1
          }
         },
         "orientation": "h",
         "text": "Total Funded Amount: $10,349k",
         "type": "bar",
         "uid": "e338e1cd-d502-11e8-b3a6-b16ad29151c9",
         "x": [
          0
         ],
         "y": [
          "Car"
         ]
        },
        {
         "hoverinfo": "text",
         "hoverlabel": {
          "bgcolor": "rgb(248, 248, 249)"
         },
         "marker": {
          "color": "#00A0DC",
          "line": {
           "color": "rgb(248, 248, 249)",
           "width": 1
          }
         },
         "orientation": "h",
         "text": "Total Funded Amount: $22,865k",
         "type": "bar",
         "uid": "e338e1ce-d502-11e8-b19d-b16ad29151c9",
         "x": [
          0
         ],
         "y": [
          "Small Business"
         ]
        },
        {
         "hoverinfo": "text",
         "hoverlabel": {
          "bgcolor": "rgb(248, 248, 249)"
         },
         "marker": {
          "color": "#00A0DC",
          "line": {
           "color": "rgb(248, 248, 249)",
           "width": 1
          }
         },
         "orientation": "h",
         "text": "Total Funded Amount: $17,307k",
         "type": "bar",
         "uid": "e338e1cf-d502-11e8-a360-b16ad29151c9",
         "x": [
          0
         ],
         "y": [
          "Major Purchase"
         ]
        },
        {
         "hoverinfo": "text",
         "hoverlabel": {
          "bgcolor": "rgb(248, 248, 249)"
         },
         "marker": {
          "color": "#00A0DC",
          "line": {
           "color": "rgb(248, 248, 249)",
           "width": 1
          }
         },
         "orientation": "h",
         "text": "Total Funded Amount: $33,201k",
         "type": "bar",
         "uid": "e338e1d0-d502-11e8-a276-b16ad29151c9",
         "x": [
          0
         ],
         "y": [
          "Home Improvement"
         ]
        },
        {
         "hoverinfo": "text",
         "hoverlabel": {
          "bgcolor": "rgb(248, 248, 249)"
         },
         "marker": {
          "color": "#00A0DC",
          "line": {
           "color": "rgb(248, 248, 249)",
           "width": 1
          }
         },
         "orientation": "h",
         "text": "Total Funded Amount: $31,391k",
         "type": "bar",
         "uid": "e338e1d1-d502-11e8-9bf2-b16ad29151c9",
         "x": [
          0
         ],
         "y": [
          "Other"
         ]
        },
        {
         "hoverinfo": "text",
         "hoverlabel": {
          "bgcolor": "rgb(248, 248, 249)"
         },
         "marker": {
          "color": "#00A0DC",
          "line": {
           "color": "rgb(248, 248, 249)",
           "width": 1
          }
         },
         "orientation": "h",
         "text": "Total Funded Amount: $58,020k",
         "type": "bar",
         "uid": "e338e1d2-d502-11e8-a6fa-b16ad29151c9",
         "x": [
          0
         ],
         "y": [
          "Credit Card"
         ]
        },
        {
         "hoverinfo": "text",
         "hoverlabel": {
          "bgcolor": "rgb(248, 248, 249)"
         },
         "marker": {
          "color": "#00A0DC",
          "line": {
           "color": "rgb(248, 248, 249)",
           "width": 1
          }
         },
         "orientation": "h",
         "text": "Total Funded Amount: $228,828k",
         "type": "bar",
         "uid": "e338e1d3-d502-11e8-a2f2-b16ad29151c9",
         "x": [
          0
         ],
         "y": [
          "Debt Consolidation"
         ]
        },
        {
         "hoverinfo": "text",
         "hoverlabel": {
          "bgcolor": "rgb(248, 248, 249)"
         },
         "marker": {
          "color": "#009687",
          "line": {
           "color": "rgb(248, 248, 249)",
           "width": 1
          }
         },
         "orientation": "h",
         "text": "",
         "type": "bar",
         "uid": "e338e1d4-d502-11e8-a047-b16ad29151c9",
         "x": [
          36.2
         ],
         "y": [
          "Renewable Energy"
         ]
        },
        {
         "hoverinfo": "text",
         "hoverlabel": {
          "bgcolor": "rgb(248, 248, 249)"
         },
         "marker": {
          "color": "#009687",
          "line": {
           "color": "rgb(248, 248, 249)",
           "width": 1
          }
         },
         "orientation": "h",
         "text": "",
         "type": "bar",
         "uid": "e338e1d5-d502-11e8-90ed-b16ad29151c9",
         "x": [
          56.7
         ],
         "y": [
          "Vacation"
         ]
        },
        {
         "hoverinfo": "text",
         "hoverlabel": {
          "bgcolor": "rgb(248, 248, 249)"
         },
         "marker": {
          "color": "#009687",
          "line": {
           "color": "rgb(248, 248, 249)",
           "width": 1
          }
         },
         "orientation": "h",
         "text": "",
         "type": "bar",
         "uid": "e338e1d6-d502-11e8-9490-b16ad29151c9",
         "x": [
          62.6
         ],
         "y": [
          "Educational"
         ]
        },
        {
         "hoverinfo": "text",
         "hoverlabel": {
          "bgcolor": "rgb(248, 248, 249)"
         },
         "marker": {
          "color": "#009687",
          "line": {
           "color": "rgb(248, 248, 249)",
           "width": 1
          }
         },
         "orientation": "h",
         "text": "",
         "type": "bar",
         "uid": "e338e1d7-d502-11e8-bd21-b16ad29151c9",
         "x": [
          53.8
         ],
         "y": [
          "House"
         ]
        },
        {
         "hoverinfo": "text",
         "hoverlabel": {
          "bgcolor": "rgb(248, 248, 249)"
         },
         "marker": {
          "color": "#009687",
          "line": {
           "color": "rgb(248, 248, 249)",
           "width": 1
          }
         },
         "orientation": "h",
         "text": "",
         "type": "bar",
         "uid": "e338e1d8-d502-11e8-9bcb-b16ad29151c9",
         "x": [
          76.4
         ],
         "y": [
          "Moving"
         ]
        },
        {
         "hoverinfo": "text",
         "hoverlabel": {
          "bgcolor": "rgb(248, 248, 249)"
         },
         "marker": {
          "color": "#009687",
          "line": {
           "color": "rgb(248, 248, 249)",
           "width": 1
          }
         },
         "orientation": "h",
         "text": "",
         "type": "bar",
         "uid": "e338e1d9-d502-11e8-a9ff-b16ad29151c9",
         "x": [
          45.4
         ],
         "y": [
          "Medical"
         ]
        },
        {
         "hoverinfo": "text",
         "hoverlabel": {
          "bgcolor": "rgb(248, 248, 249)"
         },
         "marker": {
          "color": "#009687",
          "line": {
           "color": "rgb(248, 248, 249)",
           "width": 1
          }
         },
         "orientation": "h",
         "text": "",
         "type": "bar",
         "uid": "e338e1da-d502-11e8-abd9-b16ad29151c9",
         "x": [
          62.7
         ],
         "y": [
          "Wedding"
         ]
        },
        {
         "hoverinfo": "text",
         "hoverlabel": {
          "bgcolor": "rgb(248, 248, 249)"
         },
         "marker": {
          "color": "#009687",
          "line": {
           "color": "rgb(248, 248, 249)",
           "width": 1
          }
         },
         "orientation": "h",
         "text": "",
         "type": "bar",
         "uid": "e338e1db-d502-11e8-89b4-b16ad29151c9",
         "x": [
          41.4
         ],
         "y": [
          "Car"
         ]
        },
        {
         "hoverinfo": "text",
         "hoverlabel": {
          "bgcolor": "rgb(248, 248, 249)"
         },
         "marker": {
          "color": "#009687",
          "line": {
           "color": "rgb(248, 248, 249)",
           "width": 1
          }
         },
         "orientation": "h",
         "text": "",
         "type": "bar",
         "uid": "e338e1dc-d502-11e8-be94-b16ad29151c9",
         "x": [
          41.2
         ],
         "y": [
          "Small Business"
         ]
        },
        {
         "hoverinfo": "text",
         "hoverlabel": {
          "bgcolor": "rgb(248, 248, 249)"
         },
         "marker": {
          "color": "#009687",
          "line": {
           "color": "rgb(248, 248, 249)",
           "width": 1
          }
         },
         "orientation": "h",
         "text": "",
         "type": "bar",
         "uid": "e338e1dd-d502-11e8-bfa0-b16ad29151c9",
         "x": [
          46.3
         ],
         "y": [
          "Major Purchase"
         ]
        },
        {
         "hoverinfo": "text",
         "hoverlabel": {
          "bgcolor": "rgb(248, 248, 249)"
         },
         "marker": {
          "color": "#009687",
          "line": {
           "color": "rgb(248, 248, 249)",
           "width": 1
          }
         },
         "orientation": "h",
         "text": "",
         "type": "bar",
         "uid": "e338e1de-d502-11e8-b153-b16ad29151c9",
         "x": [
          9.4
         ],
         "y": [
          "Home Improvement"
         ]
        },
        {
         "hoverinfo": "text",
         "hoverlabel": {
          "bgcolor": "rgb(248, 248, 249)"
         },
         "marker": {
          "color": "#009687",
          "line": {
           "color": "rgb(248, 248, 249)",
           "width": 1
          }
         },
         "orientation": "h",
         "text": "",
         "type": "bar",
         "uid": "e338e1df-d502-11e8-a59d-b16ad29151c9",
         "x": [
          53
         ],
         "y": [
          "Other"
         ]
        },
        {
         "hoverinfo": "text",
         "hoverlabel": {
          "bgcolor": "rgb(248, 248, 249)"
         },
         "marker": {
          "color": "#009687",
          "line": {
           "color": "rgb(248, 248, 249)",
           "width": 1
          }
         },
         "orientation": "h",
         "text": "",
         "type": "bar",
         "uid": "e338e1e0-d502-11e8-808d-b16ad29151c9",
         "x": [
          49.3
         ],
         "y": [
          "Credit Card"
         ]
        },
        {
         "hoverinfo": "text",
         "hoverlabel": {
          "bgcolor": "rgb(248, 248, 249)"
         },
         "marker": {
          "color": "#009687",
          "line": {
           "color": "rgb(248, 248, 249)",
           "width": 1
          }
         },
         "orientation": "h",
         "text": "",
         "type": "bar",
         "uid": "e338e1e1-d502-11e8-a7e7-b16ad29151c9",
         "x": [
          50.8
         ],
         "y": [
          "Debt Consolidation"
         ]
        },
        {
         "hoverinfo": "text",
         "hoverlabel": {
          "bgcolor": "rgb(248, 248, 249)"
         },
         "marker": {
          "color": "#DD5143",
          "line": {
           "color": "rgb(248, 248, 249)",
           "width": 1
          }
         },
         "orientation": "h",
         "text": "",
         "type": "bar",
         "uid": "e338e1e2-d502-11e8-8a19-b16ad29151c9",
         "x": [
          53.3
         ],
         "y": [
          "Renewable Energy"
         ]
        },
        {
         "hoverinfo": "text",
         "hoverlabel": {
          "bgcolor": "rgb(248, 248, 249)"
         },
         "marker": {
          "color": "#DD5143",
          "line": {
           "color": "rgb(248, 248, 249)",
           "width": 1
          }
         },
         "orientation": "h",
         "text": "",
         "type": "bar",
         "uid": "e338e1e3-d502-11e8-b3c0-b16ad29151c9",
         "x": [
          35.5
         ],
         "y": [
          "Vacation"
         ]
        },
        {
         "hoverinfo": "text",
         "hoverlabel": {
          "bgcolor": "rgb(248, 248, 249)"
         },
         "marker": {
          "color": "#DD5143",
          "line": {
           "color": "rgb(248, 248, 249)",
           "width": 1
          }
         },
         "orientation": "h",
         "text": "",
         "type": "bar",
         "uid": "e338e1e4-d502-11e8-a52b-b16ad29151c9",
         "x": [
          28
         ],
         "y": [
          "Educational"
         ]
        },
        {
         "hoverinfo": "text",
         "hoverlabel": {
          "bgcolor": "rgb(248, 248, 249)"
         },
         "marker": {
          "color": "#DD5143",
          "line": {
           "color": "rgb(248, 248, 249)",
           "width": 1
          }
         },
         "orientation": "h",
         "text": "",
         "type": "bar",
         "uid": "e338e1e5-d502-11e8-8ba8-b16ad29151c9",
         "x": [
          37.4
         ],
         "y": [
          "House"
         ]
        },
        {
         "hoverinfo": "text",
         "hoverlabel": {
          "bgcolor": "rgb(248, 248, 249)"
         },
         "marker": {
          "color": "#DD5143",
          "line": {
           "color": "rgb(248, 248, 249)",
           "width": 1
          }
         },
         "orientation": "h",
         "text": "",
         "type": "bar",
         "uid": "e338e1e6-d502-11e8-aeb1-b16ad29151c9",
         "x": [
          18.6
         ],
         "y": [
          "Moving"
         ]
        },
        {
         "hoverinfo": "text",
         "hoverlabel": {
          "bgcolor": "rgb(248, 248, 249)"
         },
         "marker": {
          "color": "#DD5143",
          "line": {
           "color": "rgb(248, 248, 249)",
           "width": 1
          }
         },
         "orientation": "h",
         "text": "",
         "type": "bar",
         "uid": "e338e1e7-d502-11e8-9185-b16ad29151c9",
         "x": [
          44.3
         ],
         "y": [
          "Medical"
         ]
        },
        {
         "hoverinfo": "text",
         "hoverlabel": {
          "bgcolor": "rgb(248, 248, 249)"
         },
         "marker": {
          "color": "#DD5143",
          "line": {
           "color": "rgb(248, 248, 249)",
           "width": 1
          }
         },
         "orientation": "h",
         "text": "",
         "type": "bar",
         "uid": "e338e1e8-d502-11e8-a1f7-b16ad29151c9",
         "x": [
          31.4
         ],
         "y": [
          "Wedding"
         ]
        },
        {
         "hoverinfo": "text",
         "hoverlabel": {
          "bgcolor": "rgb(248, 248, 249)"
         },
         "marker": {
          "color": "#DD5143",
          "line": {
           "color": "rgb(248, 248, 249)",
           "width": 1
          }
         },
         "orientation": "h",
         "text": "",
         "type": "bar",
         "uid": "e338e1e9-d502-11e8-a04e-b16ad29151c9",
         "x": [
          48.4
         ],
         "y": [
          "Car"
         ]
        },
        {
         "hoverinfo": "text",
         "hoverlabel": {
          "bgcolor": "rgb(248, 248, 249)"
         },
         "marker": {
          "color": "#DD5143",
          "line": {
           "color": "rgb(248, 248, 249)",
           "width": 1
          }
         },
         "orientation": "h",
         "text": "",
         "type": "bar",
         "uid": "e338e1ea-d502-11e8-a8aa-b16ad29151c9",
         "x": [
          51.7
         ],
         "y": [
          "Small Business"
         ]
        },
        {
         "hoverinfo": "text",
         "hoverlabel": {
          "bgcolor": "rgb(248, 248, 249)"
         },
         "marker": {
          "color": "#DD5143",
          "line": {
           "color": "rgb(248, 248, 249)",
           "width": 1
          }
         },
         "orientation": "h",
         "text": "",
         "type": "bar",
         "uid": "e338e1eb-d502-11e8-b17a-b16ad29151c9",
         "x": [
          42.4
         ],
         "y": [
          "Major Purchase"
         ]
        },
        {
         "hoverinfo": "text",
         "hoverlabel": {
          "bgcolor": "rgb(248, 248, 249)"
         },
         "marker": {
          "color": "#DD5143",
          "line": {
           "color": "rgb(248, 248, 249)",
           "width": 1
          }
         },
         "orientation": "h",
         "text": "",
         "type": "bar",
         "uid": "e33908b8-d502-11e8-b258-b16ad29151c9",
         "x": [
          79.4
         ],
         "y": [
          "Home Improvement"
         ]
        },
        {
         "hoverinfo": "text",
         "hoverlabel": {
          "bgcolor": "rgb(248, 248, 249)"
         },
         "marker": {
          "color": "#DD5143",
          "line": {
           "color": "rgb(248, 248, 249)",
           "width": 1
          }
         },
         "orientation": "h",
         "text": "",
         "type": "bar",
         "uid": "e33908b9-d502-11e8-a5fb-b16ad29151c9",
         "x": [
          37.4
         ],
         "y": [
          "Other"
         ]
        },
        {
         "hoverinfo": "text",
         "hoverlabel": {
          "bgcolor": "rgb(248, 248, 249)"
         },
         "marker": {
          "color": "#DD5143",
          "line": {
           "color": "rgb(248, 248, 249)",
           "width": 1
          }
         },
         "orientation": "h",
         "text": "",
         "type": "bar",
         "uid": "e33908ba-d502-11e8-a9ee-b16ad29151c9",
         "x": [
          44.8
         ],
         "y": [
          "Credit Card"
         ]
        },
        {
         "hoverinfo": "text",
         "hoverlabel": {
          "bgcolor": "rgb(248, 248, 249)"
         },
         "marker": {
          "color": "#DD5143",
          "line": {
           "color": "rgb(248, 248, 249)",
           "width": 1
          }
         },
         "orientation": "h",
         "text": "",
         "type": "bar",
         "uid": "e33908bb-d502-11e8-a16b-b16ad29151c9",
         "x": [
          42
         ],
         "y": [
          "Debt Consolidation"
         ]
        },
        {
         "hoverinfo": "text",
         "hoverlabel": {
          "bgcolor": "rgb(248, 248, 249)"
         },
         "marker": {
          "color": "#E68523",
          "line": {
           "color": "rgb(248, 248, 249)",
           "width": 1
          }
         },
         "orientation": "h",
         "text": "Total Count: 105",
         "type": "bar",
         "uid": "e33908bc-d502-11e8-8e9e-b16ad29151c9",
         "x": [
          9.5
         ],
         "y": [
          "Renewable Energy"
         ]
        },
        {
         "hoverinfo": "text",
         "hoverlabel": {
          "bgcolor": "rgb(248, 248, 249)"
         },
         "marker": {
          "color": "#E68523",
          "line": {
           "color": "rgb(248, 248, 249)",
           "width": 1
          }
         },
         "orientation": "h",
         "text": "Total Count: 397",
         "type": "bar",
         "uid": "e33908bd-d502-11e8-9289-b16ad29151c9",
         "x": [
          7.8
         ],
         "y": [
          "Vacation"
         ]
        },
        {
         "hoverinfo": "text",
         "hoverlabel": {
          "bgcolor": "rgb(248, 248, 249)"
         },
         "marker": {
          "color": "#E68523",
          "line": {
           "color": "rgb(248, 248, 249)",
           "width": 1
          }
         },
         "orientation": "h",
         "text": "Total Count: 404",
         "type": "bar",
         "uid": "e33908be-d502-11e8-a77c-b16ad29151c9",
         "x": [
          8.2
         ],
         "y": [
          "Educational"
         ]
        },
        {
         "hoverinfo": "text",
         "hoverlabel": {
          "bgcolor": "rgb(248, 248, 249)"
         },
         "marker": {
          "color": "#E68523",
          "line": {
           "color": "rgb(248, 248, 249)",
           "width": 1
          }
         },
         "orientation": "h",
         "text": "Total Count: 422",
         "type": "bar",
         "uid": "e33908bf-d502-11e8-9c55-b16ad29151c9",
         "x": [
          8.1
         ],
         "y": [
          "House"
         ]
        },
        {
         "hoverinfo": "text",
         "hoverlabel": {
          "bgcolor": "rgb(248, 248, 249)"
         },
         "marker": {
          "color": "#E68523",
          "line": {
           "color": "rgb(248, 248, 249)",
           "width": 1
          }
         },
         "orientation": "h",
         "text": "Total Count: 622",
         "type": "bar",
         "uid": "e33908c0-d502-11e8-9da2-b16ad29151c9",
         "x": [
          4.5
         ],
         "y": [
          "Moving"
         ]
        },
        {
         "hoverinfo": "text",
         "hoverlabel": {
          "bgcolor": "rgb(248, 248, 249)"
         },
         "marker": {
          "color": "#E68523",
          "line": {
           "color": "rgb(248, 248, 249)",
           "width": 1
          }
         },
         "orientation": "h",
         "text": "Total Count: 751",
         "type": "bar",
         "uid": "e33908c1-d502-11e8-b93f-b16ad29151c9",
         "x": [
          9.6
         ],
         "y": [
          "Medical"
         ]
        },
        {
         "hoverinfo": "text",
         "hoverlabel": {
          "bgcolor": "rgb(248, 248, 249)"
         },
         "marker": {
          "color": "#E68523",
          "line": {
           "color": "rgb(248, 248, 249)",
           "width": 1
          }
         },
         "orientation": "h",
         "text": "Total Count: 996",
         "type": "bar",
         "uid": "e33908c2-d502-11e8-8124-b16ad29151c9",
         "x": [
          5.8
         ],
         "y": [
          "Wedding"
         ]
        },
        {
         "hoverinfo": "text",
         "hoverlabel": {
          "bgcolor": "rgb(248, 248, 249)"
         },
         "marker": {
          "color": "#E68523",
          "line": {
           "color": "rgb(248, 248, 249)",
           "width": 1
          }
         },
         "orientation": "h",
         "text": "Total Count: 1607",
         "type": "bar",
         "uid": "e33908c3-d502-11e8-9487-b16ad29151c9",
         "x": [
          10
         ],
         "y": [
          "Car"
         ]
        },
        {
         "hoverinfo": "text",
         "hoverlabel": {
          "bgcolor": "rgb(248, 248, 249)"
         },
         "marker": {
          "color": "#E68523",
          "line": {
           "color": "rgb(248, 248, 249)",
           "width": 1
          }
         },
         "orientation": "h",
         "text": "Total Count: 1974",
         "type": "bar",
         "uid": "e33908c4-d502-11e8-a245-b16ad29151c9",
         "x": [
          6.4
         ],
         "y": [
          "Small Business"
         ]
        },
        {
         "hoverinfo": "text",
         "hoverlabel": {
          "bgcolor": "rgb(248, 248, 249)"
         },
         "marker": {
          "color": "#E68523",
          "line": {
           "color": "rgb(248, 248, 249)",
           "width": 1
          }
         },
         "orientation": "h",
         "text": "Total Count: 2298",
         "type": "bar",
         "uid": "e33908c5-d502-11e8-ad6d-b16ad29151c9",
         "x": [
          10.9
         ],
         "y": [
          "Major Purchase"
         ]
        },
        {
         "hoverinfo": "text",
         "hoverlabel": {
          "bgcolor": "rgb(248, 248, 249)"
         },
         "marker": {
          "color": "#E68523",
          "line": {
           "color": "rgb(248, 248, 249)",
           "width": 1
          }
         },
         "orientation": "h",
         "text": "Total Count: 3179",
         "type": "bar",
         "uid": "e33908c6-d502-11e8-b6cd-b16ad29151c9",
         "x": [
          11
         ],
         "y": [
          "Home Improvement"
         ]
        },
        {
         "hoverinfo": "text",
         "hoverlabel": {
          "bgcolor": "rgb(248, 248, 249)"
         },
         "marker": {
          "color": "#E68523",
          "line": {
           "color": "rgb(248, 248, 249)",
           "width": 1
          }
         },
         "orientation": "h",
         "text": "Total Count: 4353",
         "type": "bar",
         "uid": "e33908c7-d502-11e8-a70c-b16ad29151c9",
         "x": [
          9.2
         ],
         "y": [
          "Other"
         ]
        },
        {
         "hoverinfo": "text",
         "hoverlabel": {
          "bgcolor": "rgb(248, 248, 249)"
         },
         "marker": {
          "color": "#E68523",
          "line": {
           "color": "rgb(248, 248, 249)",
           "width": 1
          }
         },
         "orientation": "h",
         "text": "Total Count: 5437",
         "type": "bar",
         "uid": "e33908c8-d502-11e8-920a-b16ad29151c9",
         "x": [
          5.6
         ],
         "y": [
          "Credit Card"
         ]
        },
        {
         "hoverinfo": "text",
         "hoverlabel": {
          "bgcolor": "rgb(248, 248, 249)"
         },
         "marker": {
          "color": "#E68523",
          "line": {
           "color": "rgb(248, 248, 249)",
           "width": 1
          }
         },
         "orientation": "h",
         "text": "Total Count: 19691",
         "type": "bar",
         "uid": "e33908c9-d502-11e8-9b68-b16ad29151c9",
         "x": [
          6.9
         ],
         "y": [
          "Debt Consolidation"
         ]
        }
       ],
       "layout": {
        "annotations": [
         {
          "align": "right",
          "font": {
           "color": "rgb(67, 67, 67)",
           "family": "Arial",
           "size": 12
          },
          "showarrow": false,
          "text": "Renewable Energy",
          "x": 0.175,
          "xanchor": "left",
          "xref": "paper",
          "y": "Renewable Energy",
          "yref": "y"
         },
         {
          "font": {
           "color": "rgb(248, 248, 255)",
           "family": "Arial",
           "size": 12
          },
          "showarrow": false,
          "text": "36.2%",
          "x": 18.1,
          "xref": "x",
          "y": "Renewable Energy",
          "yref": "y"
         },
         {
          "font": {
           "color": "rgb(248, 248, 255)",
           "family": "Arial",
           "size": 12
          },
          "showarrow": false,
          "text": "53.3%",
          "x": 62.85,
          "xref": "x",
          "y": "Renewable Energy",
          "yref": "y"
         },
         {
          "font": {
           "color": "rgb(248, 248, 255)",
           "family": "Arial",
           "size": 12
          },
          "showarrow": false,
          "text": "9.5%",
          "x": 94.25,
          "xref": "x",
          "y": "Renewable Energy",
          "yref": "y"
         },
         {
          "align": "right",
          "font": {
           "color": "rgb(67, 67, 67)",
           "family": "Arial",
           "size": 12
          },
          "showarrow": false,
          "text": "Vacation",
          "x": 0.175,
          "xanchor": "left",
          "xref": "paper",
          "y": "Vacation",
          "yref": "y"
         },
         {
          "font": {
           "color": "rgb(248, 248, 255)",
           "family": "Arial",
           "size": 12
          },
          "showarrow": false,
          "text": "56.7%",
          "x": 28.35,
          "xref": "x",
          "y": "Vacation",
          "yref": "y"
         },
         {
          "font": {
           "color": "rgb(248, 248, 255)",
           "family": "Arial",
           "size": 12
          },
          "showarrow": false,
          "text": "35.5%",
          "x": 74.45,
          "xref": "x",
          "y": "Vacation",
          "yref": "y"
         },
         {
          "font": {
           "color": "rgb(248, 248, 255)",
           "family": "Arial",
           "size": 12
          },
          "showarrow": false,
          "text": "7.8%",
          "x": 96.10000000000001,
          "xref": "x",
          "y": "Vacation",
          "yref": "y"
         },
         {
          "align": "right",
          "font": {
           "color": "rgb(67, 67, 67)",
           "family": "Arial",
           "size": 12
          },
          "showarrow": false,
          "text": "Educational",
          "x": 0.175,
          "xanchor": "left",
          "xref": "paper",
          "y": "Educational",
          "yref": "y"
         },
         {
          "font": {
           "color": "rgb(248, 248, 255)",
           "family": "Arial",
           "size": 12
          },
          "showarrow": false,
          "text": "62.6%",
          "x": 31.3,
          "xref": "x",
          "y": "Educational",
          "yref": "y"
         },
         {
          "font": {
           "color": "rgb(248, 248, 255)",
           "family": "Arial",
           "size": 12
          },
          "showarrow": false,
          "text": "28.0%",
          "x": 76.6,
          "xref": "x",
          "y": "Educational",
          "yref": "y"
         },
         {
          "font": {
           "color": "rgb(248, 248, 255)",
           "family": "Arial",
           "size": 12
          },
          "showarrow": false,
          "text": "8.2%",
          "x": 94.69999999999999,
          "xref": "x",
          "y": "Educational",
          "yref": "y"
         },
         {
          "align": "right",
          "font": {
           "color": "rgb(67, 67, 67)",
           "family": "Arial",
           "size": 12
          },
          "showarrow": false,
          "text": "House",
          "x": 0.175,
          "xanchor": "left",
          "xref": "paper",
          "y": "House",
          "yref": "y"
         },
         {
          "font": {
           "color": "rgb(248, 248, 255)",
           "family": "Arial",
           "size": 12
          },
          "showarrow": false,
          "text": "53.8%",
          "x": 26.9,
          "xref": "x",
          "y": "House",
          "yref": "y"
         },
         {
          "font": {
           "color": "rgb(248, 248, 255)",
           "family": "Arial",
           "size": 12
          },
          "showarrow": false,
          "text": "37.4%",
          "x": 72.5,
          "xref": "x",
          "y": "House",
          "yref": "y"
         },
         {
          "font": {
           "color": "rgb(248, 248, 255)",
           "family": "Arial",
           "size": 12
          },
          "showarrow": false,
          "text": "8.1%",
          "x": 95.24999999999999,
          "xref": "x",
          "y": "House",
          "yref": "y"
         },
         {
          "align": "right",
          "font": {
           "color": "rgb(67, 67, 67)",
           "family": "Arial",
           "size": 12
          },
          "showarrow": false,
          "text": "Moving",
          "x": 0.175,
          "xanchor": "left",
          "xref": "paper",
          "y": "Moving",
          "yref": "y"
         },
         {
          "font": {
           "color": "rgb(248, 248, 255)",
           "family": "Arial",
           "size": 12
          },
          "showarrow": false,
          "text": "76.4%",
          "x": 38.2,
          "xref": "x",
          "y": "Moving",
          "yref": "y"
         },
         {
          "font": {
           "color": "rgb(248, 248, 255)",
           "family": "Arial",
           "size": 12
          },
          "showarrow": false,
          "text": "18.6%",
          "x": 85.7,
          "xref": "x",
          "y": "Moving",
          "yref": "y"
         },
         {
          "font": {
           "color": "rgb(248, 248, 255)",
           "family": "Arial",
           "size": 12
          },
          "showarrow": false,
          "text": "4.5%",
          "x": 97.25,
          "xref": "x",
          "y": "Moving",
          "yref": "y"
         },
         {
          "align": "right",
          "font": {
           "color": "rgb(67, 67, 67)",
           "family": "Arial",
           "size": 12
          },
          "showarrow": false,
          "text": "Medical",
          "x": 0.175,
          "xanchor": "left",
          "xref": "paper",
          "y": "Medical",
          "yref": "y"
         },
         {
          "font": {
           "color": "rgb(248, 248, 255)",
           "family": "Arial",
           "size": 12
          },
          "showarrow": false,
          "text": "45.4%",
          "x": 22.7,
          "xref": "x",
          "y": "Medical",
          "yref": "y"
         },
         {
          "font": {
           "color": "rgb(248, 248, 255)",
           "family": "Arial",
           "size": 12
          },
          "showarrow": false,
          "text": "44.3%",
          "x": 67.55,
          "xref": "x",
          "y": "Medical",
          "yref": "y"
         },
         {
          "font": {
           "color": "rgb(248, 248, 255)",
           "family": "Arial",
           "size": 12
          },
          "showarrow": false,
          "text": "9.6%",
          "x": 94.49999999999999,
          "xref": "x",
          "y": "Medical",
          "yref": "y"
         },
         {
          "align": "right",
          "font": {
           "color": "rgb(67, 67, 67)",
           "family": "Arial",
           "size": 12
          },
          "showarrow": false,
          "text": "Wedding",
          "x": 0.175,
          "xanchor": "left",
          "xref": "paper",
          "y": "Wedding",
          "yref": "y"
         },
         {
          "font": {
           "color": "rgb(248, 248, 255)",
           "family": "Arial",
           "size": 12
          },
          "showarrow": false,
          "text": "62.7%",
          "x": 31.35,
          "xref": "x",
          "y": "Wedding",
          "yref": "y"
         },
         {
          "font": {
           "color": "rgb(248, 248, 255)",
           "family": "Arial",
           "size": 12
          },
          "showarrow": false,
          "text": "31.4%",
          "x": 78.4,
          "xref": "x",
          "y": "Wedding",
          "yref": "y"
         },
         {
          "font": {
           "color": "rgb(248, 248, 255)",
           "family": "Arial",
           "size": 12
          },
          "showarrow": false,
          "text": "5.8%",
          "x": 97,
          "xref": "x",
          "y": "Wedding",
          "yref": "y"
         },
         {
          "align": "right",
          "font": {
           "color": "rgb(67, 67, 67)",
           "family": "Arial",
           "size": 12
          },
          "showarrow": false,
          "text": "Car",
          "x": 0.175,
          "xanchor": "left",
          "xref": "paper",
          "y": "Car",
          "yref": "y"
         },
         {
          "font": {
           "color": "rgb(248, 248, 255)",
           "family": "Arial",
           "size": 12
          },
          "showarrow": false,
          "text": "41.4%",
          "x": 20.7,
          "xref": "x",
          "y": "Car",
          "yref": "y"
         },
         {
          "font": {
           "color": "rgb(248, 248, 255)",
           "family": "Arial",
           "size": 12
          },
          "showarrow": false,
          "text": "48.4%",
          "x": 65.6,
          "xref": "x",
          "y": "Car",
          "yref": "y"
         },
         {
          "font": {
           "color": "rgb(248, 248, 255)",
           "family": "Arial",
           "size": 12
          },
          "showarrow": false,
          "text": "10.0%",
          "x": 94.8,
          "xref": "x",
          "y": "Car",
          "yref": "y"
         },
         {
          "align": "right",
          "font": {
           "color": "rgb(67, 67, 67)",
           "family": "Arial",
           "size": 12
          },
          "showarrow": false,
          "text": "Small Business",
          "x": 0.175,
          "xanchor": "left",
          "xref": "paper",
          "y": "Small Business",
          "yref": "y"
         },
         {
          "font": {
           "color": "rgb(248, 248, 255)",
           "family": "Arial",
           "size": 12
          },
          "showarrow": false,
          "text": "41.2%",
          "x": 20.6,
          "xref": "x",
          "y": "Small Business",
          "yref": "y"
         },
         {
          "font": {
           "color": "rgb(248, 248, 255)",
           "family": "Arial",
           "size": 12
          },
          "showarrow": false,
          "text": "51.7%",
          "x": 67.05000000000001,
          "xref": "x",
          "y": "Small Business",
          "yref": "y"
         },
         {
          "font": {
           "color": "rgb(248, 248, 255)",
           "family": "Arial",
           "size": 12
          },
          "showarrow": false,
          "text": "6.4%",
          "x": 96.10000000000001,
          "xref": "x",
          "y": "Small Business",
          "yref": "y"
         },
         {
          "align": "right",
          "font": {
           "color": "rgb(67, 67, 67)",
           "family": "Arial",
           "size": 12
          },
          "showarrow": false,
          "text": "Major Purchase",
          "x": 0.175,
          "xanchor": "left",
          "xref": "paper",
          "y": "Major Purchase",
          "yref": "y"
         },
         {
          "font": {
           "color": "rgb(248, 248, 255)",
           "family": "Arial",
           "size": 12
          },
          "showarrow": false,
          "text": "46.3%",
          "x": 23.15,
          "xref": "x",
          "y": "Major Purchase",
          "yref": "y"
         },
         {
          "font": {
           "color": "rgb(248, 248, 255)",
           "family": "Arial",
           "size": 12
          },
          "showarrow": false,
          "text": "42.4%",
          "x": 67.5,
          "xref": "x",
          "y": "Major Purchase",
          "yref": "y"
         },
         {
          "font": {
           "color": "rgb(248, 248, 255)",
           "family": "Arial",
           "size": 12
          },
          "showarrow": false,
          "text": "10.9%",
          "x": 94.14999999999999,
          "xref": "x",
          "y": "Major Purchase",
          "yref": "y"
         },
         {
          "align": "right",
          "font": {
           "color": "rgb(67, 67, 67)",
           "family": "Arial",
           "size": 12
          },
          "showarrow": false,
          "text": "Home Improvement",
          "x": 0.175,
          "xanchor": "left",
          "xref": "paper",
          "y": "Home Improvement",
          "yref": "y"
         },
         {
          "font": {
           "color": "rgb(248, 248, 255)",
           "family": "Arial",
           "size": 12
          },
          "showarrow": false,
          "text": "9.4%",
          "x": 4.7,
          "xref": "x",
          "y": "Home Improvement",
          "yref": "y"
         },
         {
          "font": {
           "color": "rgb(248, 248, 255)",
           "family": "Arial",
           "size": 12
          },
          "showarrow": false,
          "text": "79.4%",
          "x": 49.1,
          "xref": "x",
          "y": "Home Improvement",
          "yref": "y"
         },
         {
          "font": {
           "color": "rgb(248, 248, 255)",
           "family": "Arial",
           "size": 12
          },
          "showarrow": false,
          "text": "11.0%",
          "x": 94.30000000000001,
          "xref": "x",
          "y": "Home Improvement",
          "yref": "y"
         },
         {
          "align": "right",
          "font": {
           "color": "rgb(67, 67, 67)",
           "family": "Arial",
           "size": 12
          },
          "showarrow": false,
          "text": "Other",
          "x": 0.175,
          "xanchor": "left",
          "xref": "paper",
          "y": "Other",
          "yref": "y"
         },
         {
          "font": {
           "color": "rgb(248, 248, 255)",
           "family": "Arial",
           "size": 12
          },
          "showarrow": false,
          "text": "53.0%",
          "x": 26.5,
          "xref": "x",
          "y": "Other",
          "yref": "y"
         },
         {
          "font": {
           "color": "rgb(248, 248, 255)",
           "family": "Arial",
           "size": 12
          },
          "showarrow": false,
          "text": "37.4%",
          "x": 71.7,
          "xref": "x",
          "y": "Other",
          "yref": "y"
         },
         {
          "font": {
           "color": "rgb(248, 248, 255)",
           "family": "Arial",
           "size": 12
          },
          "showarrow": false,
          "text": "9.2%",
          "x": 95,
          "xref": "x",
          "y": "Other",
          "yref": "y"
         },
         {
          "align": "right",
          "font": {
           "color": "rgb(67, 67, 67)",
           "family": "Arial",
           "size": 12
          },
          "showarrow": false,
          "text": "Credit Card",
          "x": 0.175,
          "xanchor": "left",
          "xref": "paper",
          "y": "Credit Card",
          "yref": "y"
         },
         {
          "font": {
           "color": "rgb(248, 248, 255)",
           "family": "Arial",
           "size": 12
          },
          "showarrow": false,
          "text": "49.3%",
          "x": 24.65,
          "xref": "x",
          "y": "Credit Card",
          "yref": "y"
         },
         {
          "font": {
           "color": "rgb(248, 248, 255)",
           "family": "Arial",
           "size": 12
          },
          "showarrow": false,
          "text": "44.8%",
          "x": 71.69999999999999,
          "xref": "x",
          "y": "Credit Card",
          "yref": "y"
         },
         {
          "font": {
           "color": "rgb(248, 248, 255)",
           "family": "Arial",
           "size": 12
          },
          "showarrow": false,
          "text": "5.6%",
          "x": 96.89999999999999,
          "xref": "x",
          "y": "Credit Card",
          "yref": "y"
         },
         {
          "align": "right",
          "font": {
           "color": "rgb(67, 67, 67)",
           "family": "Arial",
           "size": 12
          },
          "showarrow": false,
          "text": "Debt Consolidation",
          "x": 0.175,
          "xanchor": "left",
          "xref": "paper",
          "y": "Debt Consolidation",
          "yref": "y"
         },
         {
          "font": {
           "color": "rgb(248, 248, 255)",
           "family": "Arial",
           "size": 12
          },
          "showarrow": false,
          "text": "50.8%",
          "x": 25.4,
          "xref": "x",
          "y": "Debt Consolidation",
          "yref": "y"
         },
         {
          "font": {
           "color": "#009687",
           "family": "Arial",
           "size": 14
          },
          "showarrow": false,
          "text": "RENT",
          "x": 25.4,
          "xref": "x",
          "y": 1.1,
          "yref": "paper"
         },
         {
          "font": {
           "color": "rgb(248, 248, 255)",
           "family": "Arial",
           "size": 12
          },
          "showarrow": false,
          "text": "42.0%",
          "x": 71.8,
          "xref": "x",
          "y": "Debt Consolidation",
          "yref": "y"
         },
         {
          "font": {
           "color": "#DD5143",
           "family": "Arial",
           "size": 14
          },
          "showarrow": false,
          "text": "MORTGAGE",
          "x": 71.8,
          "xref": "x",
          "y": 1.1,
          "yref": "paper"
         },
         {
          "font": {
           "color": "rgb(248, 248, 255)",
           "family": "Arial",
           "size": 12
          },
          "showarrow": false,
          "text": "6.9%",
          "x": 96.25,
          "xref": "x",
          "y": "Debt Consolidation",
          "yref": "y"
         },
         {
          "font": {
           "color": "#E68523",
           "family": "Arial",
           "size": 14
          },
          "showarrow": false,
          "text": "OWN",
          "x": 96.25,
          "xref": "x",
          "y": 1.1,
          "yref": "paper"
         },
         {
          "font": {
           "color": "rgb(55, 128, 191)",
           "family": "Arial",
           "size": 14
          },
          "showarrow": false,
          "text": "Total Count",
          "x": 120,
          "xref": "x",
          "y": 1.1,
          "yref": "paper"
         },
         {
          "font": {
           "color": "rgb(55, 128, 191)",
           "family": "Arial",
           "size": 14
          },
          "showarrow": false,
          "text": "Total Funded Amount",
          "x": -35,
          "xref": "x",
          "y": 1.1,
          "yref": "paper"
         }
        ],
        "barmode": "stack",
        "paper_bgcolor": "rgb(248, 248, 255)",
        "plot_bgcolor": "rgb(248, 248, 255)",
        "shapes": [
         {
          "line": {
           "color": "rgb(55, 128, 191)",
           "width": 14
          },
          "type": "line",
          "x0": 105,
          "x1": 105.15997156061145,
          "y0": 0,
          "y1": 0
         },
         {
          "line": {
           "color": "rgb(55, 128, 191)",
           "width": 14
          },
          "type": "line",
          "x0": -20,
          "x1": -20.10619329802297,
          "y0": 0,
          "y1": 0
         },
         {
          "line": {
           "color": "rgb(55, 128, 191)",
           "width": 14
          },
          "type": "line",
          "x0": 105,
          "x1": 105.60484485297852,
          "y0": 1,
          "y1": 1
         },
         {
          "line": {
           "color": "rgb(55, 128, 191)",
           "width": 14
          },
          "type": "line",
          "x0": -20,
          "x1": -20.266925376265142,
          "y0": 1,
          "y1": 1
         },
         {
          "line": {
           "color": "rgb(55, 128, 191)",
           "width": 14
          },
          "type": "line",
          "x0": 105,
          "x1": 105.61550962368595,
          "y0": 2,
          "y1": 2
         },
         {
          "line": {
           "color": "rgb(55, 128, 191)",
           "width": 14
          },
          "type": "line",
          "x0": -20,
          "x1": -20.276626986207983,
          "y0": 2,
          "y1": 2
         },
         {
          "line": {
           "color": "rgb(55, 128, 191)",
           "width": 14
          },
          "type": "line",
          "x0": 105,
          "x1": 105.64293331979077,
          "y0": 3,
          "y1": 3
         },
         {
          "line": {
           "color": "rgb(55, 128, 191)",
           "width": 14
          },
          "type": "line",
          "x0": -20,
          "x1": -20.636373171115423,
          "y0": 3,
          "y1": 3
         },
         {
          "line": {
           "color": "rgb(55, 128, 191)",
           "width": 14
          },
          "type": "line",
          "x0": 105,
          "x1": 105.94764105428877,
          "y0": 4,
          "y1": 4
         },
         {
          "line": {
           "color": "rgb(55, 128, 191)",
           "width": 14
          },
          "type": "line",
          "x0": -20,
          "x1": -20.500026220567413,
          "y0": 4,
          "y1": 4
         },
         {
          "line": {
           "color": "rgb(55, 128, 191)",
           "width": 14
          },
          "type": "line",
          "x0": 105,
          "x1": 106.14417754303997,
          "y0": 5,
          "y1": 5
         },
         {
          "line": {
           "color": "rgb(55, 128, 191)",
           "width": 14
          },
          "type": "line",
          "x0": -20,
          "x1": -20.740731029419475,
          "y0": 5,
          "y1": 5
         },
         {
          "line": {
           "color": "rgb(55, 128, 191)",
           "width": 14
          },
          "type": "line",
          "x0": 105,
          "x1": 106.51744451780002,
          "y0": 6,
          "y1": 6
         },
         {
          "line": {
           "color": "rgb(55, 128, 191)",
           "width": 14
          },
          "type": "line",
          "x0": -20,
          "x1": -21.180318842099744,
          "y0": 6,
          "y1": 6
         },
         {
          "line": {
           "color": "rgb(55, 128, 191)",
           "width": 14
          },
          "type": "line",
          "x0": 105,
          "x1": 107.44832664669138,
          "y0": 7,
          "y1": 7
         },
         {
          "line": {
           "color": "rgb(55, 128, 191)",
           "width": 14
          },
          "type": "line",
          "x0": -20,
          "x1": -21.356783260789765,
          "y0": 7,
          "y1": 7
         },
         {
          "line": {
           "color": "rgb(55, 128, 191)",
           "width": 14
          },
          "type": "line",
          "x0": 105,
          "x1": 108.0074653394952,
          "y0": 8,
          "y1": 8
         },
         {
          "line": {
           "color": "rgb(55, 128, 191)",
           "width": 14
          },
          "type": "line",
          "x0": -20,
          "x1": -22.997666369500237,
          "y0": 8,
          "y1": 8
         },
         {
          "line": {
           "color": "rgb(55, 128, 191)",
           "width": 14
          },
          "type": "line",
          "x0": 105,
          "x1": 108.50109186938195,
          "y0": 9,
          "y1": 9
         },
         {
          "line": {
           "color": "rgb(55, 128, 191)",
           "width": 14
          },
          "type": "line",
          "x0": -20,
          "x1": -22.268996801090776,
          "y0": 9,
          "y1": 9
         },
         {
          "line": {
           "color": "rgb(55, 128, 191)",
           "width": 14
          },
          "type": "line",
          "x0": 105,
          "x1": 109.84332943984562,
          "y0": 10,
          "y1": 10
         },
         {
          "line": {
           "color": "rgb(55, 128, 191)",
           "width": 14
          },
          "type": "line",
          "x0": -20,
          "x1": -24.352745293408148,
          "y0": 10,
          "y1": 10
         },
         {
          "line": {
           "color": "rgb(55, 128, 191)",
           "width": 14
          },
          "type": "line",
          "x0": 105,
          "x1": 111.63196384134883,
          "y0": 11,
          "y1": 11
         },
         {
          "line": {
           "color": "rgb(55, 128, 191)",
           "width": 14
          },
          "type": "line",
          "x0": -20,
          "x1": -24.115449158319787,
          "y0": 11,
          "y1": 11
         },
         {
          "line": {
           "color": "rgb(55, 128, 191)",
           "width": 14
          },
          "type": "line",
          "x0": 105,
          "x1": 113.28347976232797,
          "y0": 12,
          "y1": 12
         },
         {
          "line": {
           "color": "rgb(55, 128, 191)",
           "width": 14
          },
          "type": "line",
          "x0": -20,
          "x1": -27.606586606534165,
          "y0": 12,
          "y1": 12
         },
         {
          "line": {
           "color": "rgb(55, 128, 191)",
           "width": 14
          },
          "type": "line",
          "x0": 105,
          "x1": 135,
          "y0": 13,
          "y1": 13
         },
         {
          "line": {
           "color": "rgb(55, 128, 191)",
           "width": 14
          },
          "type": "line",
          "x0": -20,
          "x1": -50,
          "y0": 13,
          "y1": 13
         }
        ],
        "showlegend": false,
        "title": "Count of Loan Requests by Home Ownership and Purpose, 2007-2011",
        "xaxis": {
         "showgrid": false,
         "showline": false,
         "showticklabels": false,
         "zeroline": false
        },
        "yaxis": {
         "showgrid": false,
         "showline": false,
         "showticklabels": false,
         "zeroline": false
        }
       }
      },
      "text/html": [
       "<div id=\"16faf405-e674-4d20-a6f0-fedd137b9575\" style=\"height: 525px; width: 100%;\" class=\"plotly-graph-div\"></div><script type=\"text/javascript\">require([\"plotly\"], function(Plotly) { window.PLOTLYENV=window.PLOTLYENV || {};window.PLOTLYENV.BASE_URL=\"https://plot.ly\";\n",
       "        Plotly.plot(\n",
       "            '16faf405-e674-4d20-a6f0-fedd137b9575',\n",
       "            [{\"hoverinfo\": \"text\", \"hoverlabel\": {\"bgcolor\": \"rgb(248, 248, 249)\"}, \"marker\": {\"color\": \"#00A0DC\", \"line\": {\"color\": \"rgb(248, 248, 249)\", \"width\": 1}}, \"orientation\": \"h\", \"text\": \"Total Funded Amount: $810k\", \"x\": [0.0], \"y\": [\"Renewable Energy\"], \"type\": \"bar\", \"uid\": \"e338e1c6-d502-11e8-a2b8-b16ad29151c9\"}, {\"hoverinfo\": \"text\", \"hoverlabel\": {\"bgcolor\": \"rgb(248, 248, 249)\"}, \"marker\": {\"color\": \"#00A0DC\", \"line\": {\"color\": \"rgb(248, 248, 249)\", \"width\": 1}}, \"orientation\": \"h\", \"text\": \"Total Funded Amount: $2,036k\", \"x\": [0.0], \"y\": [\"Vacation\"], \"type\": \"bar\", \"uid\": \"e338e1c7-d502-11e8-86f1-b16ad29151c9\"}, {\"hoverinfo\": \"text\", \"hoverlabel\": {\"bgcolor\": \"rgb(248, 248, 249)\"}, \"marker\": {\"color\": \"#00A0DC\", \"line\": {\"color\": \"rgb(248, 248, 249)\", \"width\": 1}}, \"orientation\": \"h\", \"text\": \"Total Funded Amount: $2,110k\", \"x\": [0.0], \"y\": [\"Educational\"], \"type\": \"bar\", \"uid\": \"e338e1c8-d502-11e8-a86c-b16ad29151c9\"}, {\"hoverinfo\": \"text\", \"hoverlabel\": {\"bgcolor\": \"rgb(248, 248, 249)\"}, \"marker\": {\"color\": \"#00A0DC\", \"line\": {\"color\": \"rgb(248, 248, 249)\", \"width\": 1}}, \"orientation\": \"h\", \"text\": \"Total Funded Amount: $4,854k\", \"x\": [0.0], \"y\": [\"House\"], \"type\": \"bar\", \"uid\": \"e338e1c9-d502-11e8-9cd0-b16ad29151c9\"}, {\"hoverinfo\": \"text\", \"hoverlabel\": {\"bgcolor\": \"rgb(248, 248, 249)\"}, \"marker\": {\"color\": \"#00A0DC\", \"line\": {\"color\": \"rgb(248, 248, 249)\", \"width\": 1}}, \"orientation\": \"h\", \"text\": \"Total Funded Amount: $3,814k\", \"x\": [0.0], \"y\": [\"Moving\"], \"type\": \"bar\", \"uid\": \"e338e1ca-d502-11e8-8ae6-b16ad29151c9\"}, {\"hoverinfo\": \"text\", \"hoverlabel\": {\"bgcolor\": \"rgb(248, 248, 249)\"}, \"marker\": {\"color\": \"#00A0DC\", \"line\": {\"color\": \"rgb(248, 248, 249)\", \"width\": 1}}, \"orientation\": \"h\", \"text\": \"Total Funded Amount: $5,650k\", \"x\": [0.0], \"y\": [\"Medical\"], \"type\": \"bar\", \"uid\": \"e338e1cb-d502-11e8-aa5f-b16ad29151c9\"}, {\"hoverinfo\": \"text\", \"hoverlabel\": {\"bgcolor\": \"rgb(248, 248, 249)\"}, \"marker\": {\"color\": \"#00A0DC\", \"line\": {\"color\": \"rgb(248, 248, 249)\", \"width\": 1}}, \"orientation\": \"h\", \"text\": \"Total Funded Amount: $9,003k\", \"x\": [0.0], \"y\": [\"Wedding\"], \"type\": \"bar\", \"uid\": \"e338e1cc-d502-11e8-a82e-b16ad29151c9\"}, {\"hoverinfo\": \"text\", \"hoverlabel\": {\"bgcolor\": \"rgb(248, 248, 249)\"}, \"marker\": {\"color\": \"#00A0DC\", \"line\": {\"color\": \"rgb(248, 248, 249)\", \"width\": 1}}, \"orientation\": \"h\", \"text\": \"Total Funded Amount: $10,349k\", \"x\": [0.0], \"y\": [\"Car\"], \"type\": \"bar\", \"uid\": \"e338e1cd-d502-11e8-b3a6-b16ad29151c9\"}, {\"hoverinfo\": \"text\", \"hoverlabel\": {\"bgcolor\": \"rgb(248, 248, 249)\"}, \"marker\": {\"color\": \"#00A0DC\", \"line\": {\"color\": \"rgb(248, 248, 249)\", \"width\": 1}}, \"orientation\": \"h\", \"text\": \"Total Funded Amount: $22,865k\", \"x\": [0.0], \"y\": [\"Small Business\"], \"type\": \"bar\", \"uid\": \"e338e1ce-d502-11e8-b19d-b16ad29151c9\"}, {\"hoverinfo\": \"text\", \"hoverlabel\": {\"bgcolor\": \"rgb(248, 248, 249)\"}, \"marker\": {\"color\": \"#00A0DC\", \"line\": {\"color\": \"rgb(248, 248, 249)\", \"width\": 1}}, \"orientation\": \"h\", \"text\": \"Total Funded Amount: $17,307k\", \"x\": [0.0], \"y\": [\"Major Purchase\"], \"type\": \"bar\", \"uid\": \"e338e1cf-d502-11e8-a360-b16ad29151c9\"}, {\"hoverinfo\": \"text\", \"hoverlabel\": {\"bgcolor\": \"rgb(248, 248, 249)\"}, \"marker\": {\"color\": \"#00A0DC\", \"line\": {\"color\": \"rgb(248, 248, 249)\", \"width\": 1}}, \"orientation\": \"h\", \"text\": \"Total Funded Amount: $33,201k\", \"x\": [0.0], \"y\": [\"Home Improvement\"], \"type\": \"bar\", \"uid\": \"e338e1d0-d502-11e8-a276-b16ad29151c9\"}, {\"hoverinfo\": \"text\", \"hoverlabel\": {\"bgcolor\": \"rgb(248, 248, 249)\"}, \"marker\": {\"color\": \"#00A0DC\", \"line\": {\"color\": \"rgb(248, 248, 249)\", \"width\": 1}}, \"orientation\": \"h\", \"text\": \"Total Funded Amount: $31,391k\", \"x\": [0.0], \"y\": [\"Other\"], \"type\": \"bar\", \"uid\": \"e338e1d1-d502-11e8-9bf2-b16ad29151c9\"}, {\"hoverinfo\": \"text\", \"hoverlabel\": {\"bgcolor\": \"rgb(248, 248, 249)\"}, \"marker\": {\"color\": \"#00A0DC\", \"line\": {\"color\": \"rgb(248, 248, 249)\", \"width\": 1}}, \"orientation\": \"h\", \"text\": \"Total Funded Amount: $58,020k\", \"x\": [0.0], \"y\": [\"Credit Card\"], \"type\": \"bar\", \"uid\": \"e338e1d2-d502-11e8-a6fa-b16ad29151c9\"}, {\"hoverinfo\": \"text\", \"hoverlabel\": {\"bgcolor\": \"rgb(248, 248, 249)\"}, \"marker\": {\"color\": \"#00A0DC\", \"line\": {\"color\": \"rgb(248, 248, 249)\", \"width\": 1}}, \"orientation\": \"h\", \"text\": \"Total Funded Amount: $228,828k\", \"x\": [0.0], \"y\": [\"Debt Consolidation\"], \"type\": \"bar\", \"uid\": \"e338e1d3-d502-11e8-a2f2-b16ad29151c9\"}, {\"hoverinfo\": \"text\", \"hoverlabel\": {\"bgcolor\": \"rgb(248, 248, 249)\"}, \"marker\": {\"color\": \"#009687\", \"line\": {\"color\": \"rgb(248, 248, 249)\", \"width\": 1}}, \"orientation\": \"h\", \"text\": \"\", \"x\": [36.2], \"y\": [\"Renewable Energy\"], \"type\": \"bar\", \"uid\": \"e338e1d4-d502-11e8-a047-b16ad29151c9\"}, {\"hoverinfo\": \"text\", \"hoverlabel\": {\"bgcolor\": \"rgb(248, 248, 249)\"}, \"marker\": {\"color\": \"#009687\", \"line\": {\"color\": \"rgb(248, 248, 249)\", \"width\": 1}}, \"orientation\": \"h\", \"text\": \"\", \"x\": [56.7], \"y\": [\"Vacation\"], \"type\": \"bar\", \"uid\": \"e338e1d5-d502-11e8-90ed-b16ad29151c9\"}, {\"hoverinfo\": \"text\", \"hoverlabel\": {\"bgcolor\": \"rgb(248, 248, 249)\"}, \"marker\": {\"color\": \"#009687\", \"line\": {\"color\": \"rgb(248, 248, 249)\", \"width\": 1}}, \"orientation\": \"h\", \"text\": \"\", \"x\": [62.6], \"y\": [\"Educational\"], \"type\": \"bar\", \"uid\": \"e338e1d6-d502-11e8-9490-b16ad29151c9\"}, {\"hoverinfo\": \"text\", \"hoverlabel\": {\"bgcolor\": \"rgb(248, 248, 249)\"}, \"marker\": {\"color\": \"#009687\", \"line\": {\"color\": \"rgb(248, 248, 249)\", \"width\": 1}}, \"orientation\": \"h\", \"text\": \"\", \"x\": [53.8], \"y\": [\"House\"], \"type\": \"bar\", \"uid\": \"e338e1d7-d502-11e8-bd21-b16ad29151c9\"}, {\"hoverinfo\": \"text\", \"hoverlabel\": {\"bgcolor\": \"rgb(248, 248, 249)\"}, \"marker\": {\"color\": \"#009687\", \"line\": {\"color\": \"rgb(248, 248, 249)\", \"width\": 1}}, \"orientation\": \"h\", \"text\": \"\", \"x\": [76.4], \"y\": [\"Moving\"], \"type\": \"bar\", \"uid\": \"e338e1d8-d502-11e8-9bcb-b16ad29151c9\"}, {\"hoverinfo\": \"text\", \"hoverlabel\": {\"bgcolor\": \"rgb(248, 248, 249)\"}, \"marker\": {\"color\": \"#009687\", \"line\": {\"color\": \"rgb(248, 248, 249)\", \"width\": 1}}, \"orientation\": \"h\", \"text\": \"\", \"x\": [45.4], \"y\": [\"Medical\"], \"type\": \"bar\", \"uid\": \"e338e1d9-d502-11e8-a9ff-b16ad29151c9\"}, {\"hoverinfo\": \"text\", \"hoverlabel\": {\"bgcolor\": \"rgb(248, 248, 249)\"}, \"marker\": {\"color\": \"#009687\", \"line\": {\"color\": \"rgb(248, 248, 249)\", \"width\": 1}}, \"orientation\": \"h\", \"text\": \"\", \"x\": [62.7], \"y\": [\"Wedding\"], \"type\": \"bar\", \"uid\": \"e338e1da-d502-11e8-abd9-b16ad29151c9\"}, {\"hoverinfo\": \"text\", \"hoverlabel\": {\"bgcolor\": \"rgb(248, 248, 249)\"}, \"marker\": {\"color\": \"#009687\", \"line\": {\"color\": \"rgb(248, 248, 249)\", \"width\": 1}}, \"orientation\": \"h\", \"text\": \"\", \"x\": [41.4], \"y\": [\"Car\"], \"type\": \"bar\", \"uid\": \"e338e1db-d502-11e8-89b4-b16ad29151c9\"}, {\"hoverinfo\": \"text\", \"hoverlabel\": {\"bgcolor\": \"rgb(248, 248, 249)\"}, \"marker\": {\"color\": \"#009687\", \"line\": {\"color\": \"rgb(248, 248, 249)\", \"width\": 1}}, \"orientation\": \"h\", \"text\": \"\", \"x\": [41.2], \"y\": [\"Small Business\"], \"type\": \"bar\", \"uid\": \"e338e1dc-d502-11e8-be94-b16ad29151c9\"}, {\"hoverinfo\": \"text\", \"hoverlabel\": {\"bgcolor\": \"rgb(248, 248, 249)\"}, \"marker\": {\"color\": \"#009687\", \"line\": {\"color\": \"rgb(248, 248, 249)\", \"width\": 1}}, \"orientation\": \"h\", \"text\": \"\", \"x\": [46.3], \"y\": [\"Major Purchase\"], \"type\": \"bar\", \"uid\": \"e338e1dd-d502-11e8-bfa0-b16ad29151c9\"}, {\"hoverinfo\": \"text\", \"hoverlabel\": {\"bgcolor\": \"rgb(248, 248, 249)\"}, \"marker\": {\"color\": \"#009687\", \"line\": {\"color\": \"rgb(248, 248, 249)\", \"width\": 1}}, \"orientation\": \"h\", \"text\": \"\", \"x\": [9.4], \"y\": [\"Home Improvement\"], \"type\": \"bar\", \"uid\": \"e338e1de-d502-11e8-b153-b16ad29151c9\"}, {\"hoverinfo\": \"text\", \"hoverlabel\": {\"bgcolor\": \"rgb(248, 248, 249)\"}, \"marker\": {\"color\": \"#009687\", \"line\": {\"color\": \"rgb(248, 248, 249)\", \"width\": 1}}, \"orientation\": \"h\", \"text\": \"\", \"x\": [53.0], \"y\": [\"Other\"], \"type\": \"bar\", \"uid\": \"e338e1df-d502-11e8-a59d-b16ad29151c9\"}, {\"hoverinfo\": \"text\", \"hoverlabel\": {\"bgcolor\": \"rgb(248, 248, 249)\"}, \"marker\": {\"color\": \"#009687\", \"line\": {\"color\": \"rgb(248, 248, 249)\", \"width\": 1}}, \"orientation\": \"h\", \"text\": \"\", \"x\": [49.3], \"y\": [\"Credit Card\"], \"type\": \"bar\", \"uid\": \"e338e1e0-d502-11e8-808d-b16ad29151c9\"}, {\"hoverinfo\": \"text\", \"hoverlabel\": {\"bgcolor\": \"rgb(248, 248, 249)\"}, \"marker\": {\"color\": \"#009687\", \"line\": {\"color\": \"rgb(248, 248, 249)\", \"width\": 1}}, \"orientation\": \"h\", \"text\": \"\", \"x\": [50.8], \"y\": [\"Debt Consolidation\"], \"type\": \"bar\", \"uid\": \"e338e1e1-d502-11e8-a7e7-b16ad29151c9\"}, {\"hoverinfo\": \"text\", \"hoverlabel\": {\"bgcolor\": \"rgb(248, 248, 249)\"}, \"marker\": {\"color\": \"#DD5143\", \"line\": {\"color\": \"rgb(248, 248, 249)\", \"width\": 1}}, \"orientation\": \"h\", \"text\": \"\", \"x\": [53.3], \"y\": [\"Renewable Energy\"], \"type\": \"bar\", \"uid\": \"e338e1e2-d502-11e8-8a19-b16ad29151c9\"}, {\"hoverinfo\": \"text\", \"hoverlabel\": {\"bgcolor\": \"rgb(248, 248, 249)\"}, \"marker\": {\"color\": \"#DD5143\", \"line\": {\"color\": \"rgb(248, 248, 249)\", \"width\": 1}}, \"orientation\": \"h\", \"text\": \"\", \"x\": [35.5], \"y\": [\"Vacation\"], \"type\": \"bar\", \"uid\": \"e338e1e3-d502-11e8-b3c0-b16ad29151c9\"}, {\"hoverinfo\": \"text\", \"hoverlabel\": {\"bgcolor\": \"rgb(248, 248, 249)\"}, \"marker\": {\"color\": \"#DD5143\", \"line\": {\"color\": \"rgb(248, 248, 249)\", \"width\": 1}}, \"orientation\": \"h\", \"text\": \"\", \"x\": [28.0], \"y\": [\"Educational\"], \"type\": \"bar\", \"uid\": \"e338e1e4-d502-11e8-a52b-b16ad29151c9\"}, {\"hoverinfo\": \"text\", \"hoverlabel\": {\"bgcolor\": \"rgb(248, 248, 249)\"}, \"marker\": {\"color\": \"#DD5143\", \"line\": {\"color\": \"rgb(248, 248, 249)\", \"width\": 1}}, \"orientation\": \"h\", \"text\": \"\", \"x\": [37.4], \"y\": [\"House\"], \"type\": \"bar\", \"uid\": \"e338e1e5-d502-11e8-8ba8-b16ad29151c9\"}, {\"hoverinfo\": \"text\", \"hoverlabel\": {\"bgcolor\": \"rgb(248, 248, 249)\"}, \"marker\": {\"color\": \"#DD5143\", \"line\": {\"color\": \"rgb(248, 248, 249)\", \"width\": 1}}, \"orientation\": \"h\", \"text\": \"\", \"x\": [18.6], \"y\": [\"Moving\"], \"type\": \"bar\", \"uid\": \"e338e1e6-d502-11e8-aeb1-b16ad29151c9\"}, {\"hoverinfo\": \"text\", \"hoverlabel\": {\"bgcolor\": \"rgb(248, 248, 249)\"}, \"marker\": {\"color\": \"#DD5143\", \"line\": {\"color\": \"rgb(248, 248, 249)\", \"width\": 1}}, \"orientation\": \"h\", \"text\": \"\", \"x\": [44.3], \"y\": [\"Medical\"], \"type\": \"bar\", \"uid\": \"e338e1e7-d502-11e8-9185-b16ad29151c9\"}, {\"hoverinfo\": \"text\", \"hoverlabel\": {\"bgcolor\": \"rgb(248, 248, 249)\"}, \"marker\": {\"color\": \"#DD5143\", \"line\": {\"color\": \"rgb(248, 248, 249)\", \"width\": 1}}, \"orientation\": \"h\", \"text\": \"\", \"x\": [31.4], \"y\": [\"Wedding\"], \"type\": \"bar\", \"uid\": \"e338e1e8-d502-11e8-a1f7-b16ad29151c9\"}, {\"hoverinfo\": \"text\", \"hoverlabel\": {\"bgcolor\": \"rgb(248, 248, 249)\"}, \"marker\": {\"color\": \"#DD5143\", \"line\": {\"color\": \"rgb(248, 248, 249)\", \"width\": 1}}, \"orientation\": \"h\", \"text\": \"\", \"x\": [48.4], \"y\": [\"Car\"], \"type\": \"bar\", \"uid\": \"e338e1e9-d502-11e8-a04e-b16ad29151c9\"}, {\"hoverinfo\": \"text\", \"hoverlabel\": {\"bgcolor\": \"rgb(248, 248, 249)\"}, \"marker\": {\"color\": \"#DD5143\", \"line\": {\"color\": \"rgb(248, 248, 249)\", \"width\": 1}}, \"orientation\": \"h\", \"text\": \"\", \"x\": [51.7], \"y\": [\"Small Business\"], \"type\": \"bar\", \"uid\": \"e338e1ea-d502-11e8-a8aa-b16ad29151c9\"}, {\"hoverinfo\": \"text\", \"hoverlabel\": {\"bgcolor\": \"rgb(248, 248, 249)\"}, \"marker\": {\"color\": \"#DD5143\", \"line\": {\"color\": \"rgb(248, 248, 249)\", \"width\": 1}}, \"orientation\": \"h\", \"text\": \"\", \"x\": [42.4], \"y\": [\"Major Purchase\"], \"type\": \"bar\", \"uid\": \"e338e1eb-d502-11e8-b17a-b16ad29151c9\"}, {\"hoverinfo\": \"text\", \"hoverlabel\": {\"bgcolor\": \"rgb(248, 248, 249)\"}, \"marker\": {\"color\": \"#DD5143\", \"line\": {\"color\": \"rgb(248, 248, 249)\", \"width\": 1}}, \"orientation\": \"h\", \"text\": \"\", \"x\": [79.4], \"y\": [\"Home Improvement\"], \"type\": \"bar\", \"uid\": \"e33908b8-d502-11e8-b258-b16ad29151c9\"}, {\"hoverinfo\": \"text\", \"hoverlabel\": {\"bgcolor\": \"rgb(248, 248, 249)\"}, \"marker\": {\"color\": \"#DD5143\", \"line\": {\"color\": \"rgb(248, 248, 249)\", \"width\": 1}}, \"orientation\": \"h\", \"text\": \"\", \"x\": [37.4], \"y\": [\"Other\"], \"type\": \"bar\", \"uid\": \"e33908b9-d502-11e8-a5fb-b16ad29151c9\"}, {\"hoverinfo\": \"text\", \"hoverlabel\": {\"bgcolor\": \"rgb(248, 248, 249)\"}, \"marker\": {\"color\": \"#DD5143\", \"line\": {\"color\": \"rgb(248, 248, 249)\", \"width\": 1}}, \"orientation\": \"h\", \"text\": \"\", \"x\": [44.8], \"y\": [\"Credit Card\"], \"type\": \"bar\", \"uid\": \"e33908ba-d502-11e8-a9ee-b16ad29151c9\"}, {\"hoverinfo\": \"text\", \"hoverlabel\": {\"bgcolor\": \"rgb(248, 248, 249)\"}, \"marker\": {\"color\": \"#DD5143\", \"line\": {\"color\": \"rgb(248, 248, 249)\", \"width\": 1}}, \"orientation\": \"h\", \"text\": \"\", \"x\": [42.0], \"y\": [\"Debt Consolidation\"], \"type\": \"bar\", \"uid\": \"e33908bb-d502-11e8-a16b-b16ad29151c9\"}, {\"hoverinfo\": \"text\", \"hoverlabel\": {\"bgcolor\": \"rgb(248, 248, 249)\"}, \"marker\": {\"color\": \"#E68523\", \"line\": {\"color\": \"rgb(248, 248, 249)\", \"width\": 1}}, \"orientation\": \"h\", \"text\": \"Total Count: 105\", \"x\": [9.5], \"y\": [\"Renewable Energy\"], \"type\": \"bar\", \"uid\": \"e33908bc-d502-11e8-8e9e-b16ad29151c9\"}, {\"hoverinfo\": \"text\", \"hoverlabel\": {\"bgcolor\": \"rgb(248, 248, 249)\"}, \"marker\": {\"color\": \"#E68523\", \"line\": {\"color\": \"rgb(248, 248, 249)\", \"width\": 1}}, \"orientation\": \"h\", \"text\": \"Total Count: 397\", \"x\": [7.8], \"y\": [\"Vacation\"], \"type\": \"bar\", \"uid\": \"e33908bd-d502-11e8-9289-b16ad29151c9\"}, {\"hoverinfo\": \"text\", \"hoverlabel\": {\"bgcolor\": \"rgb(248, 248, 249)\"}, \"marker\": {\"color\": \"#E68523\", \"line\": {\"color\": \"rgb(248, 248, 249)\", \"width\": 1}}, \"orientation\": \"h\", \"text\": \"Total Count: 404\", \"x\": [8.2], \"y\": [\"Educational\"], \"type\": \"bar\", \"uid\": \"e33908be-d502-11e8-a77c-b16ad29151c9\"}, {\"hoverinfo\": \"text\", \"hoverlabel\": {\"bgcolor\": \"rgb(248, 248, 249)\"}, \"marker\": {\"color\": \"#E68523\", \"line\": {\"color\": \"rgb(248, 248, 249)\", \"width\": 1}}, \"orientation\": \"h\", \"text\": \"Total Count: 422\", \"x\": [8.1], \"y\": [\"House\"], \"type\": \"bar\", \"uid\": \"e33908bf-d502-11e8-9c55-b16ad29151c9\"}, {\"hoverinfo\": \"text\", \"hoverlabel\": {\"bgcolor\": \"rgb(248, 248, 249)\"}, \"marker\": {\"color\": \"#E68523\", \"line\": {\"color\": \"rgb(248, 248, 249)\", \"width\": 1}}, \"orientation\": \"h\", \"text\": \"Total Count: 622\", \"x\": [4.5], \"y\": [\"Moving\"], \"type\": \"bar\", \"uid\": \"e33908c0-d502-11e8-9da2-b16ad29151c9\"}, {\"hoverinfo\": \"text\", \"hoverlabel\": {\"bgcolor\": \"rgb(248, 248, 249)\"}, \"marker\": {\"color\": \"#E68523\", \"line\": {\"color\": \"rgb(248, 248, 249)\", \"width\": 1}}, \"orientation\": \"h\", \"text\": \"Total Count: 751\", \"x\": [9.6], \"y\": [\"Medical\"], \"type\": \"bar\", \"uid\": \"e33908c1-d502-11e8-b93f-b16ad29151c9\"}, {\"hoverinfo\": \"text\", \"hoverlabel\": {\"bgcolor\": \"rgb(248, 248, 249)\"}, \"marker\": {\"color\": \"#E68523\", \"line\": {\"color\": \"rgb(248, 248, 249)\", \"width\": 1}}, \"orientation\": \"h\", \"text\": \"Total Count: 996\", \"x\": [5.8], \"y\": [\"Wedding\"], \"type\": \"bar\", \"uid\": \"e33908c2-d502-11e8-8124-b16ad29151c9\"}, {\"hoverinfo\": \"text\", \"hoverlabel\": {\"bgcolor\": \"rgb(248, 248, 249)\"}, \"marker\": {\"color\": \"#E68523\", \"line\": {\"color\": \"rgb(248, 248, 249)\", \"width\": 1}}, \"orientation\": \"h\", \"text\": \"Total Count: 1607\", \"x\": [10.0], \"y\": [\"Car\"], \"type\": \"bar\", \"uid\": \"e33908c3-d502-11e8-9487-b16ad29151c9\"}, {\"hoverinfo\": \"text\", \"hoverlabel\": {\"bgcolor\": \"rgb(248, 248, 249)\"}, \"marker\": {\"color\": \"#E68523\", \"line\": {\"color\": \"rgb(248, 248, 249)\", \"width\": 1}}, \"orientation\": \"h\", \"text\": \"Total Count: 1974\", \"x\": [6.4], \"y\": [\"Small Business\"], \"type\": \"bar\", \"uid\": \"e33908c4-d502-11e8-a245-b16ad29151c9\"}, {\"hoverinfo\": \"text\", \"hoverlabel\": {\"bgcolor\": \"rgb(248, 248, 249)\"}, \"marker\": {\"color\": \"#E68523\", \"line\": {\"color\": \"rgb(248, 248, 249)\", \"width\": 1}}, \"orientation\": \"h\", \"text\": \"Total Count: 2298\", \"x\": [10.9], \"y\": [\"Major Purchase\"], \"type\": \"bar\", \"uid\": \"e33908c5-d502-11e8-ad6d-b16ad29151c9\"}, {\"hoverinfo\": \"text\", \"hoverlabel\": {\"bgcolor\": \"rgb(248, 248, 249)\"}, \"marker\": {\"color\": \"#E68523\", \"line\": {\"color\": \"rgb(248, 248, 249)\", \"width\": 1}}, \"orientation\": \"h\", \"text\": \"Total Count: 3179\", \"x\": [11.0], \"y\": [\"Home Improvement\"], \"type\": \"bar\", \"uid\": \"e33908c6-d502-11e8-b6cd-b16ad29151c9\"}, {\"hoverinfo\": \"text\", \"hoverlabel\": {\"bgcolor\": \"rgb(248, 248, 249)\"}, \"marker\": {\"color\": \"#E68523\", \"line\": {\"color\": \"rgb(248, 248, 249)\", \"width\": 1}}, \"orientation\": \"h\", \"text\": \"Total Count: 4353\", \"x\": [9.2], \"y\": [\"Other\"], \"type\": \"bar\", \"uid\": \"e33908c7-d502-11e8-a70c-b16ad29151c9\"}, {\"hoverinfo\": \"text\", \"hoverlabel\": {\"bgcolor\": \"rgb(248, 248, 249)\"}, \"marker\": {\"color\": \"#E68523\", \"line\": {\"color\": \"rgb(248, 248, 249)\", \"width\": 1}}, \"orientation\": \"h\", \"text\": \"Total Count: 5437\", \"x\": [5.6], \"y\": [\"Credit Card\"], \"type\": \"bar\", \"uid\": \"e33908c8-d502-11e8-920a-b16ad29151c9\"}, {\"hoverinfo\": \"text\", \"hoverlabel\": {\"bgcolor\": \"rgb(248, 248, 249)\"}, \"marker\": {\"color\": \"#E68523\", \"line\": {\"color\": \"rgb(248, 248, 249)\", \"width\": 1}}, \"orientation\": \"h\", \"text\": \"Total Count: 19691\", \"x\": [6.9], \"y\": [\"Debt Consolidation\"], \"type\": \"bar\", \"uid\": \"e33908c9-d502-11e8-9b68-b16ad29151c9\"}],\n",
       "            {\"annotations\": [{\"align\": \"right\", \"font\": {\"color\": \"rgb(67, 67, 67)\", \"family\": \"Arial\", \"size\": 12}, \"showarrow\": false, \"text\": \"Renewable Energy\", \"x\": 0.175, \"xanchor\": \"left\", \"xref\": \"paper\", \"y\": \"Renewable Energy\", \"yref\": \"y\"}, {\"font\": {\"color\": \"rgb(248, 248, 255)\", \"family\": \"Arial\", \"size\": 12}, \"showarrow\": false, \"text\": \"36.2%\", \"x\": 18.1, \"xref\": \"x\", \"y\": \"Renewable Energy\", \"yref\": \"y\"}, {\"font\": {\"color\": \"rgb(248, 248, 255)\", \"family\": \"Arial\", \"size\": 12}, \"showarrow\": false, \"text\": \"53.3%\", \"x\": 62.85, \"xref\": \"x\", \"y\": \"Renewable Energy\", \"yref\": \"y\"}, {\"font\": {\"color\": \"rgb(248, 248, 255)\", \"family\": \"Arial\", \"size\": 12}, \"showarrow\": false, \"text\": \"9.5%\", \"x\": 94.25, \"xref\": \"x\", \"y\": \"Renewable Energy\", \"yref\": \"y\"}, {\"align\": \"right\", \"font\": {\"color\": \"rgb(67, 67, 67)\", \"family\": \"Arial\", \"size\": 12}, \"showarrow\": false, \"text\": \"Vacation\", \"x\": 0.175, \"xanchor\": \"left\", \"xref\": \"paper\", \"y\": \"Vacation\", \"yref\": \"y\"}, {\"font\": {\"color\": \"rgb(248, 248, 255)\", \"family\": \"Arial\", \"size\": 12}, \"showarrow\": false, \"text\": \"56.7%\", \"x\": 28.35, \"xref\": \"x\", \"y\": \"Vacation\", \"yref\": \"y\"}, {\"font\": {\"color\": \"rgb(248, 248, 255)\", \"family\": \"Arial\", \"size\": 12}, \"showarrow\": false, \"text\": \"35.5%\", \"x\": 74.45, \"xref\": \"x\", \"y\": \"Vacation\", \"yref\": \"y\"}, {\"font\": {\"color\": \"rgb(248, 248, 255)\", \"family\": \"Arial\", \"size\": 12}, \"showarrow\": false, \"text\": \"7.8%\", \"x\": 96.10000000000001, \"xref\": \"x\", \"y\": \"Vacation\", \"yref\": \"y\"}, {\"align\": \"right\", \"font\": {\"color\": \"rgb(67, 67, 67)\", \"family\": \"Arial\", \"size\": 12}, \"showarrow\": false, \"text\": \"Educational\", \"x\": 0.175, \"xanchor\": \"left\", \"xref\": \"paper\", \"y\": \"Educational\", \"yref\": \"y\"}, {\"font\": {\"color\": \"rgb(248, 248, 255)\", \"family\": \"Arial\", \"size\": 12}, \"showarrow\": false, \"text\": \"62.6%\", \"x\": 31.3, \"xref\": \"x\", \"y\": \"Educational\", \"yref\": \"y\"}, {\"font\": {\"color\": \"rgb(248, 248, 255)\", \"family\": \"Arial\", \"size\": 12}, \"showarrow\": false, \"text\": \"28.0%\", \"x\": 76.6, \"xref\": \"x\", \"y\": \"Educational\", \"yref\": \"y\"}, {\"font\": {\"color\": \"rgb(248, 248, 255)\", \"family\": \"Arial\", \"size\": 12}, \"showarrow\": false, \"text\": \"8.2%\", \"x\": 94.69999999999999, \"xref\": \"x\", \"y\": \"Educational\", \"yref\": \"y\"}, {\"align\": \"right\", \"font\": {\"color\": \"rgb(67, 67, 67)\", \"family\": \"Arial\", \"size\": 12}, \"showarrow\": false, \"text\": \"House\", \"x\": 0.175, \"xanchor\": \"left\", \"xref\": \"paper\", \"y\": \"House\", \"yref\": \"y\"}, {\"font\": {\"color\": \"rgb(248, 248, 255)\", \"family\": \"Arial\", \"size\": 12}, \"showarrow\": false, \"text\": \"53.8%\", \"x\": 26.9, \"xref\": \"x\", \"y\": \"House\", \"yref\": \"y\"}, {\"font\": {\"color\": \"rgb(248, 248, 255)\", \"family\": \"Arial\", \"size\": 12}, \"showarrow\": false, \"text\": \"37.4%\", \"x\": 72.5, \"xref\": \"x\", \"y\": \"House\", \"yref\": \"y\"}, {\"font\": {\"color\": \"rgb(248, 248, 255)\", \"family\": \"Arial\", \"size\": 12}, \"showarrow\": false, \"text\": \"8.1%\", \"x\": 95.24999999999999, \"xref\": \"x\", \"y\": \"House\", \"yref\": \"y\"}, {\"align\": \"right\", \"font\": {\"color\": \"rgb(67, 67, 67)\", \"family\": \"Arial\", \"size\": 12}, \"showarrow\": false, \"text\": \"Moving\", \"x\": 0.175, \"xanchor\": \"left\", \"xref\": \"paper\", \"y\": \"Moving\", \"yref\": \"y\"}, {\"font\": {\"color\": \"rgb(248, 248, 255)\", \"family\": \"Arial\", \"size\": 12}, \"showarrow\": false, \"text\": \"76.4%\", \"x\": 38.2, \"xref\": \"x\", \"y\": \"Moving\", \"yref\": \"y\"}, {\"font\": {\"color\": \"rgb(248, 248, 255)\", \"family\": \"Arial\", \"size\": 12}, \"showarrow\": false, \"text\": \"18.6%\", \"x\": 85.7, \"xref\": \"x\", \"y\": \"Moving\", \"yref\": \"y\"}, {\"font\": {\"color\": \"rgb(248, 248, 255)\", \"family\": \"Arial\", \"size\": 12}, \"showarrow\": false, \"text\": \"4.5%\", \"x\": 97.25, \"xref\": \"x\", \"y\": \"Moving\", \"yref\": \"y\"}, {\"align\": \"right\", \"font\": {\"color\": \"rgb(67, 67, 67)\", \"family\": \"Arial\", \"size\": 12}, \"showarrow\": false, \"text\": \"Medical\", \"x\": 0.175, \"xanchor\": \"left\", \"xref\": \"paper\", \"y\": \"Medical\", \"yref\": \"y\"}, {\"font\": {\"color\": \"rgb(248, 248, 255)\", \"family\": \"Arial\", \"size\": 12}, \"showarrow\": false, \"text\": \"45.4%\", \"x\": 22.7, \"xref\": \"x\", \"y\": \"Medical\", \"yref\": \"y\"}, {\"font\": {\"color\": \"rgb(248, 248, 255)\", \"family\": \"Arial\", \"size\": 12}, \"showarrow\": false, \"text\": \"44.3%\", \"x\": 67.55, \"xref\": \"x\", \"y\": \"Medical\", \"yref\": \"y\"}, {\"font\": {\"color\": \"rgb(248, 248, 255)\", \"family\": \"Arial\", \"size\": 12}, \"showarrow\": false, \"text\": \"9.6%\", \"x\": 94.49999999999999, \"xref\": \"x\", \"y\": \"Medical\", \"yref\": \"y\"}, {\"align\": \"right\", \"font\": {\"color\": \"rgb(67, 67, 67)\", \"family\": \"Arial\", \"size\": 12}, \"showarrow\": false, \"text\": \"Wedding\", \"x\": 0.175, \"xanchor\": \"left\", \"xref\": \"paper\", \"y\": \"Wedding\", \"yref\": \"y\"}, {\"font\": {\"color\": \"rgb(248, 248, 255)\", \"family\": \"Arial\", \"size\": 12}, \"showarrow\": false, \"text\": \"62.7%\", \"x\": 31.35, \"xref\": \"x\", \"y\": \"Wedding\", \"yref\": \"y\"}, {\"font\": {\"color\": \"rgb(248, 248, 255)\", \"family\": \"Arial\", \"size\": 12}, \"showarrow\": false, \"text\": \"31.4%\", \"x\": 78.4, \"xref\": \"x\", \"y\": \"Wedding\", \"yref\": \"y\"}, {\"font\": {\"color\": \"rgb(248, 248, 255)\", \"family\": \"Arial\", \"size\": 12}, \"showarrow\": false, \"text\": \"5.8%\", \"x\": 97.0, \"xref\": \"x\", \"y\": \"Wedding\", \"yref\": \"y\"}, {\"align\": \"right\", \"font\": {\"color\": \"rgb(67, 67, 67)\", \"family\": \"Arial\", \"size\": 12}, \"showarrow\": false, \"text\": \"Car\", \"x\": 0.175, \"xanchor\": \"left\", \"xref\": \"paper\", \"y\": \"Car\", \"yref\": \"y\"}, {\"font\": {\"color\": \"rgb(248, 248, 255)\", \"family\": \"Arial\", \"size\": 12}, \"showarrow\": false, \"text\": \"41.4%\", \"x\": 20.7, \"xref\": \"x\", \"y\": \"Car\", \"yref\": \"y\"}, {\"font\": {\"color\": \"rgb(248, 248, 255)\", \"family\": \"Arial\", \"size\": 12}, \"showarrow\": false, \"text\": \"48.4%\", \"x\": 65.6, \"xref\": \"x\", \"y\": \"Car\", \"yref\": \"y\"}, {\"font\": {\"color\": \"rgb(248, 248, 255)\", \"family\": \"Arial\", \"size\": 12}, \"showarrow\": false, \"text\": \"10.0%\", \"x\": 94.8, \"xref\": \"x\", \"y\": \"Car\", \"yref\": \"y\"}, {\"align\": \"right\", \"font\": {\"color\": \"rgb(67, 67, 67)\", \"family\": \"Arial\", \"size\": 12}, \"showarrow\": false, \"text\": \"Small Business\", \"x\": 0.175, \"xanchor\": \"left\", \"xref\": \"paper\", \"y\": \"Small Business\", \"yref\": \"y\"}, {\"font\": {\"color\": \"rgb(248, 248, 255)\", \"family\": \"Arial\", \"size\": 12}, \"showarrow\": false, \"text\": \"41.2%\", \"x\": 20.6, \"xref\": \"x\", \"y\": \"Small Business\", \"yref\": \"y\"}, {\"font\": {\"color\": \"rgb(248, 248, 255)\", \"family\": \"Arial\", \"size\": 12}, \"showarrow\": false, \"text\": \"51.7%\", \"x\": 67.05000000000001, \"xref\": \"x\", \"y\": \"Small Business\", \"yref\": \"y\"}, {\"font\": {\"color\": \"rgb(248, 248, 255)\", \"family\": \"Arial\", \"size\": 12}, \"showarrow\": false, \"text\": \"6.4%\", \"x\": 96.10000000000001, \"xref\": \"x\", \"y\": \"Small Business\", \"yref\": \"y\"}, {\"align\": \"right\", \"font\": {\"color\": \"rgb(67, 67, 67)\", \"family\": \"Arial\", \"size\": 12}, \"showarrow\": false, \"text\": \"Major Purchase\", \"x\": 0.175, \"xanchor\": \"left\", \"xref\": \"paper\", \"y\": \"Major Purchase\", \"yref\": \"y\"}, {\"font\": {\"color\": \"rgb(248, 248, 255)\", \"family\": \"Arial\", \"size\": 12}, \"showarrow\": false, \"text\": \"46.3%\", \"x\": 23.15, \"xref\": \"x\", \"y\": \"Major Purchase\", \"yref\": \"y\"}, {\"font\": {\"color\": \"rgb(248, 248, 255)\", \"family\": \"Arial\", \"size\": 12}, \"showarrow\": false, \"text\": \"42.4%\", \"x\": 67.5, \"xref\": \"x\", \"y\": \"Major Purchase\", \"yref\": \"y\"}, {\"font\": {\"color\": \"rgb(248, 248, 255)\", \"family\": \"Arial\", \"size\": 12}, \"showarrow\": false, \"text\": \"10.9%\", \"x\": 94.14999999999999, \"xref\": \"x\", \"y\": \"Major Purchase\", \"yref\": \"y\"}, {\"align\": \"right\", \"font\": {\"color\": \"rgb(67, 67, 67)\", \"family\": \"Arial\", \"size\": 12}, \"showarrow\": false, \"text\": \"Home Improvement\", \"x\": 0.175, \"xanchor\": \"left\", \"xref\": \"paper\", \"y\": \"Home Improvement\", \"yref\": \"y\"}, {\"font\": {\"color\": \"rgb(248, 248, 255)\", \"family\": \"Arial\", \"size\": 12}, \"showarrow\": false, \"text\": \"9.4%\", \"x\": 4.7, \"xref\": \"x\", \"y\": \"Home Improvement\", \"yref\": \"y\"}, {\"font\": {\"color\": \"rgb(248, 248, 255)\", \"family\": \"Arial\", \"size\": 12}, \"showarrow\": false, \"text\": \"79.4%\", \"x\": 49.1, \"xref\": \"x\", \"y\": \"Home Improvement\", \"yref\": \"y\"}, {\"font\": {\"color\": \"rgb(248, 248, 255)\", \"family\": \"Arial\", \"size\": 12}, \"showarrow\": false, \"text\": \"11.0%\", \"x\": 94.30000000000001, \"xref\": \"x\", \"y\": \"Home Improvement\", \"yref\": \"y\"}, {\"align\": \"right\", \"font\": {\"color\": \"rgb(67, 67, 67)\", \"family\": \"Arial\", \"size\": 12}, \"showarrow\": false, \"text\": \"Other\", \"x\": 0.175, \"xanchor\": \"left\", \"xref\": \"paper\", \"y\": \"Other\", \"yref\": \"y\"}, {\"font\": {\"color\": \"rgb(248, 248, 255)\", \"family\": \"Arial\", \"size\": 12}, \"showarrow\": false, \"text\": \"53.0%\", \"x\": 26.5, \"xref\": \"x\", \"y\": \"Other\", \"yref\": \"y\"}, {\"font\": {\"color\": \"rgb(248, 248, 255)\", \"family\": \"Arial\", \"size\": 12}, \"showarrow\": false, \"text\": \"37.4%\", \"x\": 71.7, \"xref\": \"x\", \"y\": \"Other\", \"yref\": \"y\"}, {\"font\": {\"color\": \"rgb(248, 248, 255)\", \"family\": \"Arial\", \"size\": 12}, \"showarrow\": false, \"text\": \"9.2%\", \"x\": 95.0, \"xref\": \"x\", \"y\": \"Other\", \"yref\": \"y\"}, {\"align\": \"right\", \"font\": {\"color\": \"rgb(67, 67, 67)\", \"family\": \"Arial\", \"size\": 12}, \"showarrow\": false, \"text\": \"Credit Card\", \"x\": 0.175, \"xanchor\": \"left\", \"xref\": \"paper\", \"y\": \"Credit Card\", \"yref\": \"y\"}, {\"font\": {\"color\": \"rgb(248, 248, 255)\", \"family\": \"Arial\", \"size\": 12}, \"showarrow\": false, \"text\": \"49.3%\", \"x\": 24.65, \"xref\": \"x\", \"y\": \"Credit Card\", \"yref\": \"y\"}, {\"font\": {\"color\": \"rgb(248, 248, 255)\", \"family\": \"Arial\", \"size\": 12}, \"showarrow\": false, \"text\": \"44.8%\", \"x\": 71.69999999999999, \"xref\": \"x\", \"y\": \"Credit Card\", \"yref\": \"y\"}, {\"font\": {\"color\": \"rgb(248, 248, 255)\", \"family\": \"Arial\", \"size\": 12}, \"showarrow\": false, \"text\": \"5.6%\", \"x\": 96.89999999999999, \"xref\": \"x\", \"y\": \"Credit Card\", \"yref\": \"y\"}, {\"align\": \"right\", \"font\": {\"color\": \"rgb(67, 67, 67)\", \"family\": \"Arial\", \"size\": 12}, \"showarrow\": false, \"text\": \"Debt Consolidation\", \"x\": 0.175, \"xanchor\": \"left\", \"xref\": \"paper\", \"y\": \"Debt Consolidation\", \"yref\": \"y\"}, {\"font\": {\"color\": \"rgb(248, 248, 255)\", \"family\": \"Arial\", \"size\": 12}, \"showarrow\": false, \"text\": \"50.8%\", \"x\": 25.4, \"xref\": \"x\", \"y\": \"Debt Consolidation\", \"yref\": \"y\"}, {\"font\": {\"color\": \"#009687\", \"family\": \"Arial\", \"size\": 14}, \"showarrow\": false, \"text\": \"RENT\", \"x\": 25.4, \"xref\": \"x\", \"y\": 1.1, \"yref\": \"paper\"}, {\"font\": {\"color\": \"rgb(248, 248, 255)\", \"family\": \"Arial\", \"size\": 12}, \"showarrow\": false, \"text\": \"42.0%\", \"x\": 71.8, \"xref\": \"x\", \"y\": \"Debt Consolidation\", \"yref\": \"y\"}, {\"font\": {\"color\": \"#DD5143\", \"family\": \"Arial\", \"size\": 14}, \"showarrow\": false, \"text\": \"MORTGAGE\", \"x\": 71.8, \"xref\": \"x\", \"y\": 1.1, \"yref\": \"paper\"}, {\"font\": {\"color\": \"rgb(248, 248, 255)\", \"family\": \"Arial\", \"size\": 12}, \"showarrow\": false, \"text\": \"6.9%\", \"x\": 96.25, \"xref\": \"x\", \"y\": \"Debt Consolidation\", \"yref\": \"y\"}, {\"font\": {\"color\": \"#E68523\", \"family\": \"Arial\", \"size\": 14}, \"showarrow\": false, \"text\": \"OWN\", \"x\": 96.25, \"xref\": \"x\", \"y\": 1.1, \"yref\": \"paper\"}, {\"font\": {\"color\": \"rgb(55, 128, 191)\", \"family\": \"Arial\", \"size\": 14}, \"showarrow\": false, \"text\": \"Total Count\", \"x\": 120, \"xref\": \"x\", \"y\": 1.1, \"yref\": \"paper\"}, {\"font\": {\"color\": \"rgb(55, 128, 191)\", \"family\": \"Arial\", \"size\": 14}, \"showarrow\": false, \"text\": \"Total Funded Amount\", \"x\": -35, \"xref\": \"x\", \"y\": 1.1, \"yref\": \"paper\"}], \"barmode\": \"stack\", \"paper_bgcolor\": \"rgb(248, 248, 255)\", \"plot_bgcolor\": \"rgb(248, 248, 255)\", \"shapes\": [{\"line\": {\"color\": \"rgb(55, 128, 191)\", \"width\": 14}, \"type\": \"line\", \"x0\": 105, \"x1\": 105.15997156061145, \"y0\": 0, \"y1\": 0}, {\"line\": {\"color\": \"rgb(55, 128, 191)\", \"width\": 14}, \"type\": \"line\", \"x0\": -20, \"x1\": -20.10619329802297, \"y0\": 0, \"y1\": 0}, {\"line\": {\"color\": \"rgb(55, 128, 191)\", \"width\": 14}, \"type\": \"line\", \"x0\": 105, \"x1\": 105.60484485297852, \"y0\": 1, \"y1\": 1}, {\"line\": {\"color\": \"rgb(55, 128, 191)\", \"width\": 14}, \"type\": \"line\", \"x0\": -20, \"x1\": -20.266925376265142, \"y0\": 1, \"y1\": 1}, {\"line\": {\"color\": \"rgb(55, 128, 191)\", \"width\": 14}, \"type\": \"line\", \"x0\": 105, \"x1\": 105.61550962368595, \"y0\": 2, \"y1\": 2}, {\"line\": {\"color\": \"rgb(55, 128, 191)\", \"width\": 14}, \"type\": \"line\", \"x0\": -20, \"x1\": -20.276626986207983, \"y0\": 2, \"y1\": 2}, {\"line\": {\"color\": \"rgb(55, 128, 191)\", \"width\": 14}, \"type\": \"line\", \"x0\": 105, \"x1\": 105.64293331979077, \"y0\": 3, \"y1\": 3}, {\"line\": {\"color\": \"rgb(55, 128, 191)\", \"width\": 14}, \"type\": \"line\", \"x0\": -20, \"x1\": -20.636373171115423, \"y0\": 3, \"y1\": 3}, {\"line\": {\"color\": \"rgb(55, 128, 191)\", \"width\": 14}, \"type\": \"line\", \"x0\": 105, \"x1\": 105.94764105428877, \"y0\": 4, \"y1\": 4}, {\"line\": {\"color\": \"rgb(55, 128, 191)\", \"width\": 14}, \"type\": \"line\", \"x0\": -20, \"x1\": -20.500026220567413, \"y0\": 4, \"y1\": 4}, {\"line\": {\"color\": \"rgb(55, 128, 191)\", \"width\": 14}, \"type\": \"line\", \"x0\": 105, \"x1\": 106.14417754303997, \"y0\": 5, \"y1\": 5}, {\"line\": {\"color\": \"rgb(55, 128, 191)\", \"width\": 14}, \"type\": \"line\", \"x0\": -20, \"x1\": -20.740731029419475, \"y0\": 5, \"y1\": 5}, {\"line\": {\"color\": \"rgb(55, 128, 191)\", \"width\": 14}, \"type\": \"line\", \"x0\": 105, \"x1\": 106.51744451780002, \"y0\": 6, \"y1\": 6}, {\"line\": {\"color\": \"rgb(55, 128, 191)\", \"width\": 14}, \"type\": \"line\", \"x0\": -20, \"x1\": -21.180318842099744, \"y0\": 6, \"y1\": 6}, {\"line\": {\"color\": \"rgb(55, 128, 191)\", \"width\": 14}, \"type\": \"line\", \"x0\": 105, \"x1\": 107.44832664669138, \"y0\": 7, \"y1\": 7}, {\"line\": {\"color\": \"rgb(55, 128, 191)\", \"width\": 14}, \"type\": \"line\", \"x0\": -20, \"x1\": -21.356783260789765, \"y0\": 7, \"y1\": 7}, {\"line\": {\"color\": \"rgb(55, 128, 191)\", \"width\": 14}, \"type\": \"line\", \"x0\": 105, \"x1\": 108.0074653394952, \"y0\": 8, \"y1\": 8}, {\"line\": {\"color\": \"rgb(55, 128, 191)\", \"width\": 14}, \"type\": \"line\", \"x0\": -20, \"x1\": -22.997666369500237, \"y0\": 8, \"y1\": 8}, {\"line\": {\"color\": \"rgb(55, 128, 191)\", \"width\": 14}, \"type\": \"line\", \"x0\": 105, \"x1\": 108.50109186938195, \"y0\": 9, \"y1\": 9}, {\"line\": {\"color\": \"rgb(55, 128, 191)\", \"width\": 14}, \"type\": \"line\", \"x0\": -20, \"x1\": -22.268996801090776, \"y0\": 9, \"y1\": 9}, {\"line\": {\"color\": \"rgb(55, 128, 191)\", \"width\": 14}, \"type\": \"line\", \"x0\": 105, \"x1\": 109.84332943984562, \"y0\": 10, \"y1\": 10}, {\"line\": {\"color\": \"rgb(55, 128, 191)\", \"width\": 14}, \"type\": \"line\", \"x0\": -20, \"x1\": -24.352745293408148, \"y0\": 10, \"y1\": 10}, {\"line\": {\"color\": \"rgb(55, 128, 191)\", \"width\": 14}, \"type\": \"line\", \"x0\": 105, \"x1\": 111.63196384134883, \"y0\": 11, \"y1\": 11}, {\"line\": {\"color\": \"rgb(55, 128, 191)\", \"width\": 14}, \"type\": \"line\", \"x0\": -20, \"x1\": -24.115449158319787, \"y0\": 11, \"y1\": 11}, {\"line\": {\"color\": \"rgb(55, 128, 191)\", \"width\": 14}, \"type\": \"line\", \"x0\": 105, \"x1\": 113.28347976232797, \"y0\": 12, \"y1\": 12}, {\"line\": {\"color\": \"rgb(55, 128, 191)\", \"width\": 14}, \"type\": \"line\", \"x0\": -20, \"x1\": -27.606586606534165, \"y0\": 12, \"y1\": 12}, {\"line\": {\"color\": \"rgb(55, 128, 191)\", \"width\": 14}, \"type\": \"line\", \"x0\": 105, \"x1\": 135.0, \"y0\": 13, \"y1\": 13}, {\"line\": {\"color\": \"rgb(55, 128, 191)\", \"width\": 14}, \"type\": \"line\", \"x0\": -20, \"x1\": -50.0, \"y0\": 13, \"y1\": 13}], \"showlegend\": false, \"title\": \"Count of Loan Requests by Home Ownership and Purpose, 2007-2011\", \"xaxis\": {\"showgrid\": false, \"showline\": false, \"showticklabels\": false, \"zeroline\": false}, \"yaxis\": {\"showgrid\": false, \"showline\": false, \"showticklabels\": false, \"zeroline\": false}},\n",
       "            {\"showLink\": true, \"linkText\": \"Export to plot.ly\"}\n",
       "        ).then(function () {return Plotly.addFrames('16faf405-e674-4d20-a6f0-fedd137b9575',{});}).then(function(){Plotly.animate('16faf405-e674-4d20-a6f0-fedd137b9575');})\n",
       "        });</script>"
      ],
      "text/vnd.plotly.v1+html": [
       "<div id=\"16faf405-e674-4d20-a6f0-fedd137b9575\" style=\"height: 525px; width: 100%;\" class=\"plotly-graph-div\"></div><script type=\"text/javascript\">require([\"plotly\"], function(Plotly) { window.PLOTLYENV=window.PLOTLYENV || {};window.PLOTLYENV.BASE_URL=\"https://plot.ly\";\n",
       "        Plotly.plot(\n",
       "            '16faf405-e674-4d20-a6f0-fedd137b9575',\n",
       "            [{\"hoverinfo\": \"text\", \"hoverlabel\": {\"bgcolor\": \"rgb(248, 248, 249)\"}, \"marker\": {\"color\": \"#00A0DC\", \"line\": {\"color\": \"rgb(248, 248, 249)\", \"width\": 1}}, \"orientation\": \"h\", \"text\": \"Total Funded Amount: $810k\", \"x\": [0.0], \"y\": [\"Renewable Energy\"], \"type\": \"bar\", \"uid\": \"e338e1c6-d502-11e8-a2b8-b16ad29151c9\"}, {\"hoverinfo\": \"text\", \"hoverlabel\": {\"bgcolor\": \"rgb(248, 248, 249)\"}, \"marker\": {\"color\": \"#00A0DC\", \"line\": {\"color\": \"rgb(248, 248, 249)\", \"width\": 1}}, \"orientation\": \"h\", \"text\": \"Total Funded Amount: $2,036k\", \"x\": [0.0], \"y\": [\"Vacation\"], \"type\": \"bar\", \"uid\": \"e338e1c7-d502-11e8-86f1-b16ad29151c9\"}, {\"hoverinfo\": \"text\", \"hoverlabel\": {\"bgcolor\": \"rgb(248, 248, 249)\"}, \"marker\": {\"color\": \"#00A0DC\", \"line\": {\"color\": \"rgb(248, 248, 249)\", \"width\": 1}}, \"orientation\": \"h\", \"text\": \"Total Funded Amount: $2,110k\", \"x\": [0.0], \"y\": [\"Educational\"], \"type\": \"bar\", \"uid\": \"e338e1c8-d502-11e8-a86c-b16ad29151c9\"}, {\"hoverinfo\": \"text\", \"hoverlabel\": {\"bgcolor\": \"rgb(248, 248, 249)\"}, \"marker\": {\"color\": \"#00A0DC\", \"line\": {\"color\": \"rgb(248, 248, 249)\", \"width\": 1}}, \"orientation\": \"h\", \"text\": \"Total Funded Amount: $4,854k\", \"x\": [0.0], \"y\": [\"House\"], \"type\": \"bar\", \"uid\": \"e338e1c9-d502-11e8-9cd0-b16ad29151c9\"}, {\"hoverinfo\": \"text\", \"hoverlabel\": {\"bgcolor\": \"rgb(248, 248, 249)\"}, \"marker\": {\"color\": \"#00A0DC\", \"line\": {\"color\": \"rgb(248, 248, 249)\", \"width\": 1}}, \"orientation\": \"h\", \"text\": \"Total Funded Amount: $3,814k\", \"x\": [0.0], \"y\": [\"Moving\"], \"type\": \"bar\", \"uid\": \"e338e1ca-d502-11e8-8ae6-b16ad29151c9\"}, {\"hoverinfo\": \"text\", \"hoverlabel\": {\"bgcolor\": \"rgb(248, 248, 249)\"}, \"marker\": {\"color\": \"#00A0DC\", \"line\": {\"color\": \"rgb(248, 248, 249)\", \"width\": 1}}, \"orientation\": \"h\", \"text\": \"Total Funded Amount: $5,650k\", \"x\": [0.0], \"y\": [\"Medical\"], \"type\": \"bar\", \"uid\": \"e338e1cb-d502-11e8-aa5f-b16ad29151c9\"}, {\"hoverinfo\": \"text\", \"hoverlabel\": {\"bgcolor\": \"rgb(248, 248, 249)\"}, \"marker\": {\"color\": \"#00A0DC\", \"line\": {\"color\": \"rgb(248, 248, 249)\", \"width\": 1}}, \"orientation\": \"h\", \"text\": \"Total Funded Amount: $9,003k\", \"x\": [0.0], \"y\": [\"Wedding\"], \"type\": \"bar\", \"uid\": \"e338e1cc-d502-11e8-a82e-b16ad29151c9\"}, {\"hoverinfo\": \"text\", \"hoverlabel\": {\"bgcolor\": \"rgb(248, 248, 249)\"}, \"marker\": {\"color\": \"#00A0DC\", \"line\": {\"color\": \"rgb(248, 248, 249)\", \"width\": 1}}, \"orientation\": \"h\", \"text\": \"Total Funded Amount: $10,349k\", \"x\": [0.0], \"y\": [\"Car\"], \"type\": \"bar\", \"uid\": \"e338e1cd-d502-11e8-b3a6-b16ad29151c9\"}, {\"hoverinfo\": \"text\", \"hoverlabel\": {\"bgcolor\": \"rgb(248, 248, 249)\"}, \"marker\": {\"color\": \"#00A0DC\", \"line\": {\"color\": \"rgb(248, 248, 249)\", \"width\": 1}}, \"orientation\": \"h\", \"text\": \"Total Funded Amount: $22,865k\", \"x\": [0.0], \"y\": [\"Small Business\"], \"type\": \"bar\", \"uid\": \"e338e1ce-d502-11e8-b19d-b16ad29151c9\"}, {\"hoverinfo\": \"text\", \"hoverlabel\": {\"bgcolor\": \"rgb(248, 248, 249)\"}, \"marker\": {\"color\": \"#00A0DC\", \"line\": {\"color\": \"rgb(248, 248, 249)\", \"width\": 1}}, \"orientation\": \"h\", \"text\": \"Total Funded Amount: $17,307k\", \"x\": [0.0], \"y\": [\"Major Purchase\"], \"type\": \"bar\", \"uid\": \"e338e1cf-d502-11e8-a360-b16ad29151c9\"}, {\"hoverinfo\": \"text\", \"hoverlabel\": {\"bgcolor\": \"rgb(248, 248, 249)\"}, \"marker\": {\"color\": \"#00A0DC\", \"line\": {\"color\": \"rgb(248, 248, 249)\", \"width\": 1}}, \"orientation\": \"h\", \"text\": \"Total Funded Amount: $33,201k\", \"x\": [0.0], \"y\": [\"Home Improvement\"], \"type\": \"bar\", \"uid\": \"e338e1d0-d502-11e8-a276-b16ad29151c9\"}, {\"hoverinfo\": \"text\", \"hoverlabel\": {\"bgcolor\": \"rgb(248, 248, 249)\"}, \"marker\": {\"color\": \"#00A0DC\", \"line\": {\"color\": \"rgb(248, 248, 249)\", \"width\": 1}}, \"orientation\": \"h\", \"text\": \"Total Funded Amount: $31,391k\", \"x\": [0.0], \"y\": [\"Other\"], \"type\": \"bar\", \"uid\": \"e338e1d1-d502-11e8-9bf2-b16ad29151c9\"}, {\"hoverinfo\": \"text\", \"hoverlabel\": {\"bgcolor\": \"rgb(248, 248, 249)\"}, \"marker\": {\"color\": \"#00A0DC\", \"line\": {\"color\": \"rgb(248, 248, 249)\", \"width\": 1}}, \"orientation\": \"h\", \"text\": \"Total Funded Amount: $58,020k\", \"x\": [0.0], \"y\": [\"Credit Card\"], \"type\": \"bar\", \"uid\": \"e338e1d2-d502-11e8-a6fa-b16ad29151c9\"}, {\"hoverinfo\": \"text\", \"hoverlabel\": {\"bgcolor\": \"rgb(248, 248, 249)\"}, \"marker\": {\"color\": \"#00A0DC\", \"line\": {\"color\": \"rgb(248, 248, 249)\", \"width\": 1}}, \"orientation\": \"h\", \"text\": \"Total Funded Amount: $228,828k\", \"x\": [0.0], \"y\": [\"Debt Consolidation\"], \"type\": \"bar\", \"uid\": \"e338e1d3-d502-11e8-a2f2-b16ad29151c9\"}, {\"hoverinfo\": \"text\", \"hoverlabel\": {\"bgcolor\": \"rgb(248, 248, 249)\"}, \"marker\": {\"color\": \"#009687\", \"line\": {\"color\": \"rgb(248, 248, 249)\", \"width\": 1}}, \"orientation\": \"h\", \"text\": \"\", \"x\": [36.2], \"y\": [\"Renewable Energy\"], \"type\": \"bar\", \"uid\": \"e338e1d4-d502-11e8-a047-b16ad29151c9\"}, {\"hoverinfo\": \"text\", \"hoverlabel\": {\"bgcolor\": \"rgb(248, 248, 249)\"}, \"marker\": {\"color\": \"#009687\", \"line\": {\"color\": \"rgb(248, 248, 249)\", \"width\": 1}}, \"orientation\": \"h\", \"text\": \"\", \"x\": [56.7], \"y\": [\"Vacation\"], \"type\": \"bar\", \"uid\": \"e338e1d5-d502-11e8-90ed-b16ad29151c9\"}, {\"hoverinfo\": \"text\", \"hoverlabel\": {\"bgcolor\": \"rgb(248, 248, 249)\"}, \"marker\": {\"color\": \"#009687\", \"line\": {\"color\": \"rgb(248, 248, 249)\", \"width\": 1}}, \"orientation\": \"h\", \"text\": \"\", \"x\": [62.6], \"y\": [\"Educational\"], \"type\": \"bar\", \"uid\": \"e338e1d6-d502-11e8-9490-b16ad29151c9\"}, {\"hoverinfo\": \"text\", \"hoverlabel\": {\"bgcolor\": \"rgb(248, 248, 249)\"}, \"marker\": {\"color\": \"#009687\", \"line\": {\"color\": \"rgb(248, 248, 249)\", \"width\": 1}}, \"orientation\": \"h\", \"text\": \"\", \"x\": [53.8], \"y\": [\"House\"], \"type\": \"bar\", \"uid\": \"e338e1d7-d502-11e8-bd21-b16ad29151c9\"}, {\"hoverinfo\": \"text\", \"hoverlabel\": {\"bgcolor\": \"rgb(248, 248, 249)\"}, \"marker\": {\"color\": \"#009687\", \"line\": {\"color\": \"rgb(248, 248, 249)\", \"width\": 1}}, \"orientation\": \"h\", \"text\": \"\", \"x\": [76.4], \"y\": [\"Moving\"], \"type\": \"bar\", \"uid\": \"e338e1d8-d502-11e8-9bcb-b16ad29151c9\"}, {\"hoverinfo\": \"text\", \"hoverlabel\": {\"bgcolor\": \"rgb(248, 248, 249)\"}, \"marker\": {\"color\": \"#009687\", \"line\": {\"color\": \"rgb(248, 248, 249)\", \"width\": 1}}, \"orientation\": \"h\", \"text\": \"\", \"x\": [45.4], \"y\": [\"Medical\"], \"type\": \"bar\", \"uid\": \"e338e1d9-d502-11e8-a9ff-b16ad29151c9\"}, {\"hoverinfo\": \"text\", \"hoverlabel\": {\"bgcolor\": \"rgb(248, 248, 249)\"}, \"marker\": {\"color\": \"#009687\", \"line\": {\"color\": \"rgb(248, 248, 249)\", \"width\": 1}}, \"orientation\": \"h\", \"text\": \"\", \"x\": [62.7], \"y\": [\"Wedding\"], \"type\": \"bar\", \"uid\": \"e338e1da-d502-11e8-abd9-b16ad29151c9\"}, {\"hoverinfo\": \"text\", \"hoverlabel\": {\"bgcolor\": \"rgb(248, 248, 249)\"}, \"marker\": {\"color\": \"#009687\", \"line\": {\"color\": \"rgb(248, 248, 249)\", \"width\": 1}}, \"orientation\": \"h\", \"text\": \"\", \"x\": [41.4], \"y\": [\"Car\"], \"type\": \"bar\", \"uid\": \"e338e1db-d502-11e8-89b4-b16ad29151c9\"}, {\"hoverinfo\": \"text\", \"hoverlabel\": {\"bgcolor\": \"rgb(248, 248, 249)\"}, \"marker\": {\"color\": \"#009687\", \"line\": {\"color\": \"rgb(248, 248, 249)\", \"width\": 1}}, \"orientation\": \"h\", \"text\": \"\", \"x\": [41.2], \"y\": [\"Small Business\"], \"type\": \"bar\", \"uid\": \"e338e1dc-d502-11e8-be94-b16ad29151c9\"}, {\"hoverinfo\": \"text\", \"hoverlabel\": {\"bgcolor\": \"rgb(248, 248, 249)\"}, \"marker\": {\"color\": \"#009687\", \"line\": {\"color\": \"rgb(248, 248, 249)\", \"width\": 1}}, \"orientation\": \"h\", \"text\": \"\", \"x\": [46.3], \"y\": [\"Major Purchase\"], \"type\": \"bar\", \"uid\": \"e338e1dd-d502-11e8-bfa0-b16ad29151c9\"}, {\"hoverinfo\": \"text\", \"hoverlabel\": {\"bgcolor\": \"rgb(248, 248, 249)\"}, \"marker\": {\"color\": \"#009687\", \"line\": {\"color\": \"rgb(248, 248, 249)\", \"width\": 1}}, \"orientation\": \"h\", \"text\": \"\", \"x\": [9.4], \"y\": [\"Home Improvement\"], \"type\": \"bar\", \"uid\": \"e338e1de-d502-11e8-b153-b16ad29151c9\"}, {\"hoverinfo\": \"text\", \"hoverlabel\": {\"bgcolor\": \"rgb(248, 248, 249)\"}, \"marker\": {\"color\": \"#009687\", \"line\": {\"color\": \"rgb(248, 248, 249)\", \"width\": 1}}, \"orientation\": \"h\", \"text\": \"\", \"x\": [53.0], \"y\": [\"Other\"], \"type\": \"bar\", \"uid\": \"e338e1df-d502-11e8-a59d-b16ad29151c9\"}, {\"hoverinfo\": \"text\", \"hoverlabel\": {\"bgcolor\": \"rgb(248, 248, 249)\"}, \"marker\": {\"color\": \"#009687\", \"line\": {\"color\": \"rgb(248, 248, 249)\", \"width\": 1}}, \"orientation\": \"h\", \"text\": \"\", \"x\": [49.3], \"y\": [\"Credit Card\"], \"type\": \"bar\", \"uid\": \"e338e1e0-d502-11e8-808d-b16ad29151c9\"}, {\"hoverinfo\": \"text\", \"hoverlabel\": {\"bgcolor\": \"rgb(248, 248, 249)\"}, \"marker\": {\"color\": \"#009687\", \"line\": {\"color\": \"rgb(248, 248, 249)\", \"width\": 1}}, \"orientation\": \"h\", \"text\": \"\", \"x\": [50.8], \"y\": [\"Debt Consolidation\"], \"type\": \"bar\", \"uid\": \"e338e1e1-d502-11e8-a7e7-b16ad29151c9\"}, {\"hoverinfo\": \"text\", \"hoverlabel\": {\"bgcolor\": \"rgb(248, 248, 249)\"}, \"marker\": {\"color\": \"#DD5143\", \"line\": {\"color\": \"rgb(248, 248, 249)\", \"width\": 1}}, \"orientation\": \"h\", \"text\": \"\", \"x\": [53.3], \"y\": [\"Renewable Energy\"], \"type\": \"bar\", \"uid\": \"e338e1e2-d502-11e8-8a19-b16ad29151c9\"}, {\"hoverinfo\": \"text\", \"hoverlabel\": {\"bgcolor\": \"rgb(248, 248, 249)\"}, \"marker\": {\"color\": \"#DD5143\", \"line\": {\"color\": \"rgb(248, 248, 249)\", \"width\": 1}}, \"orientation\": \"h\", \"text\": \"\", \"x\": [35.5], \"y\": [\"Vacation\"], \"type\": \"bar\", \"uid\": \"e338e1e3-d502-11e8-b3c0-b16ad29151c9\"}, {\"hoverinfo\": \"text\", \"hoverlabel\": {\"bgcolor\": \"rgb(248, 248, 249)\"}, \"marker\": {\"color\": \"#DD5143\", \"line\": {\"color\": \"rgb(248, 248, 249)\", \"width\": 1}}, \"orientation\": \"h\", \"text\": \"\", \"x\": [28.0], \"y\": [\"Educational\"], \"type\": \"bar\", \"uid\": \"e338e1e4-d502-11e8-a52b-b16ad29151c9\"}, {\"hoverinfo\": \"text\", \"hoverlabel\": {\"bgcolor\": \"rgb(248, 248, 249)\"}, \"marker\": {\"color\": \"#DD5143\", \"line\": {\"color\": \"rgb(248, 248, 249)\", \"width\": 1}}, \"orientation\": \"h\", \"text\": \"\", \"x\": [37.4], \"y\": [\"House\"], \"type\": \"bar\", \"uid\": \"e338e1e5-d502-11e8-8ba8-b16ad29151c9\"}, {\"hoverinfo\": \"text\", \"hoverlabel\": {\"bgcolor\": \"rgb(248, 248, 249)\"}, \"marker\": {\"color\": \"#DD5143\", \"line\": {\"color\": \"rgb(248, 248, 249)\", \"width\": 1}}, \"orientation\": \"h\", \"text\": \"\", \"x\": [18.6], \"y\": [\"Moving\"], \"type\": \"bar\", \"uid\": \"e338e1e6-d502-11e8-aeb1-b16ad29151c9\"}, {\"hoverinfo\": \"text\", \"hoverlabel\": {\"bgcolor\": \"rgb(248, 248, 249)\"}, \"marker\": {\"color\": \"#DD5143\", \"line\": {\"color\": \"rgb(248, 248, 249)\", \"width\": 1}}, \"orientation\": \"h\", \"text\": \"\", \"x\": [44.3], \"y\": [\"Medical\"], \"type\": \"bar\", \"uid\": \"e338e1e7-d502-11e8-9185-b16ad29151c9\"}, {\"hoverinfo\": \"text\", \"hoverlabel\": {\"bgcolor\": \"rgb(248, 248, 249)\"}, \"marker\": {\"color\": \"#DD5143\", \"line\": {\"color\": \"rgb(248, 248, 249)\", \"width\": 1}}, \"orientation\": \"h\", \"text\": \"\", \"x\": [31.4], \"y\": [\"Wedding\"], \"type\": \"bar\", \"uid\": \"e338e1e8-d502-11e8-a1f7-b16ad29151c9\"}, {\"hoverinfo\": \"text\", \"hoverlabel\": {\"bgcolor\": \"rgb(248, 248, 249)\"}, \"marker\": {\"color\": \"#DD5143\", \"line\": {\"color\": \"rgb(248, 248, 249)\", \"width\": 1}}, \"orientation\": \"h\", \"text\": \"\", \"x\": [48.4], \"y\": [\"Car\"], \"type\": \"bar\", \"uid\": \"e338e1e9-d502-11e8-a04e-b16ad29151c9\"}, {\"hoverinfo\": \"text\", \"hoverlabel\": {\"bgcolor\": \"rgb(248, 248, 249)\"}, \"marker\": {\"color\": \"#DD5143\", \"line\": {\"color\": \"rgb(248, 248, 249)\", \"width\": 1}}, \"orientation\": \"h\", \"text\": \"\", \"x\": [51.7], \"y\": [\"Small Business\"], \"type\": \"bar\", \"uid\": \"e338e1ea-d502-11e8-a8aa-b16ad29151c9\"}, {\"hoverinfo\": \"text\", \"hoverlabel\": {\"bgcolor\": \"rgb(248, 248, 249)\"}, \"marker\": {\"color\": \"#DD5143\", \"line\": {\"color\": \"rgb(248, 248, 249)\", \"width\": 1}}, \"orientation\": \"h\", \"text\": \"\", \"x\": [42.4], \"y\": [\"Major Purchase\"], \"type\": \"bar\", \"uid\": \"e338e1eb-d502-11e8-b17a-b16ad29151c9\"}, {\"hoverinfo\": \"text\", \"hoverlabel\": {\"bgcolor\": \"rgb(248, 248, 249)\"}, \"marker\": {\"color\": \"#DD5143\", \"line\": {\"color\": \"rgb(248, 248, 249)\", \"width\": 1}}, \"orientation\": \"h\", \"text\": \"\", \"x\": [79.4], \"y\": [\"Home Improvement\"], \"type\": \"bar\", \"uid\": \"e33908b8-d502-11e8-b258-b16ad29151c9\"}, {\"hoverinfo\": \"text\", \"hoverlabel\": {\"bgcolor\": \"rgb(248, 248, 249)\"}, \"marker\": {\"color\": \"#DD5143\", \"line\": {\"color\": \"rgb(248, 248, 249)\", \"width\": 1}}, \"orientation\": \"h\", \"text\": \"\", \"x\": [37.4], \"y\": [\"Other\"], \"type\": \"bar\", \"uid\": \"e33908b9-d502-11e8-a5fb-b16ad29151c9\"}, {\"hoverinfo\": \"text\", \"hoverlabel\": {\"bgcolor\": \"rgb(248, 248, 249)\"}, \"marker\": {\"color\": \"#DD5143\", \"line\": {\"color\": \"rgb(248, 248, 249)\", \"width\": 1}}, \"orientation\": \"h\", \"text\": \"\", \"x\": [44.8], \"y\": [\"Credit Card\"], \"type\": \"bar\", \"uid\": \"e33908ba-d502-11e8-a9ee-b16ad29151c9\"}, {\"hoverinfo\": \"text\", \"hoverlabel\": {\"bgcolor\": \"rgb(248, 248, 249)\"}, \"marker\": {\"color\": \"#DD5143\", \"line\": {\"color\": \"rgb(248, 248, 249)\", \"width\": 1}}, \"orientation\": \"h\", \"text\": \"\", \"x\": [42.0], \"y\": [\"Debt Consolidation\"], \"type\": \"bar\", \"uid\": \"e33908bb-d502-11e8-a16b-b16ad29151c9\"}, {\"hoverinfo\": \"text\", \"hoverlabel\": {\"bgcolor\": \"rgb(248, 248, 249)\"}, \"marker\": {\"color\": \"#E68523\", \"line\": {\"color\": \"rgb(248, 248, 249)\", \"width\": 1}}, \"orientation\": \"h\", \"text\": \"Total Count: 105\", \"x\": [9.5], \"y\": [\"Renewable Energy\"], \"type\": \"bar\", \"uid\": \"e33908bc-d502-11e8-8e9e-b16ad29151c9\"}, {\"hoverinfo\": \"text\", \"hoverlabel\": {\"bgcolor\": \"rgb(248, 248, 249)\"}, \"marker\": {\"color\": \"#E68523\", \"line\": {\"color\": \"rgb(248, 248, 249)\", \"width\": 1}}, \"orientation\": \"h\", \"text\": \"Total Count: 397\", \"x\": [7.8], \"y\": [\"Vacation\"], \"type\": \"bar\", \"uid\": \"e33908bd-d502-11e8-9289-b16ad29151c9\"}, {\"hoverinfo\": \"text\", \"hoverlabel\": {\"bgcolor\": \"rgb(248, 248, 249)\"}, \"marker\": {\"color\": \"#E68523\", \"line\": {\"color\": \"rgb(248, 248, 249)\", \"width\": 1}}, \"orientation\": \"h\", \"text\": \"Total Count: 404\", \"x\": [8.2], \"y\": [\"Educational\"], \"type\": \"bar\", \"uid\": \"e33908be-d502-11e8-a77c-b16ad29151c9\"}, {\"hoverinfo\": \"text\", \"hoverlabel\": {\"bgcolor\": \"rgb(248, 248, 249)\"}, \"marker\": {\"color\": \"#E68523\", \"line\": {\"color\": \"rgb(248, 248, 249)\", \"width\": 1}}, \"orientation\": \"h\", \"text\": \"Total Count: 422\", \"x\": [8.1], \"y\": [\"House\"], \"type\": \"bar\", \"uid\": \"e33908bf-d502-11e8-9c55-b16ad29151c9\"}, {\"hoverinfo\": \"text\", \"hoverlabel\": {\"bgcolor\": \"rgb(248, 248, 249)\"}, \"marker\": {\"color\": \"#E68523\", \"line\": {\"color\": \"rgb(248, 248, 249)\", \"width\": 1}}, \"orientation\": \"h\", \"text\": \"Total Count: 622\", \"x\": [4.5], \"y\": [\"Moving\"], \"type\": \"bar\", \"uid\": \"e33908c0-d502-11e8-9da2-b16ad29151c9\"}, {\"hoverinfo\": \"text\", \"hoverlabel\": {\"bgcolor\": \"rgb(248, 248, 249)\"}, \"marker\": {\"color\": \"#E68523\", \"line\": {\"color\": \"rgb(248, 248, 249)\", \"width\": 1}}, \"orientation\": \"h\", \"text\": \"Total Count: 751\", \"x\": [9.6], \"y\": [\"Medical\"], \"type\": \"bar\", \"uid\": \"e33908c1-d502-11e8-b93f-b16ad29151c9\"}, {\"hoverinfo\": \"text\", \"hoverlabel\": {\"bgcolor\": \"rgb(248, 248, 249)\"}, \"marker\": {\"color\": \"#E68523\", \"line\": {\"color\": \"rgb(248, 248, 249)\", \"width\": 1}}, \"orientation\": \"h\", \"text\": \"Total Count: 996\", \"x\": [5.8], \"y\": [\"Wedding\"], \"type\": \"bar\", \"uid\": \"e33908c2-d502-11e8-8124-b16ad29151c9\"}, {\"hoverinfo\": \"text\", \"hoverlabel\": {\"bgcolor\": \"rgb(248, 248, 249)\"}, \"marker\": {\"color\": \"#E68523\", \"line\": {\"color\": \"rgb(248, 248, 249)\", \"width\": 1}}, \"orientation\": \"h\", \"text\": \"Total Count: 1607\", \"x\": [10.0], \"y\": [\"Car\"], \"type\": \"bar\", \"uid\": \"e33908c3-d502-11e8-9487-b16ad29151c9\"}, {\"hoverinfo\": \"text\", \"hoverlabel\": {\"bgcolor\": \"rgb(248, 248, 249)\"}, \"marker\": {\"color\": \"#E68523\", \"line\": {\"color\": \"rgb(248, 248, 249)\", \"width\": 1}}, \"orientation\": \"h\", \"text\": \"Total Count: 1974\", \"x\": [6.4], \"y\": [\"Small Business\"], \"type\": \"bar\", \"uid\": \"e33908c4-d502-11e8-a245-b16ad29151c9\"}, {\"hoverinfo\": \"text\", \"hoverlabel\": {\"bgcolor\": \"rgb(248, 248, 249)\"}, \"marker\": {\"color\": \"#E68523\", \"line\": {\"color\": \"rgb(248, 248, 249)\", \"width\": 1}}, \"orientation\": \"h\", \"text\": \"Total Count: 2298\", \"x\": [10.9], \"y\": [\"Major Purchase\"], \"type\": \"bar\", \"uid\": \"e33908c5-d502-11e8-ad6d-b16ad29151c9\"}, {\"hoverinfo\": \"text\", \"hoverlabel\": {\"bgcolor\": \"rgb(248, 248, 249)\"}, \"marker\": {\"color\": \"#E68523\", \"line\": {\"color\": \"rgb(248, 248, 249)\", \"width\": 1}}, \"orientation\": \"h\", \"text\": \"Total Count: 3179\", \"x\": [11.0], \"y\": [\"Home Improvement\"], \"type\": \"bar\", \"uid\": \"e33908c6-d502-11e8-b6cd-b16ad29151c9\"}, {\"hoverinfo\": \"text\", \"hoverlabel\": {\"bgcolor\": \"rgb(248, 248, 249)\"}, \"marker\": {\"color\": \"#E68523\", \"line\": {\"color\": \"rgb(248, 248, 249)\", \"width\": 1}}, \"orientation\": \"h\", \"text\": \"Total Count: 4353\", \"x\": [9.2], \"y\": [\"Other\"], \"type\": \"bar\", \"uid\": \"e33908c7-d502-11e8-a70c-b16ad29151c9\"}, {\"hoverinfo\": \"text\", \"hoverlabel\": {\"bgcolor\": \"rgb(248, 248, 249)\"}, \"marker\": {\"color\": \"#E68523\", \"line\": {\"color\": \"rgb(248, 248, 249)\", \"width\": 1}}, \"orientation\": \"h\", \"text\": \"Total Count: 5437\", \"x\": [5.6], \"y\": [\"Credit Card\"], \"type\": \"bar\", \"uid\": \"e33908c8-d502-11e8-920a-b16ad29151c9\"}, {\"hoverinfo\": \"text\", \"hoverlabel\": {\"bgcolor\": \"rgb(248, 248, 249)\"}, \"marker\": {\"color\": \"#E68523\", \"line\": {\"color\": \"rgb(248, 248, 249)\", \"width\": 1}}, \"orientation\": \"h\", \"text\": \"Total Count: 19691\", \"x\": [6.9], \"y\": [\"Debt Consolidation\"], \"type\": \"bar\", \"uid\": \"e33908c9-d502-11e8-9b68-b16ad29151c9\"}],\n",
       "            {\"annotations\": [{\"align\": \"right\", \"font\": {\"color\": \"rgb(67, 67, 67)\", \"family\": \"Arial\", \"size\": 12}, \"showarrow\": false, \"text\": \"Renewable Energy\", \"x\": 0.175, \"xanchor\": \"left\", \"xref\": \"paper\", \"y\": \"Renewable Energy\", \"yref\": \"y\"}, {\"font\": {\"color\": \"rgb(248, 248, 255)\", \"family\": \"Arial\", \"size\": 12}, \"showarrow\": false, \"text\": \"36.2%\", \"x\": 18.1, \"xref\": \"x\", \"y\": \"Renewable Energy\", \"yref\": \"y\"}, {\"font\": {\"color\": \"rgb(248, 248, 255)\", \"family\": \"Arial\", \"size\": 12}, \"showarrow\": false, \"text\": \"53.3%\", \"x\": 62.85, \"xref\": \"x\", \"y\": \"Renewable Energy\", \"yref\": \"y\"}, {\"font\": {\"color\": \"rgb(248, 248, 255)\", \"family\": \"Arial\", \"size\": 12}, \"showarrow\": false, \"text\": \"9.5%\", \"x\": 94.25, \"xref\": \"x\", \"y\": \"Renewable Energy\", \"yref\": \"y\"}, {\"align\": \"right\", \"font\": {\"color\": \"rgb(67, 67, 67)\", \"family\": \"Arial\", \"size\": 12}, \"showarrow\": false, \"text\": \"Vacation\", \"x\": 0.175, \"xanchor\": \"left\", \"xref\": \"paper\", \"y\": \"Vacation\", \"yref\": \"y\"}, {\"font\": {\"color\": \"rgb(248, 248, 255)\", \"family\": \"Arial\", \"size\": 12}, \"showarrow\": false, \"text\": \"56.7%\", \"x\": 28.35, \"xref\": \"x\", \"y\": \"Vacation\", \"yref\": \"y\"}, {\"font\": {\"color\": \"rgb(248, 248, 255)\", \"family\": \"Arial\", \"size\": 12}, \"showarrow\": false, \"text\": \"35.5%\", \"x\": 74.45, \"xref\": \"x\", \"y\": \"Vacation\", \"yref\": \"y\"}, {\"font\": {\"color\": \"rgb(248, 248, 255)\", \"family\": \"Arial\", \"size\": 12}, \"showarrow\": false, \"text\": \"7.8%\", \"x\": 96.10000000000001, \"xref\": \"x\", \"y\": \"Vacation\", \"yref\": \"y\"}, {\"align\": \"right\", \"font\": {\"color\": \"rgb(67, 67, 67)\", \"family\": \"Arial\", \"size\": 12}, \"showarrow\": false, \"text\": \"Educational\", \"x\": 0.175, \"xanchor\": \"left\", \"xref\": \"paper\", \"y\": \"Educational\", \"yref\": \"y\"}, {\"font\": {\"color\": \"rgb(248, 248, 255)\", \"family\": \"Arial\", \"size\": 12}, \"showarrow\": false, \"text\": \"62.6%\", \"x\": 31.3, \"xref\": \"x\", \"y\": \"Educational\", \"yref\": \"y\"}, {\"font\": {\"color\": \"rgb(248, 248, 255)\", \"family\": \"Arial\", \"size\": 12}, \"showarrow\": false, \"text\": \"28.0%\", \"x\": 76.6, \"xref\": \"x\", \"y\": \"Educational\", \"yref\": \"y\"}, {\"font\": {\"color\": \"rgb(248, 248, 255)\", \"family\": \"Arial\", \"size\": 12}, \"showarrow\": false, \"text\": \"8.2%\", \"x\": 94.69999999999999, \"xref\": \"x\", \"y\": \"Educational\", \"yref\": \"y\"}, {\"align\": \"right\", \"font\": {\"color\": \"rgb(67, 67, 67)\", \"family\": \"Arial\", \"size\": 12}, \"showarrow\": false, \"text\": \"House\", \"x\": 0.175, \"xanchor\": \"left\", \"xref\": \"paper\", \"y\": \"House\", \"yref\": \"y\"}, {\"font\": {\"color\": \"rgb(248, 248, 255)\", \"family\": \"Arial\", \"size\": 12}, \"showarrow\": false, \"text\": \"53.8%\", \"x\": 26.9, \"xref\": \"x\", \"y\": \"House\", \"yref\": \"y\"}, {\"font\": {\"color\": \"rgb(248, 248, 255)\", \"family\": \"Arial\", \"size\": 12}, \"showarrow\": false, \"text\": \"37.4%\", \"x\": 72.5, \"xref\": \"x\", \"y\": \"House\", \"yref\": \"y\"}, {\"font\": {\"color\": \"rgb(248, 248, 255)\", \"family\": \"Arial\", \"size\": 12}, \"showarrow\": false, \"text\": \"8.1%\", \"x\": 95.24999999999999, \"xref\": \"x\", \"y\": \"House\", \"yref\": \"y\"}, {\"align\": \"right\", \"font\": {\"color\": \"rgb(67, 67, 67)\", \"family\": \"Arial\", \"size\": 12}, \"showarrow\": false, \"text\": \"Moving\", \"x\": 0.175, \"xanchor\": \"left\", \"xref\": \"paper\", \"y\": \"Moving\", \"yref\": \"y\"}, {\"font\": {\"color\": \"rgb(248, 248, 255)\", \"family\": \"Arial\", \"size\": 12}, \"showarrow\": false, \"text\": \"76.4%\", \"x\": 38.2, \"xref\": \"x\", \"y\": \"Moving\", \"yref\": \"y\"}, {\"font\": {\"color\": \"rgb(248, 248, 255)\", \"family\": \"Arial\", \"size\": 12}, \"showarrow\": false, \"text\": \"18.6%\", \"x\": 85.7, \"xref\": \"x\", \"y\": \"Moving\", \"yref\": \"y\"}, {\"font\": {\"color\": \"rgb(248, 248, 255)\", \"family\": \"Arial\", \"size\": 12}, \"showarrow\": false, \"text\": \"4.5%\", \"x\": 97.25, \"xref\": \"x\", \"y\": \"Moving\", \"yref\": \"y\"}, {\"align\": \"right\", \"font\": {\"color\": \"rgb(67, 67, 67)\", \"family\": \"Arial\", \"size\": 12}, \"showarrow\": false, \"text\": \"Medical\", \"x\": 0.175, \"xanchor\": \"left\", \"xref\": \"paper\", \"y\": \"Medical\", \"yref\": \"y\"}, {\"font\": {\"color\": \"rgb(248, 248, 255)\", \"family\": \"Arial\", \"size\": 12}, \"showarrow\": false, \"text\": \"45.4%\", \"x\": 22.7, \"xref\": \"x\", \"y\": \"Medical\", \"yref\": \"y\"}, {\"font\": {\"color\": \"rgb(248, 248, 255)\", \"family\": \"Arial\", \"size\": 12}, \"showarrow\": false, \"text\": \"44.3%\", \"x\": 67.55, \"xref\": \"x\", \"y\": \"Medical\", \"yref\": \"y\"}, {\"font\": {\"color\": \"rgb(248, 248, 255)\", \"family\": \"Arial\", \"size\": 12}, \"showarrow\": false, \"text\": \"9.6%\", \"x\": 94.49999999999999, \"xref\": \"x\", \"y\": \"Medical\", \"yref\": \"y\"}, {\"align\": \"right\", \"font\": {\"color\": \"rgb(67, 67, 67)\", \"family\": \"Arial\", \"size\": 12}, \"showarrow\": false, \"text\": \"Wedding\", \"x\": 0.175, \"xanchor\": \"left\", \"xref\": \"paper\", \"y\": \"Wedding\", \"yref\": \"y\"}, {\"font\": {\"color\": \"rgb(248, 248, 255)\", \"family\": \"Arial\", \"size\": 12}, \"showarrow\": false, \"text\": \"62.7%\", \"x\": 31.35, \"xref\": \"x\", \"y\": \"Wedding\", \"yref\": \"y\"}, {\"font\": {\"color\": \"rgb(248, 248, 255)\", \"family\": \"Arial\", \"size\": 12}, \"showarrow\": false, \"text\": \"31.4%\", \"x\": 78.4, \"xref\": \"x\", \"y\": \"Wedding\", \"yref\": \"y\"}, {\"font\": {\"color\": \"rgb(248, 248, 255)\", \"family\": \"Arial\", \"size\": 12}, \"showarrow\": false, \"text\": \"5.8%\", \"x\": 97.0, \"xref\": \"x\", \"y\": \"Wedding\", \"yref\": \"y\"}, {\"align\": \"right\", \"font\": {\"color\": \"rgb(67, 67, 67)\", \"family\": \"Arial\", \"size\": 12}, \"showarrow\": false, \"text\": \"Car\", \"x\": 0.175, \"xanchor\": \"left\", \"xref\": \"paper\", \"y\": \"Car\", \"yref\": \"y\"}, {\"font\": {\"color\": \"rgb(248, 248, 255)\", \"family\": \"Arial\", \"size\": 12}, \"showarrow\": false, \"text\": \"41.4%\", \"x\": 20.7, \"xref\": \"x\", \"y\": \"Car\", \"yref\": \"y\"}, {\"font\": {\"color\": \"rgb(248, 248, 255)\", \"family\": \"Arial\", \"size\": 12}, \"showarrow\": false, \"text\": \"48.4%\", \"x\": 65.6, \"xref\": \"x\", \"y\": \"Car\", \"yref\": \"y\"}, {\"font\": {\"color\": \"rgb(248, 248, 255)\", \"family\": \"Arial\", \"size\": 12}, \"showarrow\": false, \"text\": \"10.0%\", \"x\": 94.8, \"xref\": \"x\", \"y\": \"Car\", \"yref\": \"y\"}, {\"align\": \"right\", \"font\": {\"color\": \"rgb(67, 67, 67)\", \"family\": \"Arial\", \"size\": 12}, \"showarrow\": false, \"text\": \"Small Business\", \"x\": 0.175, \"xanchor\": \"left\", \"xref\": \"paper\", \"y\": \"Small Business\", \"yref\": \"y\"}, {\"font\": {\"color\": \"rgb(248, 248, 255)\", \"family\": \"Arial\", \"size\": 12}, \"showarrow\": false, \"text\": \"41.2%\", \"x\": 20.6, \"xref\": \"x\", \"y\": \"Small Business\", \"yref\": \"y\"}, {\"font\": {\"color\": \"rgb(248, 248, 255)\", \"family\": \"Arial\", \"size\": 12}, \"showarrow\": false, \"text\": \"51.7%\", \"x\": 67.05000000000001, \"xref\": \"x\", \"y\": \"Small Business\", \"yref\": \"y\"}, {\"font\": {\"color\": \"rgb(248, 248, 255)\", \"family\": \"Arial\", \"size\": 12}, \"showarrow\": false, \"text\": \"6.4%\", \"x\": 96.10000000000001, \"xref\": \"x\", \"y\": \"Small Business\", \"yref\": \"y\"}, {\"align\": \"right\", \"font\": {\"color\": \"rgb(67, 67, 67)\", \"family\": \"Arial\", \"size\": 12}, \"showarrow\": false, \"text\": \"Major Purchase\", \"x\": 0.175, \"xanchor\": \"left\", \"xref\": \"paper\", \"y\": \"Major Purchase\", \"yref\": \"y\"}, {\"font\": {\"color\": \"rgb(248, 248, 255)\", \"family\": \"Arial\", \"size\": 12}, \"showarrow\": false, \"text\": \"46.3%\", \"x\": 23.15, \"xref\": \"x\", \"y\": \"Major Purchase\", \"yref\": \"y\"}, {\"font\": {\"color\": \"rgb(248, 248, 255)\", \"family\": \"Arial\", \"size\": 12}, \"showarrow\": false, \"text\": \"42.4%\", \"x\": 67.5, \"xref\": \"x\", \"y\": \"Major Purchase\", \"yref\": \"y\"}, {\"font\": {\"color\": \"rgb(248, 248, 255)\", \"family\": \"Arial\", \"size\": 12}, \"showarrow\": false, \"text\": \"10.9%\", \"x\": 94.14999999999999, \"xref\": \"x\", \"y\": \"Major Purchase\", \"yref\": \"y\"}, {\"align\": \"right\", \"font\": {\"color\": \"rgb(67, 67, 67)\", \"family\": \"Arial\", \"size\": 12}, \"showarrow\": false, \"text\": \"Home Improvement\", \"x\": 0.175, \"xanchor\": \"left\", \"xref\": \"paper\", \"y\": \"Home Improvement\", \"yref\": \"y\"}, {\"font\": {\"color\": \"rgb(248, 248, 255)\", \"family\": \"Arial\", \"size\": 12}, \"showarrow\": false, \"text\": \"9.4%\", \"x\": 4.7, \"xref\": \"x\", \"y\": \"Home Improvement\", \"yref\": \"y\"}, {\"font\": {\"color\": \"rgb(248, 248, 255)\", \"family\": \"Arial\", \"size\": 12}, \"showarrow\": false, \"text\": \"79.4%\", \"x\": 49.1, \"xref\": \"x\", \"y\": \"Home Improvement\", \"yref\": \"y\"}, {\"font\": {\"color\": \"rgb(248, 248, 255)\", \"family\": \"Arial\", \"size\": 12}, \"showarrow\": false, \"text\": \"11.0%\", \"x\": 94.30000000000001, \"xref\": \"x\", \"y\": \"Home Improvement\", \"yref\": \"y\"}, {\"align\": \"right\", \"font\": {\"color\": \"rgb(67, 67, 67)\", \"family\": \"Arial\", \"size\": 12}, \"showarrow\": false, \"text\": \"Other\", \"x\": 0.175, \"xanchor\": \"left\", \"xref\": \"paper\", \"y\": \"Other\", \"yref\": \"y\"}, {\"font\": {\"color\": \"rgb(248, 248, 255)\", \"family\": \"Arial\", \"size\": 12}, \"showarrow\": false, \"text\": \"53.0%\", \"x\": 26.5, \"xref\": \"x\", \"y\": \"Other\", \"yref\": \"y\"}, {\"font\": {\"color\": \"rgb(248, 248, 255)\", \"family\": \"Arial\", \"size\": 12}, \"showarrow\": false, \"text\": \"37.4%\", \"x\": 71.7, \"xref\": \"x\", \"y\": \"Other\", \"yref\": \"y\"}, {\"font\": {\"color\": \"rgb(248, 248, 255)\", \"family\": \"Arial\", \"size\": 12}, \"showarrow\": false, \"text\": \"9.2%\", \"x\": 95.0, \"xref\": \"x\", \"y\": \"Other\", \"yref\": \"y\"}, {\"align\": \"right\", \"font\": {\"color\": \"rgb(67, 67, 67)\", \"family\": \"Arial\", \"size\": 12}, \"showarrow\": false, \"text\": \"Credit Card\", \"x\": 0.175, \"xanchor\": \"left\", \"xref\": \"paper\", \"y\": \"Credit Card\", \"yref\": \"y\"}, {\"font\": {\"color\": \"rgb(248, 248, 255)\", \"family\": \"Arial\", \"size\": 12}, \"showarrow\": false, \"text\": \"49.3%\", \"x\": 24.65, \"xref\": \"x\", \"y\": \"Credit Card\", \"yref\": \"y\"}, {\"font\": {\"color\": \"rgb(248, 248, 255)\", \"family\": \"Arial\", \"size\": 12}, \"showarrow\": false, \"text\": \"44.8%\", \"x\": 71.69999999999999, \"xref\": \"x\", \"y\": \"Credit Card\", \"yref\": \"y\"}, {\"font\": {\"color\": \"rgb(248, 248, 255)\", \"family\": \"Arial\", \"size\": 12}, \"showarrow\": false, \"text\": \"5.6%\", \"x\": 96.89999999999999, \"xref\": \"x\", \"y\": \"Credit Card\", \"yref\": \"y\"}, {\"align\": \"right\", \"font\": {\"color\": \"rgb(67, 67, 67)\", \"family\": \"Arial\", \"size\": 12}, \"showarrow\": false, \"text\": \"Debt Consolidation\", \"x\": 0.175, \"xanchor\": \"left\", \"xref\": \"paper\", \"y\": \"Debt Consolidation\", \"yref\": \"y\"}, {\"font\": {\"color\": \"rgb(248, 248, 255)\", \"family\": \"Arial\", \"size\": 12}, \"showarrow\": false, \"text\": \"50.8%\", \"x\": 25.4, \"xref\": \"x\", \"y\": \"Debt Consolidation\", \"yref\": \"y\"}, {\"font\": {\"color\": \"#009687\", \"family\": \"Arial\", \"size\": 14}, \"showarrow\": false, \"text\": \"RENT\", \"x\": 25.4, \"xref\": \"x\", \"y\": 1.1, \"yref\": \"paper\"}, {\"font\": {\"color\": \"rgb(248, 248, 255)\", \"family\": \"Arial\", \"size\": 12}, \"showarrow\": false, \"text\": \"42.0%\", \"x\": 71.8, \"xref\": \"x\", \"y\": \"Debt Consolidation\", \"yref\": \"y\"}, {\"font\": {\"color\": \"#DD5143\", \"family\": \"Arial\", \"size\": 14}, \"showarrow\": false, \"text\": \"MORTGAGE\", \"x\": 71.8, \"xref\": \"x\", \"y\": 1.1, \"yref\": \"paper\"}, {\"font\": {\"color\": \"rgb(248, 248, 255)\", \"family\": \"Arial\", \"size\": 12}, \"showarrow\": false, \"text\": \"6.9%\", \"x\": 96.25, \"xref\": \"x\", \"y\": \"Debt Consolidation\", \"yref\": \"y\"}, {\"font\": {\"color\": \"#E68523\", \"family\": \"Arial\", \"size\": 14}, \"showarrow\": false, \"text\": \"OWN\", \"x\": 96.25, \"xref\": \"x\", \"y\": 1.1, \"yref\": \"paper\"}, {\"font\": {\"color\": \"rgb(55, 128, 191)\", \"family\": \"Arial\", \"size\": 14}, \"showarrow\": false, \"text\": \"Total Count\", \"x\": 120, \"xref\": \"x\", \"y\": 1.1, \"yref\": \"paper\"}, {\"font\": {\"color\": \"rgb(55, 128, 191)\", \"family\": \"Arial\", \"size\": 14}, \"showarrow\": false, \"text\": \"Total Funded Amount\", \"x\": -35, \"xref\": \"x\", \"y\": 1.1, \"yref\": \"paper\"}], \"barmode\": \"stack\", \"paper_bgcolor\": \"rgb(248, 248, 255)\", \"plot_bgcolor\": \"rgb(248, 248, 255)\", \"shapes\": [{\"line\": {\"color\": \"rgb(55, 128, 191)\", \"width\": 14}, \"type\": \"line\", \"x0\": 105, \"x1\": 105.15997156061145, \"y0\": 0, \"y1\": 0}, {\"line\": {\"color\": \"rgb(55, 128, 191)\", \"width\": 14}, \"type\": \"line\", \"x0\": -20, \"x1\": -20.10619329802297, \"y0\": 0, \"y1\": 0}, {\"line\": {\"color\": \"rgb(55, 128, 191)\", \"width\": 14}, \"type\": \"line\", \"x0\": 105, \"x1\": 105.60484485297852, \"y0\": 1, \"y1\": 1}, {\"line\": {\"color\": \"rgb(55, 128, 191)\", \"width\": 14}, \"type\": \"line\", \"x0\": -20, \"x1\": -20.266925376265142, \"y0\": 1, \"y1\": 1}, {\"line\": {\"color\": \"rgb(55, 128, 191)\", \"width\": 14}, \"type\": \"line\", \"x0\": 105, \"x1\": 105.61550962368595, \"y0\": 2, \"y1\": 2}, {\"line\": {\"color\": \"rgb(55, 128, 191)\", \"width\": 14}, \"type\": \"line\", \"x0\": -20, \"x1\": -20.276626986207983, \"y0\": 2, \"y1\": 2}, {\"line\": {\"color\": \"rgb(55, 128, 191)\", \"width\": 14}, \"type\": \"line\", \"x0\": 105, \"x1\": 105.64293331979077, \"y0\": 3, \"y1\": 3}, {\"line\": {\"color\": \"rgb(55, 128, 191)\", \"width\": 14}, \"type\": \"line\", \"x0\": -20, \"x1\": -20.636373171115423, \"y0\": 3, \"y1\": 3}, {\"line\": {\"color\": \"rgb(55, 128, 191)\", \"width\": 14}, \"type\": \"line\", \"x0\": 105, \"x1\": 105.94764105428877, \"y0\": 4, \"y1\": 4}, {\"line\": {\"color\": \"rgb(55, 128, 191)\", \"width\": 14}, \"type\": \"line\", \"x0\": -20, \"x1\": -20.500026220567413, \"y0\": 4, \"y1\": 4}, {\"line\": {\"color\": \"rgb(55, 128, 191)\", \"width\": 14}, \"type\": \"line\", \"x0\": 105, \"x1\": 106.14417754303997, \"y0\": 5, \"y1\": 5}, {\"line\": {\"color\": \"rgb(55, 128, 191)\", \"width\": 14}, \"type\": \"line\", \"x0\": -20, \"x1\": -20.740731029419475, \"y0\": 5, \"y1\": 5}, {\"line\": {\"color\": \"rgb(55, 128, 191)\", \"width\": 14}, \"type\": \"line\", \"x0\": 105, \"x1\": 106.51744451780002, \"y0\": 6, \"y1\": 6}, {\"line\": {\"color\": \"rgb(55, 128, 191)\", \"width\": 14}, \"type\": \"line\", \"x0\": -20, \"x1\": -21.180318842099744, \"y0\": 6, \"y1\": 6}, {\"line\": {\"color\": \"rgb(55, 128, 191)\", \"width\": 14}, \"type\": \"line\", \"x0\": 105, \"x1\": 107.44832664669138, \"y0\": 7, \"y1\": 7}, {\"line\": {\"color\": \"rgb(55, 128, 191)\", \"width\": 14}, \"type\": \"line\", \"x0\": -20, \"x1\": -21.356783260789765, \"y0\": 7, \"y1\": 7}, {\"line\": {\"color\": \"rgb(55, 128, 191)\", \"width\": 14}, \"type\": \"line\", \"x0\": 105, \"x1\": 108.0074653394952, \"y0\": 8, \"y1\": 8}, {\"line\": {\"color\": \"rgb(55, 128, 191)\", \"width\": 14}, \"type\": \"line\", \"x0\": -20, \"x1\": -22.997666369500237, \"y0\": 8, \"y1\": 8}, {\"line\": {\"color\": \"rgb(55, 128, 191)\", \"width\": 14}, \"type\": \"line\", \"x0\": 105, \"x1\": 108.50109186938195, \"y0\": 9, \"y1\": 9}, {\"line\": {\"color\": \"rgb(55, 128, 191)\", \"width\": 14}, \"type\": \"line\", \"x0\": -20, \"x1\": -22.268996801090776, \"y0\": 9, \"y1\": 9}, {\"line\": {\"color\": \"rgb(55, 128, 191)\", \"width\": 14}, \"type\": \"line\", \"x0\": 105, \"x1\": 109.84332943984562, \"y0\": 10, \"y1\": 10}, {\"line\": {\"color\": \"rgb(55, 128, 191)\", \"width\": 14}, \"type\": \"line\", \"x0\": -20, \"x1\": -24.352745293408148, \"y0\": 10, \"y1\": 10}, {\"line\": {\"color\": \"rgb(55, 128, 191)\", \"width\": 14}, \"type\": \"line\", \"x0\": 105, \"x1\": 111.63196384134883, \"y0\": 11, \"y1\": 11}, {\"line\": {\"color\": \"rgb(55, 128, 191)\", \"width\": 14}, \"type\": \"line\", \"x0\": -20, \"x1\": -24.115449158319787, \"y0\": 11, \"y1\": 11}, {\"line\": {\"color\": \"rgb(55, 128, 191)\", \"width\": 14}, \"type\": \"line\", \"x0\": 105, \"x1\": 113.28347976232797, \"y0\": 12, \"y1\": 12}, {\"line\": {\"color\": \"rgb(55, 128, 191)\", \"width\": 14}, \"type\": \"line\", \"x0\": -20, \"x1\": -27.606586606534165, \"y0\": 12, \"y1\": 12}, {\"line\": {\"color\": \"rgb(55, 128, 191)\", \"width\": 14}, \"type\": \"line\", \"x0\": 105, \"x1\": 135.0, \"y0\": 13, \"y1\": 13}, {\"line\": {\"color\": \"rgb(55, 128, 191)\", \"width\": 14}, \"type\": \"line\", \"x0\": -20, \"x1\": -50.0, \"y0\": 13, \"y1\": 13}], \"showlegend\": false, \"title\": \"Count of Loan Requests by Home Ownership and Purpose, 2007-2011\", \"xaxis\": {\"showgrid\": false, \"showline\": false, \"showticklabels\": false, \"zeroline\": false}, \"yaxis\": {\"showgrid\": false, \"showline\": false, \"showticklabels\": false, \"zeroline\": false}},\n",
       "            {\"showLink\": true, \"linkText\": \"Export to plot.ly\"}\n",
       "        ).then(function () {return Plotly.addFrames('16faf405-e674-4d20-a6f0-fedd137b9575',{});}).then(function(){Plotly.animate('16faf405-e674-4d20-a6f0-fedd137b9575');})\n",
       "        });</script>"
      ]
     },
     "metadata": {},
     "output_type": "display_data"
    }
   ],
   "source": [
    "top_labels = Plot4.columns.tolist()\n",
    "\n",
    "colors = [\"#00A0DC\",\"#009687\",\"#DD5143\",\"#E68523\"]\n",
    "\n",
    "x_data = Plot4.drop(columns=['Counts','Funded Amount']).values.tolist()\n",
    "y_data = Plot4.index.tolist()\n",
    "traces = []\n",
    "\n",
    "for i in range(0, len(x_data[0])):\n",
    "    for xd, yd in zip(x_data, y_data):\n",
    "        Info=\"text\" if (i+1)==len(x_data[0]) else \"none\"\n",
    "        if (i+1)==len(x_data[0]):\n",
    "            Info=\"text\"\n",
    "            Text=\"Total Count: \"+Plot4[\"Counts\"].loc[yd].astype(\"str\")\n",
    "        elif i==0:\n",
    "            Info=\"text\"\n",
    "            Text=\"Total Funded Amount: $\"+'{:,}'.format(Plot4[\"Funded Amount\"].loc[yd])+\"k\"\n",
    "        else:\n",
    "            Info=\"text\"\n",
    "            Text=\"\"\n",
    "        traces.append(go.Bar(\n",
    "            x=[xd[i]],\n",
    "            y=[yd],\n",
    "            orientation='h',\n",
    "            hoverinfo=Info,\n",
    "            hoverlabel=dict(bgcolor='rgb(248, 248, 249)'),\n",
    "            text=Text,\n",
    "            marker=dict(\n",
    "                color=colors[i],\n",
    "                line=dict(\n",
    "                        color='rgb(248, 248, 249)',\n",
    "                        width=1)\n",
    "            )\n",
    "        ))\n",
    "\n",
    "layout = go.Layout(\n",
    "    xaxis=dict(\n",
    "        showgrid=False,\n",
    "        showline=False,\n",
    "        showticklabels=False,\n",
    "        zeroline=False,\n",
    "#         domain=[-0.3, 1]\n",
    "    ),\n",
    "    yaxis=dict(\n",
    "        showgrid=False,\n",
    "        showline=False,\n",
    "        showticklabels=False,\n",
    "        zeroline=False,\n",
    "    ),\n",
    "    barmode='stack',\n",
    "    paper_bgcolor='rgb(248, 248, 255)',\n",
    "    plot_bgcolor='rgb(248, 248, 255)',\n",
    "    showlegend=False,\n",
    ")\n",
    "\n",
    "annotations = []\n",
    "shapes = []\n",
    "for i, (yd, xd) in enumerate(zip(y_data, x_data)):\n",
    "    # Horizental bar chart for counts of each record\n",
    "    shapes.append({'type': 'line','x0': 105,'y0': i,'x1': 105 + Plot4.loc[yd]['Counts']*Count_Coeff ,\n",
    "                   'y1': i,'line': {'color': 'rgb(55, 128, 191)','width': 14}})\n",
    "    shapes.append({'type': 'line','x0': -20,'y0': i,'x1': -20 - Plot4.loc[yd]['Funded Amount']*Funded_Coeff,\n",
    "                   'y1': i,'line': {'color': 'rgb(55, 128, 191)','width': 14}})\n",
    "    # labeling the y-axis\n",
    "    annotations.append(dict(xref='paper', yref='y',\n",
    "                            x=0.175, y=yd,\n",
    "                            xanchor='left',\n",
    "                            text=str(yd),\n",
    "                            font=dict(family='Arial', size=12,\n",
    "                                      color='rgb(67, 67, 67)'),\n",
    "                            showarrow=False, align='right'))\n",
    "    space = xd[0]\n",
    "    for i in range(1, len(xd)):\n",
    "            # labeling the rest of percentages for each bar (x_axis)\n",
    "            annotations.append(dict(xref='x', yref='y',\n",
    "                                    x=space + (xd[i]/2), y=yd, \n",
    "                                    text=str(xd[i]) + '%',\n",
    "                                    font=dict(family='Arial', size=12,\n",
    "                                              color='rgb(248, 248, 255)'),\n",
    "                                    showarrow=False))\n",
    "            # labeling the Likert scale\n",
    "            if yd == y_data[-1]:\n",
    "                annotations.append(dict(xref='x', yref='paper',\n",
    "                                        x=space + (xd[i]/2), y=1.1,\n",
    "                                        text=top_labels[i],\n",
    "                                        font=dict(family='Arial', size=14,\n",
    "                                                  color=colors[i]),\n",
    "                                        showarrow=False))\n",
    "            space += xd[i]\n",
    "\n",
    "# Count Labeling            \n",
    "annotations.append(dict(xref='x', yref='paper',x=120, y=1.1,text=\"Total Count\",\n",
    "                        font=dict(family='Arial', size=14,color='rgb(55, 128, 191)'),showarrow=False))\n",
    "annotations.append(dict(xref='x', yref='paper',x=-35, y=1.1,text=\"Total Funded Amount\",\n",
    "                        font=dict(family='Arial', size=14,color='rgb(55, 128, 191)'),showarrow=False))\n",
    "layout['title']='Count of Loan Requests by Home Ownership and Purpose, 2007-2011'\n",
    "layout['shapes'] = shapes\n",
    "layout['annotations'] = annotations\n",
    "fig = go.Figure(data=traces, layout=layout)\n",
    "py.iplot(fig, filename='Plot4')"
   ]
  },
  {
   "cell_type": "code",
   "execution_count": 13,
   "metadata": {},
   "outputs": [
    {
     "data": {
      "text/html": [
       "<div>\n",
       "<style scoped>\n",
       "    .dataframe tbody tr th:only-of-type {\n",
       "        vertical-align: middle;\n",
       "    }\n",
       "\n",
       "    .dataframe tbody tr th {\n",
       "        vertical-align: top;\n",
       "    }\n",
       "\n",
       "    .dataframe thead th {\n",
       "        text-align: right;\n",
       "    }\n",
       "</style>\n",
       "<table border=\"1\" class=\"dataframe\">\n",
       "  <thead>\n",
       "    <tr style=\"text-align: right;\">\n",
       "      <th></th>\n",
       "      <th>Income</th>\n",
       "      <th>Repayment</th>\n",
       "      <th>Funded Amount</th>\n",
       "    </tr>\n",
       "    <tr>\n",
       "      <th>State</th>\n",
       "      <th></th>\n",
       "      <th></th>\n",
       "      <th></th>\n",
       "    </tr>\n",
       "  </thead>\n",
       "  <tbody>\n",
       "    <tr>\n",
       "      <th>Massachusetts</th>\n",
       "      <td>72893</td>\n",
       "      <td>17.820</td>\n",
       "      <td>10423</td>\n",
       "    </tr>\n",
       "    <tr>\n",
       "      <th>Georgia</th>\n",
       "      <td>69306</td>\n",
       "      <td>18.014</td>\n",
       "      <td>10144</td>\n",
       "    </tr>\n",
       "    <tr>\n",
       "      <th>Virginia</th>\n",
       "      <td>74060</td>\n",
       "      <td>18.877</td>\n",
       "      <td>10571</td>\n",
       "    </tr>\n",
       "    <tr>\n",
       "      <th>Pennsylvania</th>\n",
       "      <td>62119</td>\n",
       "      <td>19.030</td>\n",
       "      <td>9829</td>\n",
       "    </tr>\n",
       "    <tr>\n",
       "      <th>Illinois</th>\n",
       "      <td>69834</td>\n",
       "      <td>20.930</td>\n",
       "      <td>10544</td>\n",
       "    </tr>\n",
       "    <tr>\n",
       "      <th>New Jersey</th>\n",
       "      <td>74632</td>\n",
       "      <td>24.970</td>\n",
       "      <td>10626</td>\n",
       "    </tr>\n",
       "    <tr>\n",
       "      <th>Florida</th>\n",
       "      <td>64735</td>\n",
       "      <td>34.227</td>\n",
       "      <td>9610</td>\n",
       "    </tr>\n",
       "    <tr>\n",
       "      <th>Texas</th>\n",
       "      <td>74030</td>\n",
       "      <td>37.028</td>\n",
       "      <td>10581</td>\n",
       "    </tr>\n",
       "    <tr>\n",
       "      <th>New York</th>\n",
       "      <td>72184</td>\n",
       "      <td>49.535</td>\n",
       "      <td>10230</td>\n",
       "    </tr>\n",
       "    <tr>\n",
       "      <th>California</th>\n",
       "      <td>72259</td>\n",
       "      <td>89.302</td>\n",
       "      <td>10388</td>\n",
       "    </tr>\n",
       "  </tbody>\n",
       "</table>\n",
       "</div>"
      ],
      "text/plain": [
       "               Income  Repayment  Funded Amount\n",
       "State                                          \n",
       "Massachusetts   72893     17.820          10423\n",
       "Georgia         69306     18.014          10144\n",
       "Virginia        74060     18.877          10571\n",
       "Pennsylvania    62119     19.030           9829\n",
       "Illinois        69834     20.930          10544\n",
       "New Jersey      74632     24.970          10626\n",
       "Florida         64735     34.227           9610\n",
       "Texas           74030     37.028          10581\n",
       "New York        72184     49.535          10230\n",
       "California      72259     89.302          10388"
      ]
     },
     "execution_count": 13,
     "metadata": {},
     "output_type": "execute_result"
    }
   ],
   "source": [
    "Plot5=df.groupby(['State']).agg({'Income':'mean','Repayment':'sum','Funded Amount':'mean'})\n",
    "Plot5['Income']=(Plot5['Income']).round(0).astype(\"int\")\n",
    "Plot5['Funded Amount']=(Plot5['Funded Amount']).round(0).astype(\"int\")\n",
    "Plot5['Repayment']=(Plot5['Repayment']/1000000).round(3)\n",
    "Plot5.sort_values(by=['Repayment'],ascending=False,inplace=True)\n",
    "Plot5=Plot5.head(10).sort_values(by=['Repayment'])\n",
    "Plot5"
   ]
  },
  {
   "cell_type": "code",
   "execution_count": 14,
   "metadata": {},
   "outputs": [
    {
     "name": "stdout",
     "output_type": "stream",
     "text": [
      "This is the format of your plot grid:\n",
      "[ (1,1) x1,y1 ]  [ (1,2) x2,y2 ]\n",
      "\n"
     ]
    },
    {
     "data": {
      "application/vnd.plotly.v1+json": {
       "data": [
        {
         "hoverinfo": "none",
         "marker": {
          "color": "rgba(50, 171, 96, 0.6)",
          "line": {
           "color": "rgba(50, 171, 96, 1.0)",
           "width": 1
          }
         },
         "name": "Repayment of Top 10 States, Million Dollar",
         "orientation": "h",
         "type": "bar",
         "uid": "e3895382-d502-11e8-af7a-b16ad29151c9",
         "x": [
          17.82,
          18.014,
          18.877,
          19.03,
          20.93,
          24.97,
          34.227,
          37.028,
          49.535,
          89.302
         ],
         "xaxis": "x",
         "y": [
          "Massachusetts",
          "Georgia",
          "Virginia",
          "Pennsylvania",
          "Illinois",
          "New Jersey",
          "Florida",
          "Texas",
          "New York",
          "California"
         ],
         "yaxis": "y"
        },
        {
         "hoverinfo": "x+y",
         "line": {
          "color": "rgb(128, 0, 128)"
         },
         "mode": "lines+markers",
         "name": "Lendee Income & Average Loan Amount of Top 10 States",
         "type": "scatter",
         "uid": "e389ef58-d502-11e8-8b08-b16ad29151c9",
         "x": [
          72893,
          69306,
          74060,
          62119,
          69834,
          74632,
          64735,
          74030,
          72184,
          72259
         ],
         "xaxis": "x2",
         "y": [
          "Massachusetts",
          "Georgia",
          "Virginia",
          "Pennsylvania",
          "Illinois",
          "New Jersey",
          "Florida",
          "Texas",
          "New York",
          "California"
         ],
         "yaxis": "y2"
        }
       ],
       "layout": {
        "annotations": [
         {
          "font": {
           "color": "rgb(128, 0, 128)",
           "family": "Arial",
           "size": 12
          },
          "showarrow": false,
          "text": "$10,423",
          "x": 70393,
          "xref": "x2",
          "y": "Massachusetts",
          "yref": "y2"
         },
         {
          "font": {
           "color": "rgb(50, 171, 96)",
           "family": "Arial",
           "size": 12
          },
          "showarrow": false,
          "text": "17.82",
          "x": 21.82,
          "xref": "x",
          "y": "Massachusetts",
          "yref": "y"
         },
         {
          "font": {
           "color": "rgb(128, 0, 128)",
           "family": "Arial",
           "size": 12
          },
          "showarrow": false,
          "text": "$10,144",
          "x": 66806,
          "xref": "x2",
          "y": "Georgia",
          "yref": "y2"
         },
         {
          "font": {
           "color": "rgb(50, 171, 96)",
           "family": "Arial",
           "size": 12
          },
          "showarrow": false,
          "text": "18.014",
          "x": 22.014,
          "xref": "x",
          "y": "Georgia",
          "yref": "y"
         },
         {
          "font": {
           "color": "rgb(128, 0, 128)",
           "family": "Arial",
           "size": 12
          },
          "showarrow": false,
          "text": "$10,571",
          "x": 71560,
          "xref": "x2",
          "y": "Virginia",
          "yref": "y2"
         },
         {
          "font": {
           "color": "rgb(50, 171, 96)",
           "family": "Arial",
           "size": 12
          },
          "showarrow": false,
          "text": "18.877",
          "x": 22.877,
          "xref": "x",
          "y": "Virginia",
          "yref": "y"
         },
         {
          "font": {
           "color": "rgb(128, 0, 128)",
           "family": "Arial",
           "size": 12
          },
          "showarrow": false,
          "text": "$9,829",
          "x": 59619,
          "xref": "x2",
          "y": "Pennsylvania",
          "yref": "y2"
         },
         {
          "font": {
           "color": "rgb(50, 171, 96)",
           "family": "Arial",
           "size": 12
          },
          "showarrow": false,
          "text": "19.03",
          "x": 23.03,
          "xref": "x",
          "y": "Pennsylvania",
          "yref": "y"
         },
         {
          "font": {
           "color": "rgb(128, 0, 128)",
           "family": "Arial",
           "size": 12
          },
          "showarrow": false,
          "text": "$10,544",
          "x": 67334,
          "xref": "x2",
          "y": "Illinois",
          "yref": "y2"
         },
         {
          "font": {
           "color": "rgb(50, 171, 96)",
           "family": "Arial",
           "size": 12
          },
          "showarrow": false,
          "text": "20.93",
          "x": 24.93,
          "xref": "x",
          "y": "Illinois",
          "yref": "y"
         },
         {
          "font": {
           "color": "rgb(128, 0, 128)",
           "family": "Arial",
           "size": 12
          },
          "showarrow": false,
          "text": "$10,626",
          "x": 72132,
          "xref": "x2",
          "y": "New Jersey",
          "yref": "y2"
         },
         {
          "font": {
           "color": "rgb(50, 171, 96)",
           "family": "Arial",
           "size": 12
          },
          "showarrow": false,
          "text": "24.97",
          "x": 28.97,
          "xref": "x",
          "y": "New Jersey",
          "yref": "y"
         },
         {
          "font": {
           "color": "rgb(128, 0, 128)",
           "family": "Arial",
           "size": 12
          },
          "showarrow": false,
          "text": "$9,610",
          "x": 62235,
          "xref": "x2",
          "y": "Florida",
          "yref": "y2"
         },
         {
          "font": {
           "color": "rgb(50, 171, 96)",
           "family": "Arial",
           "size": 12
          },
          "showarrow": false,
          "text": "34.227",
          "x": 38.227,
          "xref": "x",
          "y": "Florida",
          "yref": "y"
         },
         {
          "font": {
           "color": "rgb(128, 0, 128)",
           "family": "Arial",
           "size": 12
          },
          "showarrow": false,
          "text": "$10,581",
          "x": 71530,
          "xref": "x2",
          "y": "Texas",
          "yref": "y2"
         },
         {
          "font": {
           "color": "rgb(50, 171, 96)",
           "family": "Arial",
           "size": 12
          },
          "showarrow": false,
          "text": "37.028",
          "x": 41.028,
          "xref": "x",
          "y": "Texas",
          "yref": "y"
         },
         {
          "font": {
           "color": "rgb(128, 0, 128)",
           "family": "Arial",
           "size": 12
          },
          "showarrow": false,
          "text": "$10,230",
          "x": 69684,
          "xref": "x2",
          "y": "New York",
          "yref": "y2"
         },
         {
          "font": {
           "color": "rgb(50, 171, 96)",
           "family": "Arial",
           "size": 12
          },
          "showarrow": false,
          "text": "49.535",
          "x": 53.535,
          "xref": "x",
          "y": "New York",
          "yref": "y"
         },
         {
          "font": {
           "color": "rgb(128, 0, 128)",
           "family": "Arial",
           "size": 12
          },
          "showarrow": false,
          "text": "$10,388",
          "x": 69759,
          "xref": "x2",
          "y": "California",
          "yref": "y2"
         },
         {
          "font": {
           "color": "rgb(50, 171, 96)",
           "family": "Arial",
           "size": 12
          },
          "showarrow": false,
          "text": "89.302",
          "x": 93.302,
          "xref": "x",
          "y": "California",
          "yref": "y"
         }
        ],
        "legend": {
         "font": {
          "size": 10
         },
         "x": 0.029,
         "y": 1.038
        },
        "margin": {
         "b": 70,
         "l": 100,
         "r": 20,
         "t": 70
        },
        "paper_bgcolor": "rgb(248, 248, 255)",
        "plot_bgcolor": "rgb(248, 248, 255)",
        "title": "Total Repayment & Income for Top 10 States,  2007-2011",
        "xaxis": {
         "anchor": "y",
         "domain": [
          0,
          0.42
         ],
         "showgrid": true,
         "showline": false,
         "showticklabels": true,
         "zeroline": false
        },
        "xaxis2": {
         "anchor": "y2",
         "domain": [
          0.47,
          1
         ],
         "dtick": 5000,
         "showgrid": true,
         "showline": false,
         "showticklabels": true,
         "side": "top",
         "zeroline": false
        },
        "yaxis": {
         "anchor": "x",
         "domain": [
          0,
          0.85
         ],
         "showgrid": false,
         "showline": false,
         "showticklabels": true
        },
        "yaxis2": {
         "anchor": "x2",
         "domain": [
          0,
          0.85
         ],
         "linecolor": "rgba(102, 102, 102, 0.8)",
         "linewidth": 2,
         "showgrid": false,
         "showline": true,
         "showticklabels": false
        }
       }
      },
      "text/html": [
       "<div id=\"242243e4-8ae4-416c-9b22-17c3e4b79978\" style=\"height: 525px; width: 100%;\" class=\"plotly-graph-div\"></div><script type=\"text/javascript\">require([\"plotly\"], function(Plotly) { window.PLOTLYENV=window.PLOTLYENV || {};window.PLOTLYENV.BASE_URL=\"https://plot.ly\";\n",
       "        Plotly.plot(\n",
       "            '242243e4-8ae4-416c-9b22-17c3e4b79978',\n",
       "            [{\"hoverinfo\": \"none\", \"marker\": {\"color\": \"rgba(50, 171, 96, 0.6)\", \"line\": {\"color\": \"rgba(50, 171, 96, 1.0)\", \"width\": 1}}, \"name\": \"Repayment of Top 10 States, Million Dollar\", \"orientation\": \"h\", \"x\": [17.82, 18.014, 18.877, 19.03, 20.93, 24.97, 34.227, 37.028, 49.535, 89.302], \"y\": [\"Massachusetts\", \"Georgia\", \"Virginia\", \"Pennsylvania\", \"Illinois\", \"New Jersey\", \"Florida\", \"Texas\", \"New York\", \"California\"], \"type\": \"bar\", \"uid\": \"e3895382-d502-11e8-af7a-b16ad29151c9\", \"xaxis\": \"x\", \"yaxis\": \"y\"}, {\"hoverinfo\": \"x+y\", \"line\": {\"color\": \"rgb(128, 0, 128)\"}, \"mode\": \"lines+markers\", \"name\": \"Lendee Income & Average Loan Amount of Top 10 States\", \"x\": [72893, 69306, 74060, 62119, 69834, 74632, 64735, 74030, 72184, 72259], \"y\": [\"Massachusetts\", \"Georgia\", \"Virginia\", \"Pennsylvania\", \"Illinois\", \"New Jersey\", \"Florida\", \"Texas\", \"New York\", \"California\"], \"type\": \"scatter\", \"uid\": \"e389ef58-d502-11e8-8b08-b16ad29151c9\", \"xaxis\": \"x2\", \"yaxis\": \"y2\"}],\n",
       "            {\"xaxis\": {\"anchor\": \"y\", \"domain\": [0, 0.42], \"zeroline\": false, \"showline\": false, \"showticklabels\": true, \"showgrid\": true}, \"yaxis\": {\"anchor\": \"x\", \"domain\": [0, 0.85], \"showgrid\": false, \"showline\": false, \"showticklabels\": true}, \"xaxis2\": {\"anchor\": \"y2\", \"domain\": [0.47, 1], \"zeroline\": false, \"showline\": false, \"showticklabels\": true, \"showgrid\": true, \"side\": \"top\", \"dtick\": 5000}, \"yaxis2\": {\"anchor\": \"x2\", \"domain\": [0, 0.85], \"showgrid\": false, \"showline\": true, \"showticklabels\": false, \"linecolor\": \"rgba(102, 102, 102, 0.8)\", \"linewidth\": 2}, \"legend\": {\"font\": {\"size\": 10}, \"x\": 0.029, \"y\": 1.038}, \"margin\": {\"l\": 100, \"r\": 20, \"t\": 70, \"b\": 70}, \"title\": \"Total Repayment & Income for Top 10 States,  2007-2011\", \"paper_bgcolor\": \"rgb(248, 248, 255)\", \"plot_bgcolor\": \"rgb(248, 248, 255)\", \"annotations\": [{\"font\": {\"color\": \"rgb(128, 0, 128)\", \"family\": \"Arial\", \"size\": 12}, \"showarrow\": false, \"text\": \"$10,423\", \"x\": 70393, \"xref\": \"x2\", \"y\": \"Massachusetts\", \"yref\": \"y2\"}, {\"font\": {\"color\": \"rgb(50, 171, 96)\", \"family\": \"Arial\", \"size\": 12}, \"showarrow\": false, \"text\": \"17.82\", \"x\": 21.82, \"xref\": \"x\", \"y\": \"Massachusetts\", \"yref\": \"y\"}, {\"font\": {\"color\": \"rgb(128, 0, 128)\", \"family\": \"Arial\", \"size\": 12}, \"showarrow\": false, \"text\": \"$10,144\", \"x\": 66806, \"xref\": \"x2\", \"y\": \"Georgia\", \"yref\": \"y2\"}, {\"font\": {\"color\": \"rgb(50, 171, 96)\", \"family\": \"Arial\", \"size\": 12}, \"showarrow\": false, \"text\": \"18.014\", \"x\": 22.014, \"xref\": \"x\", \"y\": \"Georgia\", \"yref\": \"y\"}, {\"font\": {\"color\": \"rgb(128, 0, 128)\", \"family\": \"Arial\", \"size\": 12}, \"showarrow\": false, \"text\": \"$10,571\", \"x\": 71560, \"xref\": \"x2\", \"y\": \"Virginia\", \"yref\": \"y2\"}, {\"font\": {\"color\": \"rgb(50, 171, 96)\", \"family\": \"Arial\", \"size\": 12}, \"showarrow\": false, \"text\": \"18.877\", \"x\": 22.877, \"xref\": \"x\", \"y\": \"Virginia\", \"yref\": \"y\"}, {\"font\": {\"color\": \"rgb(128, 0, 128)\", \"family\": \"Arial\", \"size\": 12}, \"showarrow\": false, \"text\": \"$9,829\", \"x\": 59619, \"xref\": \"x2\", \"y\": \"Pennsylvania\", \"yref\": \"y2\"}, {\"font\": {\"color\": \"rgb(50, 171, 96)\", \"family\": \"Arial\", \"size\": 12}, \"showarrow\": false, \"text\": \"19.03\", \"x\": 23.03, \"xref\": \"x\", \"y\": \"Pennsylvania\", \"yref\": \"y\"}, {\"font\": {\"color\": \"rgb(128, 0, 128)\", \"family\": \"Arial\", \"size\": 12}, \"showarrow\": false, \"text\": \"$10,544\", \"x\": 67334, \"xref\": \"x2\", \"y\": \"Illinois\", \"yref\": \"y2\"}, {\"font\": {\"color\": \"rgb(50, 171, 96)\", \"family\": \"Arial\", \"size\": 12}, \"showarrow\": false, \"text\": \"20.93\", \"x\": 24.93, \"xref\": \"x\", \"y\": \"Illinois\", \"yref\": \"y\"}, {\"font\": {\"color\": \"rgb(128, 0, 128)\", \"family\": \"Arial\", \"size\": 12}, \"showarrow\": false, \"text\": \"$10,626\", \"x\": 72132, \"xref\": \"x2\", \"y\": \"New Jersey\", \"yref\": \"y2\"}, {\"font\": {\"color\": \"rgb(50, 171, 96)\", \"family\": \"Arial\", \"size\": 12}, \"showarrow\": false, \"text\": \"24.97\", \"x\": 28.97, \"xref\": \"x\", \"y\": \"New Jersey\", \"yref\": \"y\"}, {\"font\": {\"color\": \"rgb(128, 0, 128)\", \"family\": \"Arial\", \"size\": 12}, \"showarrow\": false, \"text\": \"$9,610\", \"x\": 62235, \"xref\": \"x2\", \"y\": \"Florida\", \"yref\": \"y2\"}, {\"font\": {\"color\": \"rgb(50, 171, 96)\", \"family\": \"Arial\", \"size\": 12}, \"showarrow\": false, \"text\": \"34.227\", \"x\": 38.227, \"xref\": \"x\", \"y\": \"Florida\", \"yref\": \"y\"}, {\"font\": {\"color\": \"rgb(128, 0, 128)\", \"family\": \"Arial\", \"size\": 12}, \"showarrow\": false, \"text\": \"$10,581\", \"x\": 71530, \"xref\": \"x2\", \"y\": \"Texas\", \"yref\": \"y2\"}, {\"font\": {\"color\": \"rgb(50, 171, 96)\", \"family\": \"Arial\", \"size\": 12}, \"showarrow\": false, \"text\": \"37.028\", \"x\": 41.028, \"xref\": \"x\", \"y\": \"Texas\", \"yref\": \"y\"}, {\"font\": {\"color\": \"rgb(128, 0, 128)\", \"family\": \"Arial\", \"size\": 12}, \"showarrow\": false, \"text\": \"$10,230\", \"x\": 69684, \"xref\": \"x2\", \"y\": \"New York\", \"yref\": \"y2\"}, {\"font\": {\"color\": \"rgb(50, 171, 96)\", \"family\": \"Arial\", \"size\": 12}, \"showarrow\": false, \"text\": \"49.535\", \"x\": 53.535, \"xref\": \"x\", \"y\": \"New York\", \"yref\": \"y\"}, {\"font\": {\"color\": \"rgb(128, 0, 128)\", \"family\": \"Arial\", \"size\": 12}, \"showarrow\": false, \"text\": \"$10,388\", \"x\": 69759, \"xref\": \"x2\", \"y\": \"California\", \"yref\": \"y2\"}, {\"font\": {\"color\": \"rgb(50, 171, 96)\", \"family\": \"Arial\", \"size\": 12}, \"showarrow\": false, \"text\": \"89.302\", \"x\": 93.302, \"xref\": \"x\", \"y\": \"California\", \"yref\": \"y\"}]},\n",
       "            {\"showLink\": true, \"linkText\": \"Export to plot.ly\"}\n",
       "        ).then(function () {return Plotly.addFrames('242243e4-8ae4-416c-9b22-17c3e4b79978',{});}).then(function(){Plotly.animate('242243e4-8ae4-416c-9b22-17c3e4b79978');})\n",
       "        });</script>"
      ],
      "text/vnd.plotly.v1+html": [
       "<div id=\"242243e4-8ae4-416c-9b22-17c3e4b79978\" style=\"height: 525px; width: 100%;\" class=\"plotly-graph-div\"></div><script type=\"text/javascript\">require([\"plotly\"], function(Plotly) { window.PLOTLYENV=window.PLOTLYENV || {};window.PLOTLYENV.BASE_URL=\"https://plot.ly\";\n",
       "        Plotly.plot(\n",
       "            '242243e4-8ae4-416c-9b22-17c3e4b79978',\n",
       "            [{\"hoverinfo\": \"none\", \"marker\": {\"color\": \"rgba(50, 171, 96, 0.6)\", \"line\": {\"color\": \"rgba(50, 171, 96, 1.0)\", \"width\": 1}}, \"name\": \"Repayment of Top 10 States, Million Dollar\", \"orientation\": \"h\", \"x\": [17.82, 18.014, 18.877, 19.03, 20.93, 24.97, 34.227, 37.028, 49.535, 89.302], \"y\": [\"Massachusetts\", \"Georgia\", \"Virginia\", \"Pennsylvania\", \"Illinois\", \"New Jersey\", \"Florida\", \"Texas\", \"New York\", \"California\"], \"type\": \"bar\", \"uid\": \"e3895382-d502-11e8-af7a-b16ad29151c9\", \"xaxis\": \"x\", \"yaxis\": \"y\"}, {\"hoverinfo\": \"x+y\", \"line\": {\"color\": \"rgb(128, 0, 128)\"}, \"mode\": \"lines+markers\", \"name\": \"Lendee Income & Average Loan Amount of Top 10 States\", \"x\": [72893, 69306, 74060, 62119, 69834, 74632, 64735, 74030, 72184, 72259], \"y\": [\"Massachusetts\", \"Georgia\", \"Virginia\", \"Pennsylvania\", \"Illinois\", \"New Jersey\", \"Florida\", \"Texas\", \"New York\", \"California\"], \"type\": \"scatter\", \"uid\": \"e389ef58-d502-11e8-8b08-b16ad29151c9\", \"xaxis\": \"x2\", \"yaxis\": \"y2\"}],\n",
       "            {\"xaxis\": {\"anchor\": \"y\", \"domain\": [0, 0.42], \"zeroline\": false, \"showline\": false, \"showticklabels\": true, \"showgrid\": true}, \"yaxis\": {\"anchor\": \"x\", \"domain\": [0, 0.85], \"showgrid\": false, \"showline\": false, \"showticklabels\": true}, \"xaxis2\": {\"anchor\": \"y2\", \"domain\": [0.47, 1], \"zeroline\": false, \"showline\": false, \"showticklabels\": true, \"showgrid\": true, \"side\": \"top\", \"dtick\": 5000}, \"yaxis2\": {\"anchor\": \"x2\", \"domain\": [0, 0.85], \"showgrid\": false, \"showline\": true, \"showticklabels\": false, \"linecolor\": \"rgba(102, 102, 102, 0.8)\", \"linewidth\": 2}, \"legend\": {\"font\": {\"size\": 10}, \"x\": 0.029, \"y\": 1.038}, \"margin\": {\"l\": 100, \"r\": 20, \"t\": 70, \"b\": 70}, \"title\": \"Total Repayment & Income for Top 10 States,  2007-2011\", \"paper_bgcolor\": \"rgb(248, 248, 255)\", \"plot_bgcolor\": \"rgb(248, 248, 255)\", \"annotations\": [{\"font\": {\"color\": \"rgb(128, 0, 128)\", \"family\": \"Arial\", \"size\": 12}, \"showarrow\": false, \"text\": \"$10,423\", \"x\": 70393, \"xref\": \"x2\", \"y\": \"Massachusetts\", \"yref\": \"y2\"}, {\"font\": {\"color\": \"rgb(50, 171, 96)\", \"family\": \"Arial\", \"size\": 12}, \"showarrow\": false, \"text\": \"17.82\", \"x\": 21.82, \"xref\": \"x\", \"y\": \"Massachusetts\", \"yref\": \"y\"}, {\"font\": {\"color\": \"rgb(128, 0, 128)\", \"family\": \"Arial\", \"size\": 12}, \"showarrow\": false, \"text\": \"$10,144\", \"x\": 66806, \"xref\": \"x2\", \"y\": \"Georgia\", \"yref\": \"y2\"}, {\"font\": {\"color\": \"rgb(50, 171, 96)\", \"family\": \"Arial\", \"size\": 12}, \"showarrow\": false, \"text\": \"18.014\", \"x\": 22.014, \"xref\": \"x\", \"y\": \"Georgia\", \"yref\": \"y\"}, {\"font\": {\"color\": \"rgb(128, 0, 128)\", \"family\": \"Arial\", \"size\": 12}, \"showarrow\": false, \"text\": \"$10,571\", \"x\": 71560, \"xref\": \"x2\", \"y\": \"Virginia\", \"yref\": \"y2\"}, {\"font\": {\"color\": \"rgb(50, 171, 96)\", \"family\": \"Arial\", \"size\": 12}, \"showarrow\": false, \"text\": \"18.877\", \"x\": 22.877, \"xref\": \"x\", \"y\": \"Virginia\", \"yref\": \"y\"}, {\"font\": {\"color\": \"rgb(128, 0, 128)\", \"family\": \"Arial\", \"size\": 12}, \"showarrow\": false, \"text\": \"$9,829\", \"x\": 59619, \"xref\": \"x2\", \"y\": \"Pennsylvania\", \"yref\": \"y2\"}, {\"font\": {\"color\": \"rgb(50, 171, 96)\", \"family\": \"Arial\", \"size\": 12}, \"showarrow\": false, \"text\": \"19.03\", \"x\": 23.03, \"xref\": \"x\", \"y\": \"Pennsylvania\", \"yref\": \"y\"}, {\"font\": {\"color\": \"rgb(128, 0, 128)\", \"family\": \"Arial\", \"size\": 12}, \"showarrow\": false, \"text\": \"$10,544\", \"x\": 67334, \"xref\": \"x2\", \"y\": \"Illinois\", \"yref\": \"y2\"}, {\"font\": {\"color\": \"rgb(50, 171, 96)\", \"family\": \"Arial\", \"size\": 12}, \"showarrow\": false, \"text\": \"20.93\", \"x\": 24.93, \"xref\": \"x\", \"y\": \"Illinois\", \"yref\": \"y\"}, {\"font\": {\"color\": \"rgb(128, 0, 128)\", \"family\": \"Arial\", \"size\": 12}, \"showarrow\": false, \"text\": \"$10,626\", \"x\": 72132, \"xref\": \"x2\", \"y\": \"New Jersey\", \"yref\": \"y2\"}, {\"font\": {\"color\": \"rgb(50, 171, 96)\", \"family\": \"Arial\", \"size\": 12}, \"showarrow\": false, \"text\": \"24.97\", \"x\": 28.97, \"xref\": \"x\", \"y\": \"New Jersey\", \"yref\": \"y\"}, {\"font\": {\"color\": \"rgb(128, 0, 128)\", \"family\": \"Arial\", \"size\": 12}, \"showarrow\": false, \"text\": \"$9,610\", \"x\": 62235, \"xref\": \"x2\", \"y\": \"Florida\", \"yref\": \"y2\"}, {\"font\": {\"color\": \"rgb(50, 171, 96)\", \"family\": \"Arial\", \"size\": 12}, \"showarrow\": false, \"text\": \"34.227\", \"x\": 38.227, \"xref\": \"x\", \"y\": \"Florida\", \"yref\": \"y\"}, {\"font\": {\"color\": \"rgb(128, 0, 128)\", \"family\": \"Arial\", \"size\": 12}, \"showarrow\": false, \"text\": \"$10,581\", \"x\": 71530, \"xref\": \"x2\", \"y\": \"Texas\", \"yref\": \"y2\"}, {\"font\": {\"color\": \"rgb(50, 171, 96)\", \"family\": \"Arial\", \"size\": 12}, \"showarrow\": false, \"text\": \"37.028\", \"x\": 41.028, \"xref\": \"x\", \"y\": \"Texas\", \"yref\": \"y\"}, {\"font\": {\"color\": \"rgb(128, 0, 128)\", \"family\": \"Arial\", \"size\": 12}, \"showarrow\": false, \"text\": \"$10,230\", \"x\": 69684, \"xref\": \"x2\", \"y\": \"New York\", \"yref\": \"y2\"}, {\"font\": {\"color\": \"rgb(50, 171, 96)\", \"family\": \"Arial\", \"size\": 12}, \"showarrow\": false, \"text\": \"49.535\", \"x\": 53.535, \"xref\": \"x\", \"y\": \"New York\", \"yref\": \"y\"}, {\"font\": {\"color\": \"rgb(128, 0, 128)\", \"family\": \"Arial\", \"size\": 12}, \"showarrow\": false, \"text\": \"$10,388\", \"x\": 69759, \"xref\": \"x2\", \"y\": \"California\", \"yref\": \"y2\"}, {\"font\": {\"color\": \"rgb(50, 171, 96)\", \"family\": \"Arial\", \"size\": 12}, \"showarrow\": false, \"text\": \"89.302\", \"x\": 93.302, \"xref\": \"x\", \"y\": \"California\", \"yref\": \"y\"}]},\n",
       "            {\"showLink\": true, \"linkText\": \"Export to plot.ly\"}\n",
       "        ).then(function () {return Plotly.addFrames('242243e4-8ae4-416c-9b22-17c3e4b79978',{});}).then(function(){Plotly.animate('242243e4-8ae4-416c-9b22-17c3e4b79978');})\n",
       "        });</script>"
      ]
     },
     "metadata": {},
     "output_type": "display_data"
    }
   ],
   "source": [
    "from plotly import tools\n",
    "\n",
    "\n",
    "y_0 = Plot5['Repayment'].tolist()\n",
    "y_1 = Plot5['Income'].tolist()\n",
    "x = Plot5.index.tolist()\n",
    "\n",
    "trace0 = go.Bar(\n",
    "    x=y_0,\n",
    "    y=x,\n",
    "    marker=dict(\n",
    "        color='rgba(50, 171, 96, 0.6)',\n",
    "        line=dict(\n",
    "            color='rgba(50, 171, 96, 1.0)',\n",
    "            width=1),\n",
    "    ),\n",
    "    name='Repayment of Top 10 States, Million Dollar',\n",
    "    orientation='h',\n",
    "    hoverinfo='none'\n",
    ")\n",
    "trace1 = go.Scatter(\n",
    "    x=y_1,\n",
    "    y=x,\n",
    "    mode='lines+markers',\n",
    "    line=dict(\n",
    "        color='rgb(128, 0, 128)'),\n",
    "    name='Lendee Income & Average Loan Amount of Top 10 States',\n",
    "    hoverinfo=\"x+y\"\n",
    ")\n",
    "layout = dict(\n",
    "    title='Total Repayment & Income for Top 10 States,  2007-2011',\n",
    "    yaxis=dict(\n",
    "        showgrid=False,\n",
    "        showline=False,\n",
    "        showticklabels=True,\n",
    "        domain=[0, 0.85],\n",
    "    ),\n",
    "    yaxis2=dict(\n",
    "        showgrid=False,\n",
    "        showline=True,\n",
    "        showticklabels=False,\n",
    "        linecolor='rgba(102, 102, 102, 0.8)',\n",
    "        linewidth=2,\n",
    "        domain=[0, 0.85],\n",
    "    ),\n",
    "    xaxis=dict(\n",
    "        zeroline=False,\n",
    "        showline=False,\n",
    "        showticklabels=True,\n",
    "        showgrid=True,\n",
    "        domain=[0, 0.42],\n",
    "    ),\n",
    "    xaxis2=dict(\n",
    "        zeroline=False,\n",
    "        showline=False,\n",
    "        showticklabels=True,\n",
    "        showgrid=True,\n",
    "        domain=[0.47, 1],\n",
    "        side='top',\n",
    "        dtick=5000,\n",
    "    ),\n",
    "    legend=dict(\n",
    "        x=0.029,\n",
    "        y=1.038,\n",
    "        font=dict(\n",
    "            size=10,\n",
    "        ),\n",
    "    ),\n",
    "    margin=dict(\n",
    "        l=100,\n",
    "        r=20,\n",
    "        t=70,\n",
    "        b=70,\n",
    "    ),\n",
    "    paper_bgcolor='rgb(248, 248, 255)',\n",
    "    plot_bgcolor='rgb(248, 248, 255)',\n",
    ")\n",
    "\n",
    "annotations = []\n",
    "\n",
    "# Adding labels\n",
    "for ydn, yd, xd, fa in zip(y_1, y_0, x,Plot5['Funded Amount'].tolist()):\n",
    "    # labeling the scatter \n",
    "    annotations.append(dict(xref='x2', yref='y2',\n",
    "                            y=xd, x=ydn-2500,\n",
    "                            text='$'+'{:,}'.format(fa),\n",
    "                            font=dict(family='Arial', size=12,\n",
    "                                      color='rgb(128, 0, 128)'),\n",
    "                            showarrow=False))\n",
    "    # labeling the bar \n",
    "    annotations.append(dict(xref='x1', yref='y1',\n",
    "                            y=xd, x=yd + 4,\n",
    "                            text=str(yd) ,\n",
    "                            font=dict(family='Arial', size=12,\n",
    "                                      color='rgb(50, 171, 96)'),\n",
    "                            showarrow=False))\n",
    "\n",
    "layout['annotations'] = annotations\n",
    "\n",
    "# Creating two subplots\n",
    "fig = tools.make_subplots(rows=1, cols=2, specs=[[{}, {}]], shared_xaxes=True,\n",
    "                          shared_yaxes=False, vertical_spacing=0.001)\n",
    "\n",
    "fig.append_trace(trace0, 1, 1)\n",
    "fig.append_trace(trace1, 1, 2)\n",
    "\n",
    "fig['layout'].update(layout)\n",
    "py.iplot(fig, filename='Plot5')"
   ]
  },
  {
   "cell_type": "code",
   "execution_count": null,
   "metadata": {},
   "outputs": [],
   "source": []
  }
 ],
 "metadata": {
  "kernelspec": {
   "display_name": "Python 3",
   "language": "python",
   "name": "python3"
  },
  "language_info": {
   "codemirror_mode": {
    "name": "ipython",
    "version": 3
   },
   "file_extension": ".py",
   "mimetype": "text/x-python",
   "name": "python",
   "nbconvert_exporter": "python",
   "pygments_lexer": "ipython3",
   "version": "3.7.1"
  }
 },
 "nbformat": 4,
 "nbformat_minor": 2
}
