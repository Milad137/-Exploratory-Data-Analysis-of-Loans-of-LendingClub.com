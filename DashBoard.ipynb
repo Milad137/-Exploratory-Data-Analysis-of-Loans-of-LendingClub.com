{
 "cells": [
  {
   "cell_type": "code",
   "execution_count": 1,
   "metadata": {},
   "outputs": [],
   "source": [
    "import plotly.dashboard_objs as dashboard\n",
    "import plotly.plotly as py\n",
    "import IPython.display\n",
    "from IPython.display import Image\n",
    "\n",
    "my_dboard = dashboard.Dashboard()"
   ]
  },
  {
   "cell_type": "code",
   "execution_count": 32,
   "metadata": {},
   "outputs": [],
   "source": [
    "Plot1 = {\n",
    "    'type': 'box',\n",
    "    'boxType': 'plot',\n",
    "    'fileId': 'milad137:41',\n",
    "    'title': 'Total Funded Amount & Repayment of Loans, 2007-2011'\n",
    "}\n",
    "Plot2 = {\n",
    "    'type': 'box',\n",
    "    'boxType': 'plot',\n",
    "    'fileId': 'milad137:43',\n",
    "    'title': 'Funded Amount($1M) by Purpose and Loan Status, 2007-2011'\n",
    "}\n",
    "Plot3 = {\n",
    "    'type': 'box',\n",
    "    'boxType': 'plot',\n",
    "    'fileId': 'milad137:45',\n",
    "    'title': 'Total Funded Amount($1M) by State, 2007-2011 Hover for Average Annual Income and Interest Rate Detail'\n",
    "}\n",
    "Plot4 = {\n",
    "    'type': 'box',\n",
    "    'boxType': 'plot',\n",
    "    'fileId': 'milad137:47',\n",
    "    'title': 'Count of Loan Requests by Home Ownership and Purpose, 2007-2011'\n",
    "}\n",
    "Plot5 = {\n",
    "    'type': 'box',\n",
    "    'boxType': 'plot',\n",
    "    'fileId': 'milad137:49',\n",
    "    'title': 'Total Repayment & Income for Top 10 States, 2007-2011'\n",
    "}"
   ]
  },
  {
   "cell_type": "code",
   "execution_count": 42,
   "metadata": {},
   "outputs": [],
   "source": [
    "my_dboard = dashboard.Dashboard()\n",
    "my_dboard.insert(Plot3)\n",
    "my_dboard.insert(Plot4, 'below', 1)\n",
    "my_dboard.insert(Plot2, 'right', 1,fill_percent=30)\n",
    "my_dboard.insert(Plot1, 'left', 1,fill_percent=40)\n",
    "my_dboard.insert(Plot5, 'left', 4,fill_percent=35)\n",
    "my_dboard['layout']['size'] = 1000"
   ]
  },
  {
   "cell_type": "code",
   "execution_count": 43,
   "metadata": {},
   "outputs": [
    {
     "data": {
      "text/html": [
       "\n",
       "<!DOCTYPE HTML>\n",
       "<html>\n",
       "  <head>\n",
       "    <style>\n",
       "      body {\n",
       "        margin: 0px;\n",
       "        padding: 0px;\n",
       "      }\n",
       "    </style>\n",
       "  </head>\n",
       "  <body>\n",
       "    <canvas id=\"myCanvas\" width=\"500\" height=\"500\"></canvas>\n",
       "    <script>\n",
       "      var canvas = document.getElementById('myCanvas');\n",
       "      var context = canvas.getContext('2d');\n",
       "      <!-- Dashboard -->\n",
       "      context.beginPath();\n",
       "      context.rect(0, 0, 500, 500);\n",
       "      context.lineWidth = 2;\n",
       "      context.strokeStyle = 'black';\n",
       "      context.stroke();\n",
       "     <!-- Draw some lines in -->\n",
       "          context.beginPath();\n",
       "          context.rect(0, 250.0, 500, 1);\n",
       "          context.lineWidth = 1;\n",
       "          context.strokeStyle = 'black';\n",
       "          context.stroke();\n",
       "    <!-- Draw some lines in -->\n",
       "          context.beginPath();\n",
       "          context.rect(350.0, 0, 1, 250.0);\n",
       "          context.lineWidth = 1;\n",
       "          context.strokeStyle = 'black';\n",
       "          context.stroke();\n",
       "    <!-- Draw some lines in -->\n",
       "          context.beginPath();\n",
       "          context.rect(175.0, 250.0, 1, 250.0);\n",
       "          context.lineWidth = 1;\n",
       "          context.strokeStyle = 'black';\n",
       "          context.stroke();\n",
       "    <!-- Draw some lines in -->\n",
       "          context.beginPath();\n",
       "          context.rect(140.0, 0, 1, 250.0);\n",
       "          context.lineWidth = 1;\n",
       "          context.strokeStyle = 'black';\n",
       "          context.stroke();\n",
       "    <!-- Insert box numbers -->\n",
       "          context.font = '9pt Times New Roman';\n",
       "          context.textAlign = 'center';\n",
       "          context.fillText(3, 350.0 + 0.5*150.0, 0 + 0.5*250.0);\n",
       "    <!-- Insert box numbers -->\n",
       "          context.font = '9pt Times New Roman';\n",
       "          context.textAlign = 'center';\n",
       "          context.fillText(4, 0 + 0.5*175.0, 250.0 + 0.5*250.0);\n",
       "    <!-- Insert box numbers -->\n",
       "          context.font = '9pt Times New Roman';\n",
       "          context.textAlign = 'center';\n",
       "          context.fillText(5, 175.0 + 0.5*325.0, 250.0 + 0.5*250.0);\n",
       "    <!-- Insert box numbers -->\n",
       "          context.font = '9pt Times New Roman';\n",
       "          context.textAlign = 'center';\n",
       "          context.fillText(1, 0 + 0.5*140.0, 0 + 0.5*250.0);\n",
       "    <!-- Insert box numbers -->\n",
       "          context.font = '9pt Times New Roman';\n",
       "          context.textAlign = 'center';\n",
       "          context.fillText(2, 140.0 + 0.5*210.0, 0 + 0.5*250.0);\n",
       "     </script>\n",
       "  </body>\n",
       "</html>\n"
      ],
      "text/plain": [
       "<IPython.core.display.HTML object>"
      ]
     },
     "execution_count": 43,
     "metadata": {},
     "output_type": "execute_result"
    }
   ],
   "source": [
    "my_dboard['settings']['title'] = 'DashBoard - LendingClub Loan Data 2007-2011'\n",
    "my_dboard.get_preview()"
   ]
  },
  {
   "cell_type": "code",
   "execution_count": 44,
   "metadata": {},
   "outputs": [
    {
     "data": {
      "text/plain": [
       "'https://plot.ly/~milad137/54/dashboard-lendingclub-loan-data-2007-2011/'"
      ]
     },
     "execution_count": 44,
     "metadata": {},
     "output_type": "execute_result"
    }
   ],
   "source": [
    "py.dashboard_ops.upload(my_dboard, 'Dashboard_LC')"
   ]
  },
  {
   "cell_type": "code",
   "execution_count": null,
   "metadata": {},
   "outputs": [],
   "source": []
  },
  {
   "cell_type": "code",
   "execution_count": null,
   "metadata": {},
   "outputs": [],
   "source": []
  }
 ],
 "metadata": {
  "kernelspec": {
   "display_name": "Python 3",
   "language": "python",
   "name": "python3"
  },
  "language_info": {
   "codemirror_mode": {
    "name": "ipython",
    "version": 3
   },
   "file_extension": ".py",
   "mimetype": "text/x-python",
   "name": "python",
   "nbconvert_exporter": "python",
   "pygments_lexer": "ipython3",
   "version": "3.6.5"
  }
 },
 "nbformat": 4,
 "nbformat_minor": 2
}
